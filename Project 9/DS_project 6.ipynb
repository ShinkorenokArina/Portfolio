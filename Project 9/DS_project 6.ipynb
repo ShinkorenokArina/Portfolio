{
 "cells": [
  {
   "cell_type": "markdown",
   "metadata": {},
   "source": [
    "# Определение стоимости автомобилей"
   ]
  },
  {
   "cell_type": "markdown",
   "metadata": {},
   "source": [
    "Сервис по продаже автомобилей с пробегом разрабатывает приложение для привлечения новых клиентов. В нём можно быстро узнать рыночную стоимость своего автомобиля. Имеются исторические данные: технические характеристики, комплектации и цены автомобилей. Нужно построить модель для определения стоимости. \n",
    "\n",
    "Заказчику важны:\n",
    "\n",
    "- качество предсказания;\n",
    "- скорость предсказания;\n",
    "- время обучения."
   ]
  },
  {
   "cell_type": "markdown",
   "metadata": {},
   "source": [
    "**Признаки**\n",
    "\n",
    "- DateCrawled — дата скачивания анкеты из базы\n",
    "- VehicleType — тип автомобильного кузова\n",
    "- RegistrationYear — год регистрации автомобиля\n",
    "- Gearbox — тип коробки передач\n",
    "- Power — мощность (л. с.)\n",
    "- Model — модель автомобиля\n",
    "- Kilometer — пробег (км)\n",
    "- RegistrationMonth — месяц регистрации автомобиля\n",
    "- FuelType — тип топлива\n",
    "- Brand — марка автомобиля\n",
    "- NotRepaired — была машина в ремонте или нет\n",
    "- DateCreated — дата создания анкеты\n",
    "- NumberOfPictures — количество фотографий автомобиля\n",
    "- PostalCode — почтовый индекс владельца анкеты (пользователя)\n",
    "- LastSeen — дата последней активности пользователя\n",
    "\n",
    "**Целевой признак**\n",
    "\n",
    "- Price — цена (евро)"
   ]
  },
  {
   "cell_type": "markdown",
   "metadata": {},
   "source": [
    "**План работы**\n",
    "\n",
    "- Загрузить данные и провести предобработку.\n",
    "- Выполнить сравнение моделей с использованием различных наборов гиперпараметров.\n",
    "- Выбрать лучшую модель по результатам метрики RMSE и времени обучения.\n",
    "- Оформить проект и написать выводы."
   ]
  },
  {
   "cell_type": "markdown",
   "metadata": {},
   "source": [
    "## Подготовка данных"
   ]
  },
  {
   "cell_type": "code",
   "execution_count": 1,
   "metadata": {},
   "outputs": [],
   "source": [
    "import numpy as np\n",
    "import pandas as pd\n",
    "import matplotlib.pyplot as plt\n",
    "import seaborn as sns\n",
    "\n",
    "from sklearn.model_selection import train_test_split\n",
    "from sklearn.model_selection import GridSearchCV\n",
    "from sklearn.preprocessing import StandardScaler\n",
    "from sklearn.metrics import mean_squared_error\n",
    "from sklearn.preprocessing import OrdinalEncoder\n",
    "from sklearn.linear_model import LinearRegression\n",
    "from catboost import Pool, CatBoostRegressor\n",
    "from lightgbm import LGBMRegressor\n",
    "import time\n",
    "from sklearn.model_selection import cross_val_score\n",
    "from sklearn.pipeline import Pipeline\n",
    "from sklearn.preprocessing import MinMaxScaler\n",
    "\n",
    "import warnings\n",
    "warnings.filterwarnings('ignore')"
   ]
  },
  {
   "cell_type": "code",
   "execution_count": 2,
   "metadata": {},
   "outputs": [
    {
     "data": {
      "text/html": [
       "<div>\n",
       "<style scoped>\n",
       "    .dataframe tbody tr th:only-of-type {\n",
       "        vertical-align: middle;\n",
       "    }\n",
       "\n",
       "    .dataframe tbody tr th {\n",
       "        vertical-align: top;\n",
       "    }\n",
       "\n",
       "    .dataframe thead th {\n",
       "        text-align: right;\n",
       "    }\n",
       "</style>\n",
       "<table border=\"1\" class=\"dataframe\">\n",
       "  <thead>\n",
       "    <tr style=\"text-align: right;\">\n",
       "      <th></th>\n",
       "      <th>DateCrawled</th>\n",
       "      <th>Price</th>\n",
       "      <th>VehicleType</th>\n",
       "      <th>RegistrationYear</th>\n",
       "      <th>Gearbox</th>\n",
       "      <th>Power</th>\n",
       "      <th>Model</th>\n",
       "      <th>Kilometer</th>\n",
       "      <th>RegistrationMonth</th>\n",
       "      <th>FuelType</th>\n",
       "      <th>Brand</th>\n",
       "      <th>NotRepaired</th>\n",
       "      <th>DateCreated</th>\n",
       "      <th>NumberOfPictures</th>\n",
       "      <th>PostalCode</th>\n",
       "      <th>LastSeen</th>\n",
       "    </tr>\n",
       "  </thead>\n",
       "  <tbody>\n",
       "    <tr>\n",
       "      <th>0</th>\n",
       "      <td>2016-03-24 11:52:17</td>\n",
       "      <td>480</td>\n",
       "      <td>NaN</td>\n",
       "      <td>1993</td>\n",
       "      <td>manual</td>\n",
       "      <td>0</td>\n",
       "      <td>golf</td>\n",
       "      <td>150000</td>\n",
       "      <td>0</td>\n",
       "      <td>petrol</td>\n",
       "      <td>volkswagen</td>\n",
       "      <td>NaN</td>\n",
       "      <td>2016-03-24 00:00:00</td>\n",
       "      <td>0</td>\n",
       "      <td>70435</td>\n",
       "      <td>2016-04-07 03:16:57</td>\n",
       "    </tr>\n",
       "    <tr>\n",
       "      <th>1</th>\n",
       "      <td>2016-03-24 10:58:45</td>\n",
       "      <td>18300</td>\n",
       "      <td>coupe</td>\n",
       "      <td>2011</td>\n",
       "      <td>manual</td>\n",
       "      <td>190</td>\n",
       "      <td>NaN</td>\n",
       "      <td>125000</td>\n",
       "      <td>5</td>\n",
       "      <td>gasoline</td>\n",
       "      <td>audi</td>\n",
       "      <td>yes</td>\n",
       "      <td>2016-03-24 00:00:00</td>\n",
       "      <td>0</td>\n",
       "      <td>66954</td>\n",
       "      <td>2016-04-07 01:46:50</td>\n",
       "    </tr>\n",
       "    <tr>\n",
       "      <th>2</th>\n",
       "      <td>2016-03-14 12:52:21</td>\n",
       "      <td>9800</td>\n",
       "      <td>suv</td>\n",
       "      <td>2004</td>\n",
       "      <td>auto</td>\n",
       "      <td>163</td>\n",
       "      <td>grand</td>\n",
       "      <td>125000</td>\n",
       "      <td>8</td>\n",
       "      <td>gasoline</td>\n",
       "      <td>jeep</td>\n",
       "      <td>NaN</td>\n",
       "      <td>2016-03-14 00:00:00</td>\n",
       "      <td>0</td>\n",
       "      <td>90480</td>\n",
       "      <td>2016-04-05 12:47:46</td>\n",
       "    </tr>\n",
       "    <tr>\n",
       "      <th>3</th>\n",
       "      <td>2016-03-17 16:54:04</td>\n",
       "      <td>1500</td>\n",
       "      <td>small</td>\n",
       "      <td>2001</td>\n",
       "      <td>manual</td>\n",
       "      <td>75</td>\n",
       "      <td>golf</td>\n",
       "      <td>150000</td>\n",
       "      <td>6</td>\n",
       "      <td>petrol</td>\n",
       "      <td>volkswagen</td>\n",
       "      <td>no</td>\n",
       "      <td>2016-03-17 00:00:00</td>\n",
       "      <td>0</td>\n",
       "      <td>91074</td>\n",
       "      <td>2016-03-17 17:40:17</td>\n",
       "    </tr>\n",
       "    <tr>\n",
       "      <th>4</th>\n",
       "      <td>2016-03-31 17:25:20</td>\n",
       "      <td>3600</td>\n",
       "      <td>small</td>\n",
       "      <td>2008</td>\n",
       "      <td>manual</td>\n",
       "      <td>69</td>\n",
       "      <td>fabia</td>\n",
       "      <td>90000</td>\n",
       "      <td>7</td>\n",
       "      <td>gasoline</td>\n",
       "      <td>skoda</td>\n",
       "      <td>no</td>\n",
       "      <td>2016-03-31 00:00:00</td>\n",
       "      <td>0</td>\n",
       "      <td>60437</td>\n",
       "      <td>2016-04-06 10:17:21</td>\n",
       "    </tr>\n",
       "  </tbody>\n",
       "</table>\n",
       "</div>"
      ],
      "text/plain": [
       "           DateCrawled  Price VehicleType  RegistrationYear Gearbox  Power  \\\n",
       "0  2016-03-24 11:52:17    480         NaN              1993  manual      0   \n",
       "1  2016-03-24 10:58:45  18300       coupe              2011  manual    190   \n",
       "2  2016-03-14 12:52:21   9800         suv              2004    auto    163   \n",
       "3  2016-03-17 16:54:04   1500       small              2001  manual     75   \n",
       "4  2016-03-31 17:25:20   3600       small              2008  manual     69   \n",
       "\n",
       "   Model  Kilometer  RegistrationMonth  FuelType       Brand NotRepaired  \\\n",
       "0   golf     150000                  0    petrol  volkswagen         NaN   \n",
       "1    NaN     125000                  5  gasoline        audi         yes   \n",
       "2  grand     125000                  8  gasoline        jeep         NaN   \n",
       "3   golf     150000                  6    petrol  volkswagen          no   \n",
       "4  fabia      90000                  7  gasoline       skoda          no   \n",
       "\n",
       "           DateCreated  NumberOfPictures  PostalCode             LastSeen  \n",
       "0  2016-03-24 00:00:00                 0       70435  2016-04-07 03:16:57  \n",
       "1  2016-03-24 00:00:00                 0       66954  2016-04-07 01:46:50  \n",
       "2  2016-03-14 00:00:00                 0       90480  2016-04-05 12:47:46  \n",
       "3  2016-03-17 00:00:00                 0       91074  2016-03-17 17:40:17  \n",
       "4  2016-03-31 00:00:00                 0       60437  2016-04-06 10:17:21  "
      ]
     },
     "execution_count": 2,
     "metadata": {},
     "output_type": "execute_result"
    }
   ],
   "source": [
    "data = pd.read_csv(\"/datasets/autos.csv\")\n",
    "data.head()"
   ]
  },
  {
   "cell_type": "code",
   "execution_count": 3,
   "metadata": {},
   "outputs": [
    {
     "name": "stdout",
     "output_type": "stream",
     "text": [
      "<class 'pandas.core.frame.DataFrame'>\n",
      "RangeIndex: 354369 entries, 0 to 354368\n",
      "Data columns (total 16 columns):\n",
      " #   Column             Non-Null Count   Dtype \n",
      "---  ------             --------------   ----- \n",
      " 0   DateCrawled        354369 non-null  object\n",
      " 1   Price              354369 non-null  int64 \n",
      " 2   VehicleType        316879 non-null  object\n",
      " 3   RegistrationYear   354369 non-null  int64 \n",
      " 4   Gearbox            334536 non-null  object\n",
      " 5   Power              354369 non-null  int64 \n",
      " 6   Model              334664 non-null  object\n",
      " 7   Kilometer          354369 non-null  int64 \n",
      " 8   RegistrationMonth  354369 non-null  int64 \n",
      " 9   FuelType           321474 non-null  object\n",
      " 10  Brand              354369 non-null  object\n",
      " 11  NotRepaired        283215 non-null  object\n",
      " 12  DateCreated        354369 non-null  object\n",
      " 13  NumberOfPictures   354369 non-null  int64 \n",
      " 14  PostalCode         354369 non-null  int64 \n",
      " 15  LastSeen           354369 non-null  object\n",
      "dtypes: int64(7), object(9)\n",
      "memory usage: 43.3+ MB\n"
     ]
    },
    {
     "data": {
      "text/plain": [
       "None"
      ]
     },
     "metadata": {},
     "output_type": "display_data"
    }
   ],
   "source": [
    "display(data.info())"
   ]
  },
  {
   "cell_type": "code",
   "execution_count": 4,
   "metadata": {},
   "outputs": [
    {
     "data": {
      "text/html": [
       "<div>\n",
       "<style scoped>\n",
       "    .dataframe tbody tr th:only-of-type {\n",
       "        vertical-align: middle;\n",
       "    }\n",
       "\n",
       "    .dataframe tbody tr th {\n",
       "        vertical-align: top;\n",
       "    }\n",
       "\n",
       "    .dataframe thead th {\n",
       "        text-align: right;\n",
       "    }\n",
       "</style>\n",
       "<table border=\"1\" class=\"dataframe\">\n",
       "  <thead>\n",
       "    <tr style=\"text-align: right;\">\n",
       "      <th></th>\n",
       "      <th>Price</th>\n",
       "      <th>RegistrationYear</th>\n",
       "      <th>Power</th>\n",
       "      <th>Kilometer</th>\n",
       "      <th>RegistrationMonth</th>\n",
       "      <th>NumberOfPictures</th>\n",
       "      <th>PostalCode</th>\n",
       "    </tr>\n",
       "  </thead>\n",
       "  <tbody>\n",
       "    <tr>\n",
       "      <th>count</th>\n",
       "      <td>354369.000000</td>\n",
       "      <td>354369.000000</td>\n",
       "      <td>354369.000000</td>\n",
       "      <td>354369.000000</td>\n",
       "      <td>354369.000000</td>\n",
       "      <td>354369.0</td>\n",
       "      <td>354369.000000</td>\n",
       "    </tr>\n",
       "    <tr>\n",
       "      <th>mean</th>\n",
       "      <td>4416.656776</td>\n",
       "      <td>2004.234448</td>\n",
       "      <td>110.094337</td>\n",
       "      <td>128211.172535</td>\n",
       "      <td>5.714645</td>\n",
       "      <td>0.0</td>\n",
       "      <td>50508.689087</td>\n",
       "    </tr>\n",
       "    <tr>\n",
       "      <th>std</th>\n",
       "      <td>4514.158514</td>\n",
       "      <td>90.227958</td>\n",
       "      <td>189.850405</td>\n",
       "      <td>37905.341530</td>\n",
       "      <td>3.726421</td>\n",
       "      <td>0.0</td>\n",
       "      <td>25783.096248</td>\n",
       "    </tr>\n",
       "    <tr>\n",
       "      <th>min</th>\n",
       "      <td>0.000000</td>\n",
       "      <td>1000.000000</td>\n",
       "      <td>0.000000</td>\n",
       "      <td>5000.000000</td>\n",
       "      <td>0.000000</td>\n",
       "      <td>0.0</td>\n",
       "      <td>1067.000000</td>\n",
       "    </tr>\n",
       "    <tr>\n",
       "      <th>25%</th>\n",
       "      <td>1050.000000</td>\n",
       "      <td>1999.000000</td>\n",
       "      <td>69.000000</td>\n",
       "      <td>125000.000000</td>\n",
       "      <td>3.000000</td>\n",
       "      <td>0.0</td>\n",
       "      <td>30165.000000</td>\n",
       "    </tr>\n",
       "    <tr>\n",
       "      <th>50%</th>\n",
       "      <td>2700.000000</td>\n",
       "      <td>2003.000000</td>\n",
       "      <td>105.000000</td>\n",
       "      <td>150000.000000</td>\n",
       "      <td>6.000000</td>\n",
       "      <td>0.0</td>\n",
       "      <td>49413.000000</td>\n",
       "    </tr>\n",
       "    <tr>\n",
       "      <th>75%</th>\n",
       "      <td>6400.000000</td>\n",
       "      <td>2008.000000</td>\n",
       "      <td>143.000000</td>\n",
       "      <td>150000.000000</td>\n",
       "      <td>9.000000</td>\n",
       "      <td>0.0</td>\n",
       "      <td>71083.000000</td>\n",
       "    </tr>\n",
       "    <tr>\n",
       "      <th>max</th>\n",
       "      <td>20000.000000</td>\n",
       "      <td>9999.000000</td>\n",
       "      <td>20000.000000</td>\n",
       "      <td>150000.000000</td>\n",
       "      <td>12.000000</td>\n",
       "      <td>0.0</td>\n",
       "      <td>99998.000000</td>\n",
       "    </tr>\n",
       "  </tbody>\n",
       "</table>\n",
       "</div>"
      ],
      "text/plain": [
       "               Price  RegistrationYear          Power      Kilometer  \\\n",
       "count  354369.000000     354369.000000  354369.000000  354369.000000   \n",
       "mean     4416.656776       2004.234448     110.094337  128211.172535   \n",
       "std      4514.158514         90.227958     189.850405   37905.341530   \n",
       "min         0.000000       1000.000000       0.000000    5000.000000   \n",
       "25%      1050.000000       1999.000000      69.000000  125000.000000   \n",
       "50%      2700.000000       2003.000000     105.000000  150000.000000   \n",
       "75%      6400.000000       2008.000000     143.000000  150000.000000   \n",
       "max     20000.000000       9999.000000   20000.000000  150000.000000   \n",
       "\n",
       "       RegistrationMonth  NumberOfPictures     PostalCode  \n",
       "count      354369.000000          354369.0  354369.000000  \n",
       "mean            5.714645               0.0   50508.689087  \n",
       "std             3.726421               0.0   25783.096248  \n",
       "min             0.000000               0.0    1067.000000  \n",
       "25%             3.000000               0.0   30165.000000  \n",
       "50%             6.000000               0.0   49413.000000  \n",
       "75%             9.000000               0.0   71083.000000  \n",
       "max            12.000000               0.0   99998.000000  "
      ]
     },
     "execution_count": 4,
     "metadata": {},
     "output_type": "execute_result"
    }
   ],
   "source": [
    "data.describe()"
   ]
  },
  {
   "cell_type": "code",
   "execution_count": 5,
   "metadata": {},
   "outputs": [
    {
     "data": {
      "text/html": [
       "<div>\n",
       "<style scoped>\n",
       "    .dataframe tbody tr th:only-of-type {\n",
       "        vertical-align: middle;\n",
       "    }\n",
       "\n",
       "    .dataframe tbody tr th {\n",
       "        vertical-align: top;\n",
       "    }\n",
       "\n",
       "    .dataframe thead th {\n",
       "        text-align: right;\n",
       "    }\n",
       "</style>\n",
       "<table border=\"1\" class=\"dataframe\">\n",
       "  <thead>\n",
       "    <tr style=\"text-align: right;\">\n",
       "      <th></th>\n",
       "      <th>DateCrawled</th>\n",
       "      <th>VehicleType</th>\n",
       "      <th>Gearbox</th>\n",
       "      <th>Model</th>\n",
       "      <th>FuelType</th>\n",
       "      <th>Brand</th>\n",
       "      <th>NotRepaired</th>\n",
       "      <th>DateCreated</th>\n",
       "      <th>LastSeen</th>\n",
       "    </tr>\n",
       "  </thead>\n",
       "  <tbody>\n",
       "    <tr>\n",
       "      <th>count</th>\n",
       "      <td>354369</td>\n",
       "      <td>316879</td>\n",
       "      <td>334536</td>\n",
       "      <td>334664</td>\n",
       "      <td>321474</td>\n",
       "      <td>354369</td>\n",
       "      <td>283215</td>\n",
       "      <td>354369</td>\n",
       "      <td>354369</td>\n",
       "    </tr>\n",
       "    <tr>\n",
       "      <th>unique</th>\n",
       "      <td>271174</td>\n",
       "      <td>8</td>\n",
       "      <td>2</td>\n",
       "      <td>250</td>\n",
       "      <td>7</td>\n",
       "      <td>40</td>\n",
       "      <td>2</td>\n",
       "      <td>109</td>\n",
       "      <td>179150</td>\n",
       "    </tr>\n",
       "    <tr>\n",
       "      <th>top</th>\n",
       "      <td>2016-03-24 14:49:47</td>\n",
       "      <td>sedan</td>\n",
       "      <td>manual</td>\n",
       "      <td>golf</td>\n",
       "      <td>petrol</td>\n",
       "      <td>volkswagen</td>\n",
       "      <td>no</td>\n",
       "      <td>2016-04-03 00:00:00</td>\n",
       "      <td>2016-04-06 13:45:54</td>\n",
       "    </tr>\n",
       "    <tr>\n",
       "      <th>freq</th>\n",
       "      <td>7</td>\n",
       "      <td>91457</td>\n",
       "      <td>268251</td>\n",
       "      <td>29232</td>\n",
       "      <td>216352</td>\n",
       "      <td>77013</td>\n",
       "      <td>247161</td>\n",
       "      <td>13719</td>\n",
       "      <td>17</td>\n",
       "    </tr>\n",
       "  </tbody>\n",
       "</table>\n",
       "</div>"
      ],
      "text/plain": [
       "                DateCrawled VehicleType Gearbox   Model FuelType       Brand  \\\n",
       "count                354369      316879  334536  334664   321474      354369   \n",
       "unique               271174           8       2     250        7          40   \n",
       "top     2016-03-24 14:49:47       sedan  manual    golf   petrol  volkswagen   \n",
       "freq                      7       91457  268251   29232   216352       77013   \n",
       "\n",
       "       NotRepaired          DateCreated             LastSeen  \n",
       "count       283215               354369               354369  \n",
       "unique           2                  109               179150  \n",
       "top             no  2016-04-03 00:00:00  2016-04-06 13:45:54  \n",
       "freq        247161                13719                   17  "
      ]
     },
     "execution_count": 5,
     "metadata": {},
     "output_type": "execute_result"
    }
   ],
   "source": [
    "data.describe(include=['object', 'bool'])"
   ]
  },
  {
   "cell_type": "code",
   "execution_count": 6,
   "metadata": {},
   "outputs": [
    {
     "data": {
      "text/plain": [
       "(354369, 16)"
      ]
     },
     "execution_count": 6,
     "metadata": {},
     "output_type": "execute_result"
    }
   ],
   "source": [
    "data.shape"
   ]
  },
  {
   "cell_type": "code",
   "execution_count": 7,
   "metadata": {},
   "outputs": [
    {
     "name": "stdout",
     "output_type": "stream",
     "text": [
      "Уникальные значения столбца DateCrawled\n",
      "['2016-03-24 11:52:17' '2016-03-24 10:58:45' '2016-03-14 12:52:21' ...\n",
      " '2016-03-21 09:50:58' '2016-03-14 17:48:27' '2016-03-19 18:57:12']\n",
      "Уникальные значения столбца Price\n",
      "[  480 18300  9800 ... 12395 18429 10985]\n",
      "Уникальные значения столбца VehicleType\n",
      "[nan 'coupe' 'suv' 'small' 'sedan' 'convertible' 'bus' 'wagon' 'other']\n",
      "Уникальные значения столбца RegistrationYear\n",
      "[1993 2011 2004 2001 2008 1995 1980 2014 1998 2005 1910 2016 2007 2009\n",
      " 2002 2018 1997 1990 2017 1981 2003 1994 1991 1984 2006 1999 2012 2010\n",
      " 2000 1992 2013 1996 1985 1989 2015 1982 1976 1983 1973 1111 1969 1971\n",
      " 1987 1986 1988 1970 1965 1945 1925 1974 1979 1955 1978 1972 1968 1977\n",
      " 1961 1960 1966 1975 1963 1964 5000 1954 1958 1967 1959 9999 1956 3200\n",
      " 1000 1941 8888 1500 2200 4100 1962 1929 1957 1940 3000 2066 1949 2019\n",
      " 1937 1951 1800 1953 1234 8000 5300 9000 2900 6000 5900 5911 1933 1400\n",
      " 1950 4000 1948 1952 1200 8500 1932 1255 3700 3800 4800 1942 7000 1935\n",
      " 1936 6500 1923 2290 2500 1930 1001 9450 1944 1943 1934 1938 1688 2800\n",
      " 1253 1928 1919 5555 5600 1600 2222 1039 9996 1300 8455 1931 1915 4500\n",
      " 1920 1602 7800 9229 1947 1927 7100 8200 1946 7500 3500]\n",
      "Уникальные значения столбца Gearbox\n",
      "['manual' 'auto' nan]\n",
      "Уникальные значения столбца Power\n",
      "[    0   190   163    75    69   102   109    50   125   101   105   140\n",
      "   115   131    60   136   160   231    90   118   193    99   113   218\n",
      "   122   129    70   306    95    61   177    80   170    55   143    64\n",
      "   286   232   150   156    82   155    54   185    87   180    86    84\n",
      "   224   235   200   178   265    77   110   144   120   116   184   126\n",
      "   204    88   194   305   197   179   250    45   313    41   165    98\n",
      "   130   114   211    56   201   213    58   107    83   174   100   220\n",
      "    85    73   192    68    66   299    74    52   147    65   310    71\n",
      "    97   239   203     5   300   103   258   320    63    81   148    44\n",
      "   145   230   280   260   104   188   333   186   117   141    59   132\n",
      "   234   158    39    92    51   135    53   209    43   146    67   106\n",
      "   166   276   344    72   249   237   245   111   326   279    23   138\n",
      "   175    96   226    26    37   301   334   128   133   124    33   219\n",
      "   241   167    94   182   196   238  1398   228   112    48   272   139\n",
      "  1799    40   240    79   256   360   243   375   252   396   340   108\n",
      "   121   345   187   289   222   198   284   450   233   387   152   347\n",
      "   172    57   137   212   476   314    30     7    47   173   290   207\n",
      "   205   171   750    78    91    89   349   325    76   151   350   953\n",
      "    93   142   500   343   199   119   164    16   264   367   208   210\n",
      "    46   435  1001   225   127   176   161   603   307   354    35   206\n",
      "   771   355   273   223   255   123   154   149  7515  1400   268   620\n",
      "   169   400   275    34     2   242  1779   285   162   328  1753   329\n",
      "   134   420   247   168 10317   215    18   330   283    62    10   214\n",
      "   183   254    15   321   322   315   952   600   181   426   599   379\n",
      "   999    22   157    42   195   553     4   309   507   381   271   440\n",
      "   189   401  1111  2729    21   236  1240  1704   521     1  1900   270\n",
      "    24   159   292   808   515  1200   303    29    38  1993    14   216\n",
      "   610   504    49   267   331   363   261   385  1011   253   696 10520\n",
      "   376   227   311    27   217    20  1999    11  1056    25   394    12\n",
      "   298   296  1659   294   551  6920   246    17  1800  1625   368   390\n",
      "   221  1367   259   606   327  2017  1597   266   374   392     9   405\n",
      "    13   262   601   430   295     8   411   900   541  7512   382 10218\n",
      "  7544  1102   287    19   751   297  1090   457   282   602   388     6\n",
      "  1000  5411   335  1360   202  3750   805  1062  1024 11530   364  1796\n",
      "  5000   269   460  1002   288  1780 12012 17932   316  2005  1399   191\n",
      "   278  1300   380   257   449  1256   153  1653   520   560   281 12510\n",
      "     3  1500   386    32  1202  2016  1436  1405   671   274  1288  1055\n",
      " 10912 15016  6226  1115   277  1105   341  1223  2340  8404  1968   338\n",
      "   445  1920   370   517  4400 10710 10522  9010   431  1164 11509   371\n",
      "  1501   428 11635    36   304   348  1703  1910  1995   579 10000   580\n",
      "   408    31  1005   358  1403   489  5575 19211   585   960   365   353\n",
      "   490   352  1801   346   550  3199   800  7508  1312   357  1937   950\n",
      "  4700  1600  3454 19208   251   850   337   700  8011  2331  2789   487\n",
      "   519  2461  6006  3500  5815  6018  1781  1503   612  1596   229  1506\n",
      "  5809 15020  5867  2172  1598 17410  1363   584  1054   851  1339   318\n",
      "   510   525  1700    28  1151   685  6011   317   703  1771 15001   514\n",
      "   362   332   324  6045   530   425   308  6010   475   903   640  2000\n",
      "   248   651  2799 17011   505  1103  1521   351 16051   398  9000  1998\n",
      " 10311   409  1230 17019 12684  8259  1895   901  1317   871   909  2201\n",
      "  1595   776 17700 11011  1199   459  1162  1120 15033  1896   339   361\n",
      "   574  6512   454   650 13616   604   607 16312  1082   336 20000   416\n",
      "   678  6012  1401  1021  1870 13636  1250  9710   323  1158  2009   902\n",
      "  6062  1275   572   244   399  1016   743  1221  2402 16011  1362   544\n",
      "   645   907   702 12512  1986  1003  1432  9013  9011   442  1017  1394\n",
      " 15017 10910  1992   540  2018 11025  1433  1701  2792  1502  1239  1390\n",
      " 14009  1160  1351 11111  1783  9007   923  1149   754  1988   402  2004\n",
      "  5420  1793  1324   356  7511  1299   293 19312  1079  1689   998  1100\n",
      "  9012  1933   508 16311   682  1252  1922  7529   732  2389  2200  1707\n",
      "  1416  8500  1012   485  3000 10110   421  4507  1631  7518   377  1004\n",
      "  2007  2598  1548  1241]\n",
      "Уникальные значения столбца Model\n",
      "['golf' nan 'grand' 'fabia' '3er' '2_reihe' 'other' 'c_max' '3_reihe'\n",
      " 'passat' 'navara' 'ka' 'polo' 'twingo' 'a_klasse' 'scirocco' '5er'\n",
      " 'meriva' 'arosa' 'c4' 'civic' 'transporter' 'punto' 'e_klasse' 'clio'\n",
      " 'kadett' 'kangoo' 'corsa' 'one' 'fortwo' '1er' 'b_klasse' 'signum'\n",
      " 'astra' 'a8' 'jetta' 'fiesta' 'c_klasse' 'micra' 'vito' 'sprinter' '156'\n",
      " 'escort' 'forester' 'xc_reihe' 'scenic' 'a4' 'a1' 'insignia' 'combo'\n",
      " 'focus' 'tt' 'a6' 'jazz' 'omega' 'slk' '7er' '80' '147' '100' 'z_reihe'\n",
      " 'sportage' 'sorento' 'v40' 'ibiza' 'mustang' 'eos' 'touran' 'getz' 'a3'\n",
      " 'almera' 'megane' 'lupo' 'r19' 'zafira' 'caddy' 'mondeo' 'cordoba' 'colt'\n",
      " 'impreza' 'vectra' 'berlingo' 'tiguan' 'i_reihe' 'espace' 'sharan'\n",
      " '6_reihe' 'panda' 'up' 'seicento' 'ceed' '5_reihe' 'yeti' 'octavia' 'mii'\n",
      " 'rx_reihe' '6er' 'modus' 'fox' 'matiz' 'beetle' 'c1' 'rio' 'touareg'\n",
      " 'logan' 'spider' 'cuore' 's_max' 'a2' 'galaxy' 'c3' 'viano' 's_klasse'\n",
      " '1_reihe' 'avensis' 'roomster' 'sl' 'kaefer' 'santa' 'cooper' 'leon'\n",
      " '4_reihe' 'a5' '500' 'laguna' 'ptcruiser' 'clk' 'primera' 'x_reihe'\n",
      " 'exeo' '159' 'transit' 'juke' 'qashqai' 'carisma' 'accord' 'corolla'\n",
      " 'lanos' 'phaeton' 'verso' 'swift' 'rav' 'picanto' 'boxster' 'kalos'\n",
      " 'superb' 'stilo' 'alhambra' 'mx_reihe' 'roadster' 'ypsilon' 'cayenne'\n",
      " 'galant' 'justy' '90' 'sirion' 'crossfire' 'agila' 'duster' 'cr_reihe'\n",
      " 'v50' 'c_reihe' 'v_klasse' 'm_klasse' 'yaris' 'c5' 'aygo' 'cc' 'carnival'\n",
      " 'fusion' '911' 'bora' 'forfour' 'm_reihe' 'cl' 'tigra' '300c' 'spark'\n",
      " 'v70' 'kuga' 'x_type' 'ducato' 's_type' 'x_trail' 'toledo' 'altea'\n",
      " 'voyager' 'calibra' 'bravo' 'antara' 'tucson' 'citigo' 'jimny' 'wrangler'\n",
      " 'lybra' 'q7' 'lancer' 'captiva' 'c2' 'discovery' 'freelander' 'sandero'\n",
      " 'note' '900' 'cherokee' 'clubman' 'samara' 'defender' '601' 'cx_reihe'\n",
      " 'legacy' 'pajero' 'auris' 'niva' 's60' 'nubira' 'vivaro' 'g_klasse'\n",
      " 'lodgy' '850' 'range_rover' 'q3' 'serie_2' 'glk' 'charade' 'croma'\n",
      " 'outlander' 'doblo' 'musa' 'move' '9000' 'v60' '145' 'aveo' '200' 'b_max'\n",
      " 'range_rover_sport' 'terios' 'rangerover' 'q5' 'range_rover_evoque'\n",
      " 'materia' 'delta' 'gl' 'kalina' 'amarok' 'elefantino' 'i3' 'kappa'\n",
      " 'serie_3' 'serie_1']\n",
      "Уникальные значения столбца Kilometer\n",
      "[150000 125000  90000  40000  30000  70000   5000 100000  60000  20000\n",
      "  80000  50000  10000]\n",
      "Уникальные значения столбца RegistrationMonth\n",
      "[ 0  5  8  6  7 10 12 11  2  3  1  4  9]\n",
      "Уникальные значения столбца FuelType\n",
      "['petrol' 'gasoline' nan 'lpg' 'other' 'hybrid' 'cng' 'electric']\n",
      "Уникальные значения столбца Brand\n",
      "['volkswagen' 'audi' 'jeep' 'skoda' 'bmw' 'peugeot' 'ford' 'mazda'\n",
      " 'nissan' 'renault' 'mercedes_benz' 'opel' 'seat' 'citroen' 'honda' 'fiat'\n",
      " 'mini' 'smart' 'hyundai' 'sonstige_autos' 'alfa_romeo' 'subaru' 'volvo'\n",
      " 'mitsubishi' 'kia' 'suzuki' 'lancia' 'toyota' 'chevrolet' 'dacia'\n",
      " 'daihatsu' 'trabant' 'saab' 'chrysler' 'jaguar' 'daewoo' 'porsche'\n",
      " 'rover' 'land_rover' 'lada']\n",
      "Уникальные значения столбца NotRepaired\n",
      "[nan 'yes' 'no']\n",
      "Уникальные значения столбца DateCreated\n",
      "['2016-03-24 00:00:00' '2016-03-14 00:00:00' '2016-03-17 00:00:00'\n",
      " '2016-03-31 00:00:00' '2016-04-04 00:00:00' '2016-04-01 00:00:00'\n",
      " '2016-03-21 00:00:00' '2016-03-26 00:00:00' '2016-04-07 00:00:00'\n",
      " '2016-03-15 00:00:00' '2016-03-11 00:00:00' '2016-03-20 00:00:00'\n",
      " '2016-03-23 00:00:00' '2016-03-27 00:00:00' '2016-03-12 00:00:00'\n",
      " '2016-03-13 00:00:00' '2016-03-18 00:00:00' '2016-03-10 00:00:00'\n",
      " '2016-03-07 00:00:00' '2016-03-09 00:00:00' '2016-03-08 00:00:00'\n",
      " '2016-04-03 00:00:00' '2016-03-29 00:00:00' '2016-03-25 00:00:00'\n",
      " '2016-03-28 00:00:00' '2016-03-30 00:00:00' '2016-03-22 00:00:00'\n",
      " '2016-02-09 00:00:00' '2016-03-05 00:00:00' '2016-04-02 00:00:00'\n",
      " '2016-03-16 00:00:00' '2016-03-19 00:00:00' '2016-04-05 00:00:00'\n",
      " '2016-03-06 00:00:00' '2016-02-12 00:00:00' '2016-03-03 00:00:00'\n",
      " '2016-03-01 00:00:00' '2016-03-04 00:00:00' '2016-04-06 00:00:00'\n",
      " '2016-02-15 00:00:00' '2016-02-24 00:00:00' '2016-02-27 00:00:00'\n",
      " '2015-03-20 00:00:00' '2016-02-28 00:00:00' '2016-02-17 00:00:00'\n",
      " '2016-01-27 00:00:00' '2016-02-20 00:00:00' '2016-02-29 00:00:00'\n",
      " '2016-02-10 00:00:00' '2016-02-23 00:00:00' '2016-02-21 00:00:00'\n",
      " '2015-11-02 00:00:00' '2016-02-19 00:00:00' '2016-02-26 00:00:00'\n",
      " '2016-02-11 00:00:00' '2016-01-10 00:00:00' '2016-02-06 00:00:00'\n",
      " '2016-02-18 00:00:00' '2016-01-29 00:00:00' '2016-03-02 00:00:00'\n",
      " '2015-12-06 00:00:00' '2016-01-24 00:00:00' '2016-01-30 00:00:00'\n",
      " '2016-02-02 00:00:00' '2016-02-16 00:00:00' '2016-02-13 00:00:00'\n",
      " '2016-02-05 00:00:00' '2016-02-22 00:00:00' '2015-11-17 00:00:00'\n",
      " '2014-03-10 00:00:00' '2016-02-07 00:00:00' '2016-01-23 00:00:00'\n",
      " '2016-02-25 00:00:00' '2016-02-14 00:00:00' '2016-01-02 00:00:00'\n",
      " '2015-09-04 00:00:00' '2015-11-12 00:00:00' '2015-12-27 00:00:00'\n",
      " '2015-11-24 00:00:00' '2016-01-20 00:00:00' '2016-02-03 00:00:00'\n",
      " '2015-12-05 00:00:00' '2015-08-07 00:00:00' '2016-01-28 00:00:00'\n",
      " '2016-01-31 00:00:00' '2016-02-08 00:00:00' '2016-01-07 00:00:00'\n",
      " '2016-01-22 00:00:00' '2016-01-18 00:00:00' '2016-01-08 00:00:00'\n",
      " '2015-11-23 00:00:00' '2016-01-13 00:00:00' '2016-01-17 00:00:00'\n",
      " '2016-01-15 00:00:00' '2015-11-08 00:00:00' '2016-01-26 00:00:00'\n",
      " '2016-02-04 00:00:00' '2016-01-25 00:00:00' '2016-01-16 00:00:00'\n",
      " '2015-08-10 00:00:00' '2016-01-03 00:00:00' '2016-01-19 00:00:00'\n",
      " '2015-12-30 00:00:00' '2016-02-01 00:00:00' '2015-12-17 00:00:00'\n",
      " '2015-11-10 00:00:00' '2016-01-06 00:00:00' '2015-09-09 00:00:00'\n",
      " '2015-06-18 00:00:00']\n",
      "Уникальные значения столбца NumberOfPictures\n",
      "[0]\n",
      "Уникальные значения столбца PostalCode\n",
      "[70435 66954 90480 ... 38528 38325 31096]\n",
      "Уникальные значения столбца LastSeen\n",
      "['2016-04-07 03:16:57' '2016-04-07 01:46:50' '2016-04-05 12:47:46' ...\n",
      " '2016-03-19 20:44:43' '2016-03-29 10:17:23' '2016-03-21 10:42:49']\n"
     ]
    }
   ],
   "source": [
    "def unique_values(df):\n",
    "    for column in data.columns:\n",
    "        print('Уникальные значения столбца', column)\n",
    "        print(df[column].unique())\n",
    "unique_values(data)"
   ]
  },
  {
   "cell_type": "code",
   "execution_count": 8,
   "metadata": {},
   "outputs": [
    {
     "data": {
      "text/plain": [
       "4"
      ]
     },
     "execution_count": 8,
     "metadata": {},
     "output_type": "execute_result"
    }
   ],
   "source": [
    "data.duplicated().sum()"
   ]
  },
  {
   "cell_type": "markdown",
   "metadata": {},
   "source": [
    "### Вывод: \n",
    "**Первичные наблюдения:**\n",
    "\n",
    "- В данных есть пропуски \n",
    "- Есть небольшое количество дубликатов\n",
    "- Средняя стоимость авто 2700 евро\n",
    "- Минимальный год регистриции автомобиля 1000, максимальный 9999. Нужно обозначить диапазон из процентилей.\n",
    "- В столбце Power присутвует некорректное значение мощности. Максимальное значение в мощности автомобиля 20 000. Нужно обозначить диапазон из процентилей.\n",
    "- В столбце RegistrationYear существуют некорректные значения года регистрации.\n",
    "- В столбце RegistrationMonth отсутсвует месяц регистрации.\n",
    "- Минимальный пробег авто 5000, максимальный 150000 причем много авто имееют максимальный пробег.\n",
    "- 8 уникальных типов автомобильного кузова\n",
    "- Чаще встречаются авто с ручной коробкой передач\n",
    "- Чаще встречаются автомобиле на бензине\n",
    "- Много пропусков в столбце о ремонте авто, но чаще встречаютс автомобили без ремонта\n",
    "\n",
    "**Значимые признаки**\n",
    "\n",
    "- VehicleType - Тип автомобильного кузова определяет ее функционал. Столбец влияет на цену.\n",
    "- Gearbox -Тип коробки передач, если у авто автоматическая коробка - его стоимость выше. \n",
    "- Power - Мощность влияет на цену.\n",
    "- Kilometer - Пробег имеет обратно пропорциональную зависиммость от цены. Больше пробег - меньше цена.\n",
    "- FuelType - Тип топлива, думаю, тоже влияет на цену.\n",
    "- Brand и Model (сюда же можно отнести и VehicleType) -  Может влиять на популярность у покупателей, поэтому оставляем. \n",
    "- NotRepaired - Была машина в ремонте или нет однозначно влияет на цену.\n",
    "- RegistrationYear - Год регистрации авто имеет обратно пропорциональную зависиммость от цены. Больше возраст авто - меньше цена.\n",
    "\n",
    "Остальные столбцы для модели не требуются, так как не влияют на целевой признак."
   ]
  },
  {
   "cell_type": "markdown",
   "metadata": {},
   "source": [
    "## Обработка и анализ данных"
   ]
  },
  {
   "cell_type": "code",
   "execution_count": 9,
   "metadata": {},
   "outputs": [
    {
     "name": "stdout",
     "output_type": "stream",
     "text": [
      "<class 'pandas.core.frame.DataFrame'>\n",
      "RangeIndex: 354369 entries, 0 to 354368\n",
      "Data columns (total 10 columns):\n",
      " #   Column            Non-Null Count   Dtype \n",
      "---  ------            --------------   ----- \n",
      " 0   Price             354369 non-null  int64 \n",
      " 1   VehicleType       316879 non-null  object\n",
      " 2   RegistrationYear  354369 non-null  int64 \n",
      " 3   Gearbox           334536 non-null  object\n",
      " 4   Power             354369 non-null  int64 \n",
      " 5   Model             334664 non-null  object\n",
      " 6   Kilometer         354369 non-null  int64 \n",
      " 7   FuelType          321474 non-null  object\n",
      " 8   Brand             354369 non-null  object\n",
      " 9   NotRepaired       283215 non-null  object\n",
      "dtypes: int64(4), object(6)\n",
      "memory usage: 27.0+ MB\n"
     ]
    }
   ],
   "source": [
    "#Удалим ненужные столбцы\n",
    "data = data.drop(['DateCrawled', 'LastSeen', 'DateCreated', 'NumberOfPictures', 'PostalCode','RegistrationMonth'],axis = 1)\n",
    "data.info()"
   ]
  },
  {
   "cell_type": "code",
   "execution_count": 10,
   "metadata": {},
   "outputs": [
    {
     "data": {
      "text/plain": [
       "NotRepaired         71154\n",
       "VehicleType         37490\n",
       "FuelType            32895\n",
       "Gearbox             19833\n",
       "Model               19705\n",
       "Price                   0\n",
       "RegistrationYear        0\n",
       "Power                   0\n",
       "Kilometer               0\n",
       "Brand                   0\n",
       "dtype: int64"
      ]
     },
     "execution_count": 10,
     "metadata": {},
     "output_type": "execute_result"
    }
   ],
   "source": [
    "data.isna().sum().sort_values(ascending=False)"
   ]
  },
  {
   "cell_type": "code",
   "execution_count": 11,
   "metadata": {},
   "outputs": [],
   "source": [
    "#Решила заполнить \"не указано\", так как много пропущеных значений и заполнять \"да\" или \"нет\" считаю нецелесообразным\n",
    "data['NotRepaired'] = data['NotRepaired'].fillna('not_specified')"
   ]
  },
  {
   "cell_type": "markdown",
   "metadata": {},
   "source": [
    "**Остальные столбцы имеют пропуски возможно по причине проблем с выгрузкой данных, так как на эти вопросы может ответить только владельцы автомобилей. Заполним пропуски модами**"
   ]
  },
  {
   "cell_type": "code",
   "execution_count": 12,
   "metadata": {},
   "outputs": [],
   "source": [
    "data[\"VehicleType\"] = data[\"VehicleType\"].fillna(data[\"VehicleType\"].mode().values[0])\n",
    "data[\"Gearbox\"] = data[\"Gearbox\"].fillna(data[\"Gearbox\"].mode().values[0])\n",
    "data[\"Model\"] = data[\"Model\"].fillna(data[\"Model\"].mode().values[0])\n",
    "data[\"FuelType\"] = data[\"FuelType\"].fillna(data[\"FuelType\"].mode().values[0])"
   ]
  },
  {
   "cell_type": "code",
   "execution_count": 13,
   "metadata": {},
   "outputs": [
    {
     "name": "stdout",
     "output_type": "stream",
     "text": [
      "VehicleType 0\n",
      "Gearbox 0\n",
      "Model 0\n",
      "FuelType 0\n",
      "Brand 0\n",
      "NotRepaired 0\n"
     ]
    }
   ],
   "source": [
    "#Проверим, что значения категорийных признаков не дублируют друг друга\n",
    "objects_columns = [\"VehicleType\",\"Gearbox\",\"Model\",\"FuelType\",\"Brand\",\"NotRepaired\"]\n",
    "for column in objects_columns:\n",
    "    print(column, pd.Series(data[column].unique()).duplicated().sum())"
   ]
  },
  {
   "cell_type": "code",
   "execution_count": 14,
   "metadata": {},
   "outputs": [
    {
     "data": {
      "text/plain": [
       "0"
      ]
     },
     "execution_count": 14,
     "metadata": {},
     "output_type": "execute_result"
    }
   ],
   "source": [
    "#Так как у нас есть дубликаты, удалим их\n",
    "data = data.drop_duplicates()\n",
    "data.duplicated().sum()"
   ]
  },
  {
   "cell_type": "code",
   "execution_count": 15,
   "metadata": {},
   "outputs": [
    {
     "data": {
      "text/html": [
       "<div>\n",
       "<style scoped>\n",
       "    .dataframe tbody tr th:only-of-type {\n",
       "        vertical-align: middle;\n",
       "    }\n",
       "\n",
       "    .dataframe tbody tr th {\n",
       "        vertical-align: top;\n",
       "    }\n",
       "\n",
       "    .dataframe thead th {\n",
       "        text-align: right;\n",
       "    }\n",
       "</style>\n",
       "<table border=\"1\" class=\"dataframe\">\n",
       "  <thead>\n",
       "    <tr style=\"text-align: right;\">\n",
       "      <th></th>\n",
       "      <th>Price</th>\n",
       "      <th>RegistrationYear</th>\n",
       "      <th>Power</th>\n",
       "      <th>Kilometer</th>\n",
       "    </tr>\n",
       "  </thead>\n",
       "  <tbody>\n",
       "    <tr>\n",
       "      <th>count</th>\n",
       "      <td>305204.000000</td>\n",
       "      <td>305204.000000</td>\n",
       "      <td>305204.000000</td>\n",
       "      <td>305204.000000</td>\n",
       "    </tr>\n",
       "    <tr>\n",
       "      <th>mean</th>\n",
       "      <td>4525.608724</td>\n",
       "      <td>2004.377767</td>\n",
       "      <td>111.619222</td>\n",
       "      <td>127033.639795</td>\n",
       "    </tr>\n",
       "    <tr>\n",
       "      <th>std</th>\n",
       "      <td>4574.538221</td>\n",
       "      <td>93.089385</td>\n",
       "      <td>202.148108</td>\n",
       "      <td>38620.754142</td>\n",
       "    </tr>\n",
       "    <tr>\n",
       "      <th>min</th>\n",
       "      <td>0.000000</td>\n",
       "      <td>1000.000000</td>\n",
       "      <td>0.000000</td>\n",
       "      <td>5000.000000</td>\n",
       "    </tr>\n",
       "    <tr>\n",
       "      <th>25%</th>\n",
       "      <td>1100.000000</td>\n",
       "      <td>1999.000000</td>\n",
       "      <td>69.000000</td>\n",
       "      <td>125000.000000</td>\n",
       "    </tr>\n",
       "    <tr>\n",
       "      <th>50%</th>\n",
       "      <td>2800.000000</td>\n",
       "      <td>2003.000000</td>\n",
       "      <td>105.000000</td>\n",
       "      <td>150000.000000</td>\n",
       "    </tr>\n",
       "    <tr>\n",
       "      <th>75%</th>\n",
       "      <td>6500.000000</td>\n",
       "      <td>2008.000000</td>\n",
       "      <td>143.000000</td>\n",
       "      <td>150000.000000</td>\n",
       "    </tr>\n",
       "    <tr>\n",
       "      <th>max</th>\n",
       "      <td>20000.000000</td>\n",
       "      <td>9999.000000</td>\n",
       "      <td>20000.000000</td>\n",
       "      <td>150000.000000</td>\n",
       "    </tr>\n",
       "  </tbody>\n",
       "</table>\n",
       "</div>"
      ],
      "text/plain": [
       "               Price  RegistrationYear          Power      Kilometer\n",
       "count  305204.000000     305204.000000  305204.000000  305204.000000\n",
       "mean     4525.608724       2004.377767     111.619222  127033.639795\n",
       "std      4574.538221         93.089385     202.148108   38620.754142\n",
       "min         0.000000       1000.000000       0.000000    5000.000000\n",
       "25%      1100.000000       1999.000000      69.000000  125000.000000\n",
       "50%      2800.000000       2003.000000     105.000000  150000.000000\n",
       "75%      6500.000000       2008.000000     143.000000  150000.000000\n",
       "max     20000.000000       9999.000000   20000.000000  150000.000000"
      ]
     },
     "execution_count": 15,
     "metadata": {},
     "output_type": "execute_result"
    }
   ],
   "source": [
    "data.describe()"
   ]
  },
  {
   "cell_type": "markdown",
   "metadata": {},
   "source": [
    "**Проанализируем значения числовых признаков перед очисткой выбросов**\n",
    "\n",
    "- Price обладает высоким стандартным отклонениям, что плохо будет влиять на работу алгоритма, также признак нуждается в поиске выбросов\n",
    "- RegistrationYear - присутствуют аномальные значения, для того чтобы избавиться от аномалий установим диапазон, в котором может находится значение этого столбца - год регистрации не может быть больше 2020, и не может быть меньше 1930. Все показания выше или ниже этих значений приведем к максимальной или минимальной границе, соответственно признак не нуждается в поиске выбросов.\n",
    "- Power - присутствуют аномальные значения (20 000 лошадиных сил), ограничим их мощностью 3500 лошадиных сил (нашла в интернете самую максимальную мощность) , также нужно искать выбросы.\n",
    "- Kilometer имеет достаточно реальные значения, поэтому признак не нуждается в поиске выбросов"
   ]
  },
  {
   "cell_type": "code",
   "execution_count": 16,
   "metadata": {},
   "outputs": [],
   "source": [
    "def RegistrationYear(value):\n",
    "    if value > 2020:\n",
    "        return 2020\n",
    "    elif value < 1930:\n",
    "        return 1930\n",
    "    else:\n",
    "        return value\n",
    "data[\"RegistrationYear\"] = data[\"RegistrationYear\"].apply(RegistrationYear)"
   ]
  },
  {
   "cell_type": "code",
   "execution_count": 17,
   "metadata": {},
   "outputs": [],
   "source": [
    "data.loc[data['Power'] > 3500, 'Power'] = 3500"
   ]
  },
  {
   "cell_type": "code",
   "execution_count": 18,
   "metadata": {},
   "outputs": [],
   "source": [
    "def shore_clearing(data,column):\n",
    "    Q25=np.array(data[column].quantile(0.25))\n",
    "    Q75=np.array(data[column].quantile(0.75))\n",
    "    stat_1=Q25-1.5*(Q75-Q25)\n",
    "    stat_2=Q75+1.5*(Q75-Q25)\n",
    "    index_del = []\n",
    "    for index_value, value in zip(data[column].index,data[column]):\n",
    "        if stat_2 <= value or value <= stat_1:\n",
    "            index_del.append(index_value)\n",
    "    print('Количество строк, выбранных для удаления ' + str(column)+\":\",len(index_del))\n",
    "    return index_del"
   ]
  },
  {
   "cell_type": "code",
   "execution_count": 19,
   "metadata": {},
   "outputs": [
    {
     "name": "stdout",
     "output_type": "stream",
     "text": [
      "Количество строк, выбранных для удаления Price: 16209\n",
      "Количество строк, выбранных для удаления Power: 5430\n",
      "Было удалено: 21639\n"
     ]
    }
   ],
   "source": [
    "array_num_columns = [\"Price\",\"Power\"]\n",
    "count = 0 \n",
    "for column in array_num_columns:\n",
    "    del_index = shore_clearing(data,column)\n",
    "    count += len(del_index)\n",
    "    data = data.drop(del_index,axis = 0)\n",
    "print(\"Было удалено:\", count)"
   ]
  },
  {
   "cell_type": "code",
   "execution_count": 20,
   "metadata": {},
   "outputs": [
    {
     "data": {
      "text/html": [
       "<div>\n",
       "<style scoped>\n",
       "    .dataframe tbody tr th:only-of-type {\n",
       "        vertical-align: middle;\n",
       "    }\n",
       "\n",
       "    .dataframe tbody tr th {\n",
       "        vertical-align: top;\n",
       "    }\n",
       "\n",
       "    .dataframe thead th {\n",
       "        text-align: right;\n",
       "    }\n",
       "</style>\n",
       "<table border=\"1\" class=\"dataframe\">\n",
       "  <thead>\n",
       "    <tr style=\"text-align: right;\">\n",
       "      <th></th>\n",
       "      <th>Price</th>\n",
       "      <th>RegistrationYear</th>\n",
       "      <th>Power</th>\n",
       "      <th>Kilometer</th>\n",
       "    </tr>\n",
       "  </thead>\n",
       "  <tbody>\n",
       "    <tr>\n",
       "      <th>Price</th>\n",
       "      <td>1.000000</td>\n",
       "      <td>0.354863</td>\n",
       "      <td>0.417300</td>\n",
       "      <td>-0.275082</td>\n",
       "    </tr>\n",
       "    <tr>\n",
       "      <th>RegistrationYear</th>\n",
       "      <td>0.354863</td>\n",
       "      <td>1.000000</td>\n",
       "      <td>0.088263</td>\n",
       "      <td>-0.124761</td>\n",
       "    </tr>\n",
       "    <tr>\n",
       "      <th>Power</th>\n",
       "      <td>0.417300</td>\n",
       "      <td>0.088263</td>\n",
       "      <td>1.000000</td>\n",
       "      <td>0.148650</td>\n",
       "    </tr>\n",
       "    <tr>\n",
       "      <th>Kilometer</th>\n",
       "      <td>-0.275082</td>\n",
       "      <td>-0.124761</td>\n",
       "      <td>0.148650</td>\n",
       "      <td>1.000000</td>\n",
       "    </tr>\n",
       "  </tbody>\n",
       "</table>\n",
       "</div>"
      ],
      "text/plain": [
       "                     Price  RegistrationYear     Power  Kilometer\n",
       "Price             1.000000          0.354863  0.417300  -0.275082\n",
       "RegistrationYear  0.354863          1.000000  0.088263  -0.124761\n",
       "Power             0.417300          0.088263  1.000000   0.148650\n",
       "Kilometer        -0.275082         -0.124761  0.148650   1.000000"
      ]
     },
     "execution_count": 20,
     "metadata": {},
     "output_type": "execute_result"
    }
   ],
   "source": [
    "data.corr()"
   ]
  },
  {
   "cell_type": "markdown",
   "metadata": {},
   "source": [
    "### Вывод\n",
    "\n",
    "- Были найдены и удалены дубликаты\n",
    "- Пропуски в категориальных признаках были заполнены модой\n",
    "- Данные были отчищены от выбросов, потеряли довольно много объектов, поэтому, в случае низких результатов модели будет целесообразно изменить коэффициент при межквартильном размахе, что уменьшит общий объем объектов - выбросов.\n",
    "- Проверена корреляция признаков, наиболее коррелирующим признаком является мощность."
   ]
  },
  {
   "cell_type": "markdown",
   "metadata": {},
   "source": [
    "## Обучение моделей"
   ]
  },
  {
   "cell_type": "markdown",
   "metadata": {},
   "source": [
    "**Для обучения моделей:**\n",
    "- 1. Изменим типы на category для работы с моделями Catboost и lightGBM - cat, кодировка методом OHE -ohe, кодировка методом OE -ord.\n",
    "- 2. Разделим выборку на обучающую, тестовую и валидационную выборки\n",
    "- 3. Проверим модели : линейную регрессию, CatBoost, LightGBM"
   ]
  },
  {
   "cell_type": "code",
   "execution_count": 21,
   "metadata": {},
   "outputs": [],
   "source": [
    "#del features_train"
   ]
  },
  {
   "cell_type": "code",
   "execution_count": 22,
   "metadata": {},
   "outputs": [],
   "source": [
    "X = data.drop('Price', axis=1)\n",
    "y = data['Price']"
   ]
  },
  {
   "cell_type": "code",
   "execution_count": 23,
   "metadata": {},
   "outputs": [
    {
     "name": "stdout",
     "output_type": "stream",
     "text": [
      "<class 'pandas.core.frame.DataFrame'>\n",
      "Int64Index: 283565 entries, 0 to 354368\n",
      "Data columns (total 9 columns):\n",
      " #   Column            Non-Null Count   Dtype   \n",
      "---  ------            --------------   -----   \n",
      " 0   VehicleType       283565 non-null  category\n",
      " 1   RegistrationYear  283565 non-null  int64   \n",
      " 2   Gearbox           283565 non-null  category\n",
      " 3   Power             283565 non-null  int64   \n",
      " 4   Model             283565 non-null  category\n",
      " 5   Kilometer         283565 non-null  int64   \n",
      " 6   FuelType          283565 non-null  category\n",
      " 7   Brand             283565 non-null  category\n",
      " 8   NotRepaired       283565 non-null  category\n",
      "dtypes: category(6), int64(3)\n",
      "memory usage: 10.6 MB\n"
     ]
    }
   ],
   "source": [
    "categ_columns = X.select_dtypes(include='object').columns\n",
    "# Изменение типа на 'category'\n",
    "X_cat = X.copy()\n",
    "X_cat[categ_columns] = X_cat[categ_columns].astype('category')\n",
    "X_cat.info()"
   ]
  },
  {
   "cell_type": "code",
   "execution_count": 24,
   "metadata": {},
   "outputs": [
    {
     "name": "stdout",
     "output_type": "stream",
     "text": [
      "<class 'pandas.core.frame.DataFrame'>\n",
      "Int64Index: 283565 entries, 0 to 354368\n",
      "Columns: 306 entries, RegistrationYear to NotRepaired_yes\n",
      "dtypes: int64(3), uint8(303)\n",
      "memory usage: 90.6 MB\n"
     ]
    }
   ],
   "source": [
    "# Кодировка методом One Hot Encoding\n",
    "X_ohe = pd.get_dummies(X, drop_first=True)\n",
    "X_ohe.info()"
   ]
  },
  {
   "cell_type": "code",
   "execution_count": 25,
   "metadata": {},
   "outputs": [
    {
     "name": "stdout",
     "output_type": "stream",
     "text": [
      "<class 'pandas.core.frame.DataFrame'>\n",
      "Int64Index: 283565 entries, 0 to 354368\n",
      "Data columns (total 9 columns):\n",
      " #   Column            Non-Null Count   Dtype  \n",
      "---  ------            --------------   -----  \n",
      " 0   VehicleType       283565 non-null  float64\n",
      " 1   RegistrationYear  283565 non-null  int64  \n",
      " 2   Gearbox           283565 non-null  float64\n",
      " 3   Power             283565 non-null  int64  \n",
      " 4   Model             283565 non-null  float64\n",
      " 5   Kilometer         283565 non-null  int64  \n",
      " 6   FuelType          283565 non-null  float64\n",
      " 7   Brand             283565 non-null  float64\n",
      " 8   NotRepaired       283565 non-null  float64\n",
      "dtypes: float64(6), int64(3)\n",
      "memory usage: 21.6 MB\n"
     ]
    }
   ],
   "source": [
    "# Кодировка методом Ordinal Encoding\n",
    "enc = OrdinalEncoder()\n",
    "\n",
    "X_ord = X.copy()\n",
    "X_ord[categ_columns] = enc.fit_transform(X_ord[categ_columns])\n",
    "X_ord.info()"
   ]
  },
  {
   "cell_type": "code",
   "execution_count": 26,
   "metadata": {},
   "outputs": [
    {
     "data": {
      "text/plain": [
       "8.999823676693586"
      ]
     },
     "execution_count": 26,
     "metadata": {},
     "output_type": "execute_result"
    }
   ],
   "source": [
    "#Разделим данные на обучающую и тестовую выборки, в тестовую выборку включим 10% данных\n",
    "\n",
    "y_train, y_test = train_test_split(y, test_size=0.1, random_state=12345)\n",
    "y_train.shape[0] / y_test.shape[0]"
   ]
  },
  {
   "cell_type": "code",
   "execution_count": 27,
   "metadata": {},
   "outputs": [],
   "source": [
    "X_cat_train, X_cat_test = train_test_split(X_cat, test_size=0.1, random_state=12345)\n",
    "X_ohe_train, X_ohe_test = train_test_split(X_ohe, test_size=0.1, random_state=12345)\n",
    "X_ord_train, X_ord_test = train_test_split(X_ord, test_size=0.1, random_state=12345)"
   ]
  },
  {
   "cell_type": "code",
   "execution_count": 28,
   "metadata": {},
   "outputs": [],
   "source": [
    "# набор масштабированных данных\n",
    "\n",
    "scaler = MinMaxScaler()\n",
    "\n",
    "scaler.fit(X_ohe_train)\n",
    "X_ohe_scal_train = pd.DataFrame(scaler.transform(X_ohe_train), columns=X_ohe_train.columns, index=X_ohe_train.index)\n",
    "X_ohe_scal_test = pd.DataFrame(scaler.transform(X_ohe_test), columns=X_ohe_test.columns, index=X_ohe_test.index)\n",
    "\n",
    "scaler.fit(X_ord_train)\n",
    "X_ord_scal_train = pd.DataFrame(scaler.transform(X_ord_train), columns=X_ord_train.columns, index=X_ord_train.index)\n",
    "X_ord_scal_test = pd.DataFrame(scaler.transform(X_ord_test), columns=X_ord_test.columns, index=X_ord_test.index)"
   ]
  },
  {
   "cell_type": "code",
   "execution_count": 29,
   "metadata": {},
   "outputs": [
    {
     "data": {
      "text/plain": [
       "3501.9236734017"
      ]
     },
     "execution_count": 29,
     "metadata": {},
     "output_type": "execute_result"
    }
   ],
   "source": [
    "# RMSE константной модели для обучающей выборки\n",
    "mean_squared_error(y_train, pd.Series(y_train.mean(), index=y_train.index)) ** 0.5"
   ]
  },
  {
   "cell_type": "code",
   "execution_count": 30,
   "metadata": {},
   "outputs": [
    {
     "data": {
      "text/plain": [
       "3520.1485042584"
      ]
     },
     "execution_count": 30,
     "metadata": {},
     "output_type": "execute_result"
    }
   ],
   "source": [
    "# RMSE константной модели для тестовой выборки\n",
    "mean_squared_error(y_test, pd.Series(y_train.mean(), index=y_test.index)) ** 0.5"
   ]
  },
  {
   "cell_type": "markdown",
   "metadata": {},
   "source": [
    "### Линейная регрессия"
   ]
  },
  {
   "cell_type": "code",
   "execution_count": 31,
   "metadata": {},
   "outputs": [
    {
     "name": "stdout",
     "output_type": "stream",
     "text": [
      "RMSE Модели Линейной Регрессии (кодировка OHE) = 2346.62535573825\n",
      "CPU times: user 1min 10s, sys: 31.4 s, total: 1min 41s\n",
      "Wall time: 1min 41s\n"
     ]
    }
   ],
   "source": [
    "%%time\n",
    "lr_ohe = LinearRegression()\n",
    "rmse_lr_ohe = (cross_val_score(estimator=lr_ohe, \n",
    "                             X=X_ohe_train, \n",
    "                             y=y_train, \n",
    "                             cv=5,\n",
    "                             scoring='neg_mean_squared_error').mean() * -1) ** 0.5\n",
    "print('RMSE Модели Линейной Регрессии (кодировка OHE) =', rmse_lr_ohe)"
   ]
  },
  {
   "cell_type": "code",
   "execution_count": 32,
   "metadata": {},
   "outputs": [
    {
     "name": "stdout",
     "output_type": "stream",
     "text": [
      "RMSE Модели Линейной Регрессии (кодировка OrdinalEncoding) = 2598.6610989304936\n",
      "CPU times: user 608 ms, sys: 361 ms, total: 969 ms\n",
      "Wall time: 946 ms\n"
     ]
    }
   ],
   "source": [
    "%%time\n",
    "lr_ord = LinearRegression()\n",
    "rmse_lr_ord = (cross_val_score(estimator=lr_ord, \n",
    "                             X=X_ord_train, \n",
    "                             y=y_train, \n",
    "                             cv=5,\n",
    "                             scoring='neg_mean_squared_error').mean() * -1) ** 0.5\n",
    "print('RMSE Модели Линейной Регрессии (кодировка OrdinalEncoding) =', rmse_lr_ord)"
   ]
  },
  {
   "cell_type": "code",
   "execution_count": 33,
   "metadata": {},
   "outputs": [
    {
     "name": "stdout",
     "output_type": "stream",
     "text": [
      "RMSE Модели Линейной Регрессии (кодировка OrdinalEncoding с масштабированием) = 2598.661098930496\n",
      "CPU times: user 525 ms, sys: 401 ms, total: 926 ms\n",
      "Wall time: 990 ms\n"
     ]
    }
   ],
   "source": [
    "%%time\n",
    "lr_ord_scal = LinearRegression()\n",
    "rmse_lr_ord_scal = (cross_val_score(estimator=lr_ord_scal, \n",
    "                             X=X_ord_scal_train, \n",
    "                             y=y_train, \n",
    "                             cv=5,\n",
    "                             scoring='neg_mean_squared_error').mean() * -1) ** 0.5\n",
    "print('RMSE Модели Линейной Регрессии (кодировка OrdinalEncoding с масштабированием) =', rmse_lr_ord_scal)"
   ]
  },
  {
   "cell_type": "markdown",
   "metadata": {},
   "source": [
    "Качество Линейной Модели на данных, обработанных методом OHE по метрике RMSE выше, чем по методу OrdinalEncoding. В то же время обучение потребовало значительно больше времени.Масштабирование не оказывает влияния на качество модели Линейной Регрессии."
   ]
  },
  {
   "cell_type": "markdown",
   "metadata": {},
   "source": [
    "### CatBoostRegressor"
   ]
  },
  {
   "cell_type": "code",
   "execution_count": 34,
   "metadata": {},
   "outputs": [
    {
     "name": "stdout",
     "output_type": "stream",
     "text": [
      "CPU times: user 10min 28s, sys: 4.61 s, total: 10min 33s\n",
      "Wall time: 10min 43s\n"
     ]
    },
    {
     "data": {
      "text/plain": [
       "GridSearchCV(cv=3,\n",
       "             estimator=<catboost.core.CatBoostRegressor object at 0x7ff300c57fd0>,\n",
       "             n_jobs=-1,\n",
       "             param_grid={'depth': [10, 20, 30], 'iterations': [100, 200, 300],\n",
       "                         'random_state': [12345], 'verbose': [False]},\n",
       "             scoring='neg_mean_squared_error')"
      ]
     },
     "execution_count": 34,
     "metadata": {},
     "output_type": "execute_result"
    }
   ],
   "source": [
    "%%time\n",
    "\n",
    "cbr = CatBoostRegressor(cat_features=categ_columns.tolist())\n",
    "hyperparams_cbr = { 'depth'         : [10, 20, 30],\n",
    "                    'iterations'    : [100, 200, 300],\n",
    "                    'random_state'  : [12345],\n",
    "                    'verbose'       : [False]\n",
    "                  }\n",
    "cbr_grid = GridSearchCV(estimator=cbr, \n",
    "                        param_grid = hyperparams_cbr, \n",
    "                        cv = 3, \n",
    "                        scoring ='neg_mean_squared_error',\n",
    "                        n_jobs=-1)\n",
    "cbr_grid.fit(X_cat_train, y_train) "
   ]
  },
  {
   "cell_type": "code",
   "execution_count": 35,
   "metadata": {},
   "outputs": [
    {
     "data": {
      "text/plain": [
       "{'depth': 10, 'iterations': 300, 'random_state': 12345, 'verbose': False}"
      ]
     },
     "execution_count": 35,
     "metadata": {},
     "output_type": "execute_result"
    }
   ],
   "source": [
    "cbr_grid.best_params_"
   ]
  },
  {
   "cell_type": "code",
   "execution_count": 36,
   "metadata": {},
   "outputs": [
    {
     "name": "stdout",
     "output_type": "stream",
     "text": [
      "RMSE CatBoostRegressor = 1484.2096281480683\n"
     ]
    }
   ],
   "source": [
    "rmse_cbr = (cbr_grid.best_score_*-1) ** 0.5\n",
    "print('RMSE CatBoostRegressor =', rmse_cbr) "
   ]
  },
  {
   "cell_type": "markdown",
   "metadata": {},
   "source": [
    "Качество CatBoostRegressor оказалось выше Линейной Регрессии, но время..."
   ]
  },
  {
   "cell_type": "markdown",
   "metadata": {},
   "source": [
    "### LGBMRegressor"
   ]
  },
  {
   "cell_type": "code",
   "execution_count": 37,
   "metadata": {},
   "outputs": [
    {
     "name": "stdout",
     "output_type": "stream",
     "text": [
      "CPU times: user 4min 40s, sys: 0 ns, total: 4min 40s\n",
      "Wall time: 4min 42s\n"
     ]
    },
    {
     "data": {
      "text/plain": [
       "GridSearchCV(cv=3,\n",
       "             estimator=LGBMRegressor(categorical_features=['VehicleType',\n",
       "                                                           'Gearbox', 'Model',\n",
       "                                                           'FuelType', 'Brand',\n",
       "                                                           'NotRepaired']),\n",
       "             n_jobs=-1,\n",
       "             param_grid={'max_depth': [10, 20, 30],\n",
       "                         'n_estimators': [100, 200, 300],\n",
       "                         'random_state': [12345]},\n",
       "             scoring='neg_mean_squared_error')"
      ]
     },
     "execution_count": 37,
     "metadata": {},
     "output_type": "execute_result"
    }
   ],
   "source": [
    "%%time\n",
    "lgbmr = LGBMRegressor(categorical_features=categ_columns.tolist())\n",
    "hyperparams_lgbmr = { 'max_depth'     : [10, 20, 30],\n",
    "                      'n_estimators'  : [100, 200, 300],\n",
    "                      'random_state'  : [12345]\n",
    "                  }\n",
    "lgbmr_grid = GridSearchCV(estimator=lgbmr, \n",
    "                        param_grid = hyperparams_lgbmr, \n",
    "                        cv = 3, \n",
    "                        scoring ='neg_mean_squared_error',\n",
    "                        n_jobs=-1)\n",
    "lgbmr_grid.fit(X_cat_train, y_train) "
   ]
  },
  {
   "cell_type": "code",
   "execution_count": 38,
   "metadata": {},
   "outputs": [
    {
     "data": {
      "text/plain": [
       "{'max_depth': 20, 'n_estimators': 300, 'random_state': 12345}"
      ]
     },
     "execution_count": 38,
     "metadata": {},
     "output_type": "execute_result"
    }
   ],
   "source": [
    "lgbmr_grid.best_params_"
   ]
  },
  {
   "cell_type": "code",
   "execution_count": 39,
   "metadata": {},
   "outputs": [
    {
     "name": "stdout",
     "output_type": "stream",
     "text": [
      "RMSE LGBMRegressor = 1481.5063711164069\n"
     ]
    }
   ],
   "source": [
    "rmse_lgbmr = (lgbmr_grid.best_score_*-1) ** 0.5\n",
    "print('RMSE LGBMRegressor =', rmse_lgbmr) "
   ]
  },
  {
   "cell_type": "markdown",
   "metadata": {},
   "source": [
    "Модели LGBMRegressor и CatBoostRegressor показали схожее значение метрики RMSE на обучающих данных. Модель CatBoost дал несколько лучшее значение метрики, но длительность перебора одинакового количества гиперпараметров заняло у библиотеки LightGBM намного меньше времени."
   ]
  },
  {
   "cell_type": "markdown",
   "metadata": {},
   "source": [
    "## Анализ моделей"
   ]
  },
  {
   "cell_type": "code",
   "execution_count": 40,
   "metadata": {},
   "outputs": [],
   "source": [
    "#изменила функцию (Функция обучает модель на обучающем наборе данных,возвращает метрику качества rmse \n",
    "#на тестовом наборе данных, время обучения и предсказания)\n",
    "def model_result(model, X_train, X_test, y_train=y_train, y_test=y_test):\n",
    "\n",
    "    start1 = time.time()\n",
    "    model.fit(X_train, y_train)\n",
    "    end1 = time.time()\n",
    "    time_train = end1 - start1\n",
    "\n",
    "    start2 = time.time()\n",
    "    y_pred = model.predict(X_test)\n",
    "    end2 = time.time()\n",
    "    time_predict = end2 - start2\n",
    "\n",
    "    rmse = mean_squared_error(y_test, y_pred) ** 0.5\n",
    "    return round(rmse), round(time_train, 1), round(time_predict, 1)"
   ]
  },
  {
   "cell_type": "code",
   "execution_count": 41,
   "metadata": {},
   "outputs": [
    {
     "data": {
      "text/plain": [
       "(2591, 0.1, 0.0)"
      ]
     },
     "execution_count": 41,
     "metadata": {},
     "output_type": "execute_result"
    }
   ],
   "source": [
    "# Linear (OrdinalEncoding)\n",
    "lr_ord_result = model_result(lr_ord, X_train=X_ord_train, X_test=X_ord_test)\n",
    "lr_ord_result"
   ]
  },
  {
   "cell_type": "code",
   "execution_count": 42,
   "metadata": {},
   "outputs": [
    {
     "data": {
      "text/plain": [
       "(2339, 23.8, 0.1)"
      ]
     },
     "execution_count": 42,
     "metadata": {},
     "output_type": "execute_result"
    }
   ],
   "source": [
    "# Linear (OHE)\n",
    "lr_ohe_result = model_result(lr_ohe, X_train=X_ohe_train, X_test=X_ohe_test)\n",
    "lr_ohe_result"
   ]
  },
  {
   "cell_type": "code",
   "execution_count": 43,
   "metadata": {},
   "outputs": [
    {
     "data": {
      "text/plain": [
       "(1458, 137.2, 0.2)"
      ]
     },
     "execution_count": 43,
     "metadata": {},
     "output_type": "execute_result"
    }
   ],
   "source": [
    "# CatBoost\n",
    "cbr_result = model_result(cbr_grid.best_estimator_, X_train=X_cat_train, X_test=X_cat_test)\n",
    "cbr_result"
   ]
  },
  {
   "cell_type": "code",
   "execution_count": 44,
   "metadata": {},
   "outputs": [
    {
     "data": {
      "text/plain": [
       "(1457, 27.5, 0.7)"
      ]
     },
     "execution_count": 44,
     "metadata": {},
     "output_type": "execute_result"
    }
   ],
   "source": [
    "# LightGBM\n",
    "lgbmr_result = model_result(lgbmr_grid.best_estimator_, X_train=X_cat_train, X_test=X_cat_test)\n",
    "lgbmr_result"
   ]
  },
  {
   "cell_type": "code",
   "execution_count": 45,
   "metadata": {},
   "outputs": [
    {
     "data": {
      "text/html": [
       "<div>\n",
       "<style scoped>\n",
       "    .dataframe tbody tr th:only-of-type {\n",
       "        vertical-align: middle;\n",
       "    }\n",
       "\n",
       "    .dataframe tbody tr th {\n",
       "        vertical-align: top;\n",
       "    }\n",
       "\n",
       "    .dataframe thead th {\n",
       "        text-align: right;\n",
       "    }\n",
       "</style>\n",
       "<table border=\"1\" class=\"dataframe\">\n",
       "  <thead>\n",
       "    <tr style=\"text-align: right;\">\n",
       "      <th></th>\n",
       "      <th>RMSE</th>\n",
       "      <th>Time_train</th>\n",
       "      <th>Time_predict</th>\n",
       "    </tr>\n",
       "  </thead>\n",
       "  <tbody>\n",
       "    <tr>\n",
       "      <th>Linear (OrdinalEncoding)</th>\n",
       "      <td>2591</td>\n",
       "      <td>0.1</td>\n",
       "      <td>0.0</td>\n",
       "    </tr>\n",
       "    <tr>\n",
       "      <th>Linear (OHE)</th>\n",
       "      <td>2339</td>\n",
       "      <td>23.8</td>\n",
       "      <td>0.1</td>\n",
       "    </tr>\n",
       "    <tr>\n",
       "      <th>CatBoost</th>\n",
       "      <td>1458</td>\n",
       "      <td>137.2</td>\n",
       "      <td>0.2</td>\n",
       "    </tr>\n",
       "    <tr>\n",
       "      <th>LightGBM</th>\n",
       "      <td>1457</td>\n",
       "      <td>27.5</td>\n",
       "      <td>0.7</td>\n",
       "    </tr>\n",
       "  </tbody>\n",
       "</table>\n",
       "</div>"
      ],
      "text/plain": [
       "                          RMSE  Time_train  Time_predict\n",
       "Linear (OrdinalEncoding)  2591         0.1           0.0\n",
       "Linear (OHE)              2339        23.8           0.1\n",
       "CatBoost                  1458       137.2           0.2\n",
       "LightGBM                  1457        27.5           0.7"
      ]
     },
     "execution_count": 45,
     "metadata": {},
     "output_type": "execute_result"
    }
   ],
   "source": [
    "model_list = [lr_ord_result, lr_ohe_result, cbr_result, lgbmr_result]\n",
    "rmse_list = [model[0] for model in model_list]\n",
    "time_train_list = [model[1] for model in model_list]\n",
    "time_predict_list = [model[2] for model in model_list]\n",
    "model_name_list = ['Linear (OrdinalEncoding)', 'Linear (OHE)','CatBoost', 'LightGBM' ]\n",
    "results_df = pd.DataFrame(data={'RMSE':rmse_list, 'Time_train':time_train_list, 'Time_predict':time_predict_list,},\n",
    "                                                                                index=model_name_list)\n",
    "results_df"
   ]
  },
  {
   "cell_type": "markdown",
   "metadata": {},
   "source": [
    "### Вывод\n",
    "\n",
    "- Провели передобработку данных\n",
    "- Применили для категориальных признаков метод OHE\n",
    "- Рассмотрели три алгоритма классификации: CatBoostRegressor, LGBMRegressor, Линейная регрессия\n",
    "\n",
    "Исходя из полученных результатов, можно сделать вывод, что наименьшую ошибку и время обучения выдает LGBMRegressor, хотя ошибка и у CatBoost незнакчительно отличилась. У CatBoost и Линейной регрессии (оба метода) наименьшее время предсказаний.\n",
    "В условии указано, что решающим факторами при выборе модели являются следующие показатели:\n",
    "\n",
    "- Время обучения\n",
    "- Время предсказания\n",
    "- Качество предсказаний\n",
    "\n",
    "Я считаю, что обе модели градиентного бустринга хороши по расчету метрики RMSE, также CatBoost имеет меньшее время предсказаний, чем LGBMRegressor, однако выгоднее всего в данном случае смотрится LGBMRegressor, эта модель при одинаковом подборе гиперпараметров обучается быстрее и выдает наименьшую ошибку, соответственно по 2 из 3 решающих факторов рекомендуется именно эта модель."
   ]
  }
 ],
 "metadata": {
  "ExecuteTimeLog": [
   {
    "duration": 1504,
    "start_time": "2022-08-10T10:04:29.080Z"
   },
   {
    "duration": 1143,
    "start_time": "2022-08-10T10:04:39.513Z"
   },
   {
    "duration": 150,
    "start_time": "2022-08-10T10:04:51.653Z"
   },
   {
    "duration": 86,
    "start_time": "2022-08-10T10:06:00.109Z"
   },
   {
    "duration": 5,
    "start_time": "2022-08-10T10:06:08.704Z"
   },
   {
    "duration": 46,
    "start_time": "2022-08-11T05:42:51.235Z"
   },
   {
    "duration": 1675,
    "start_time": "2022-08-11T05:42:58.222Z"
   },
   {
    "duration": 1259,
    "start_time": "2022-08-11T05:42:59.902Z"
   },
   {
    "duration": 153,
    "start_time": "2022-08-11T05:43:01.162Z"
   },
   {
    "duration": 113,
    "start_time": "2022-08-11T05:43:01.317Z"
   },
   {
    "duration": 5,
    "start_time": "2022-08-11T05:43:01.432Z"
   },
   {
    "duration": 560,
    "start_time": "2022-08-11T05:43:01.439Z"
   },
   {
    "duration": 122,
    "start_time": "2022-08-11T05:52:52.179Z"
   },
   {
    "duration": 27,
    "start_time": "2022-08-11T05:52:56.478Z"
   },
   {
    "duration": 888,
    "start_time": "2022-08-11T05:53:41.279Z"
   },
   {
    "duration": 16,
    "start_time": "2022-08-11T06:04:41.618Z"
   },
   {
    "duration": 321,
    "start_time": "2022-08-11T06:04:47.247Z"
   },
   {
    "duration": 1503,
    "start_time": "2022-08-11T06:05:09.803Z"
   },
   {
    "duration": 870,
    "start_time": "2022-08-11T06:05:11.308Z"
   },
   {
    "duration": 160,
    "start_time": "2022-08-11T06:05:12.179Z"
   },
   {
    "duration": 110,
    "start_time": "2022-08-11T06:05:12.340Z"
   },
   {
    "duration": 953,
    "start_time": "2022-08-11T06:05:12.452Z"
   },
   {
    "duration": 4,
    "start_time": "2022-08-11T06:05:13.407Z"
   },
   {
    "duration": 330,
    "start_time": "2022-08-11T06:05:13.413Z"
   },
   {
    "duration": 478,
    "start_time": "2022-08-11T06:05:13.745Z"
   },
   {
    "duration": 122,
    "start_time": "2022-08-11T06:18:04.314Z"
   },
   {
    "duration": 10,
    "start_time": "2022-08-11T06:26:05.140Z"
   },
   {
    "duration": 380,
    "start_time": "2022-08-11T06:27:04.164Z"
   },
   {
    "duration": 13,
    "start_time": "2022-08-11T06:27:46.744Z"
   },
   {
    "duration": 23,
    "start_time": "2022-08-11T06:34:10.714Z"
   },
   {
    "duration": 118,
    "start_time": "2022-08-11T06:34:22.322Z"
   },
   {
    "duration": 1370,
    "start_time": "2022-08-11T06:34:34.809Z"
   },
   {
    "duration": 940,
    "start_time": "2022-08-11T06:34:36.187Z"
   },
   {
    "duration": 149,
    "start_time": "2022-08-11T06:34:37.128Z"
   },
   {
    "duration": 88,
    "start_time": "2022-08-11T06:34:37.288Z"
   },
   {
    "duration": 862,
    "start_time": "2022-08-11T06:34:37.378Z"
   },
   {
    "duration": 3,
    "start_time": "2022-08-11T06:34:38.242Z"
   },
   {
    "duration": 320,
    "start_time": "2022-08-11T06:34:38.247Z"
   },
   {
    "duration": 445,
    "start_time": "2022-08-11T06:34:38.568Z"
   },
   {
    "duration": 108,
    "start_time": "2022-08-11T06:34:39.015Z"
   },
   {
    "duration": 119,
    "start_time": "2022-08-11T06:34:39.124Z"
   },
   {
    "duration": 10,
    "start_time": "2022-08-11T06:34:39.244Z"
   },
   {
    "duration": 356,
    "start_time": "2022-08-11T06:34:39.256Z"
   },
   {
    "duration": 13,
    "start_time": "2022-08-11T06:34:39.614Z"
   },
   {
    "duration": 78,
    "start_time": "2022-08-11T06:36:58.693Z"
   },
   {
    "duration": 24,
    "start_time": "2022-08-11T06:38:46.031Z"
   },
   {
    "duration": 21,
    "start_time": "2022-08-11T06:40:52.030Z"
   },
   {
    "duration": 139,
    "start_time": "2022-08-11T06:48:19.601Z"
   },
   {
    "duration": 110,
    "start_time": "2022-08-11T06:49:19.840Z"
   },
   {
    "duration": 121,
    "start_time": "2022-08-11T06:49:27.602Z"
   },
   {
    "duration": 339,
    "start_time": "2022-08-11T06:50:23.199Z"
   },
   {
    "duration": 22,
    "start_time": "2022-08-11T06:51:30.742Z"
   },
   {
    "duration": 1332,
    "start_time": "2022-08-11T06:51:41.482Z"
   },
   {
    "duration": 829,
    "start_time": "2022-08-11T06:51:42.816Z"
   },
   {
    "duration": 154,
    "start_time": "2022-08-11T06:51:43.646Z"
   },
   {
    "duration": 132,
    "start_time": "2022-08-11T06:51:43.803Z"
   },
   {
    "duration": 865,
    "start_time": "2022-08-11T06:51:43.937Z"
   },
   {
    "duration": 4,
    "start_time": "2022-08-11T06:51:44.804Z"
   },
   {
    "duration": 312,
    "start_time": "2022-08-11T06:51:44.809Z"
   },
   {
    "duration": 456,
    "start_time": "2022-08-11T06:51:45.123Z"
   },
   {
    "duration": 114,
    "start_time": "2022-08-11T06:51:45.580Z"
   },
   {
    "duration": 84,
    "start_time": "2022-08-11T06:51:45.698Z"
   },
   {
    "duration": 30,
    "start_time": "2022-08-11T06:51:45.783Z"
   },
   {
    "duration": 157,
    "start_time": "2022-08-11T06:51:45.815Z"
   },
   {
    "duration": 144,
    "start_time": "2022-08-11T06:51:45.973Z"
   },
   {
    "duration": 358,
    "start_time": "2022-08-11T06:51:46.118Z"
   },
   {
    "duration": 4,
    "start_time": "2022-08-11T06:53:56.584Z"
   },
   {
    "duration": 122,
    "start_time": "2022-08-11T06:54:32.381Z"
   },
   {
    "duration": 18,
    "start_time": "2022-08-11T06:54:42.952Z"
   },
   {
    "duration": 26,
    "start_time": "2022-08-11T06:55:46.813Z"
   },
   {
    "duration": 1387,
    "start_time": "2022-08-11T06:55:53.106Z"
   },
   {
    "duration": 850,
    "start_time": "2022-08-11T06:55:54.494Z"
   },
   {
    "duration": 145,
    "start_time": "2022-08-11T06:55:55.346Z"
   },
   {
    "duration": 132,
    "start_time": "2022-08-11T06:55:55.496Z"
   },
   {
    "duration": 1078,
    "start_time": "2022-08-11T06:55:55.630Z"
   },
   {
    "duration": 5,
    "start_time": "2022-08-11T06:55:56.711Z"
   },
   {
    "duration": 330,
    "start_time": "2022-08-11T06:55:56.718Z"
   },
   {
    "duration": 484,
    "start_time": "2022-08-11T06:55:57.050Z"
   },
   {
    "duration": 128,
    "start_time": "2022-08-11T06:55:57.536Z"
   },
   {
    "duration": 103,
    "start_time": "2022-08-11T06:55:57.667Z"
   },
   {
    "duration": 34,
    "start_time": "2022-08-11T06:55:57.772Z"
   },
   {
    "duration": 146,
    "start_time": "2022-08-11T06:55:57.808Z"
   },
   {
    "duration": 147,
    "start_time": "2022-08-11T06:55:57.956Z"
   },
   {
    "duration": 328,
    "start_time": "2022-08-11T06:55:58.106Z"
   },
   {
    "duration": 4,
    "start_time": "2022-08-11T06:55:58.435Z"
   },
   {
    "duration": 129,
    "start_time": "2022-08-11T06:55:58.440Z"
   },
   {
    "duration": 17,
    "start_time": "2022-08-11T06:57:22.747Z"
   },
   {
    "duration": 28,
    "start_time": "2022-08-11T06:58:07.586Z"
   },
   {
    "duration": 26,
    "start_time": "2022-08-11T06:59:10.551Z"
   },
   {
    "duration": 18,
    "start_time": "2022-08-11T06:59:15.963Z"
   },
   {
    "duration": 14,
    "start_time": "2022-08-11T07:00:01.971Z"
   },
   {
    "duration": 19,
    "start_time": "2022-08-11T07:00:39.507Z"
   },
   {
    "duration": 23,
    "start_time": "2022-08-11T07:01:06.440Z"
   },
   {
    "duration": 22,
    "start_time": "2022-08-11T07:03:17.527Z"
   },
   {
    "duration": 28,
    "start_time": "2022-08-11T07:03:27.675Z"
   },
   {
    "duration": 14,
    "start_time": "2022-08-11T07:03:55.603Z"
   },
   {
    "duration": 20,
    "start_time": "2022-08-11T07:03:58.848Z"
   },
   {
    "duration": 25,
    "start_time": "2022-08-11T07:04:01.960Z"
   },
   {
    "duration": 64,
    "start_time": "2022-08-11T07:04:37.508Z"
   },
   {
    "duration": 9,
    "start_time": "2022-08-11T07:04:43.416Z"
   },
   {
    "duration": 12,
    "start_time": "2022-08-11T07:06:25.499Z"
   },
   {
    "duration": 10,
    "start_time": "2022-08-11T07:06:33.719Z"
   },
   {
    "duration": 14,
    "start_time": "2022-08-11T07:06:43.311Z"
   },
   {
    "duration": 12,
    "start_time": "2022-08-11T07:07:36.120Z"
   },
   {
    "duration": 61,
    "start_time": "2022-08-11T07:07:59.680Z"
   },
   {
    "duration": 4,
    "start_time": "2022-08-11T07:08:44.036Z"
   },
   {
    "duration": 212,
    "start_time": "2022-08-11T07:08:44.709Z"
   },
   {
    "duration": 4,
    "start_time": "2022-08-11T07:09:39.976Z"
   },
   {
    "duration": 3473,
    "start_time": "2022-08-11T07:09:40.563Z"
   },
   {
    "duration": 5,
    "start_time": "2022-08-11T07:09:56.348Z"
   },
   {
    "duration": 203,
    "start_time": "2022-08-11T07:10:03.512Z"
   },
   {
    "duration": 4,
    "start_time": "2022-08-11T07:10:38.720Z"
   },
   {
    "duration": 200,
    "start_time": "2022-08-11T07:10:39.436Z"
   },
   {
    "duration": 285,
    "start_time": "2022-08-11T07:13:09.020Z"
   },
   {
    "duration": 129,
    "start_time": "2022-08-11T07:13:13.356Z"
   },
   {
    "duration": 152,
    "start_time": "2022-08-11T07:13:15.811Z"
   },
   {
    "duration": 197,
    "start_time": "2022-08-11T07:13:20.236Z"
   },
   {
    "duration": 11,
    "start_time": "2022-08-11T07:16:32.067Z"
   },
   {
    "duration": 11,
    "start_time": "2022-08-11T07:18:01.810Z"
   },
   {
    "duration": 31,
    "start_time": "2022-08-11T07:18:09.302Z"
   },
   {
    "duration": 24,
    "start_time": "2022-08-11T07:18:15.576Z"
   },
   {
    "duration": 19,
    "start_time": "2022-08-11T07:18:43.843Z"
   },
   {
    "duration": 302,
    "start_time": "2022-08-11T07:19:25.656Z"
   },
   {
    "duration": 3,
    "start_time": "2022-08-11T07:20:09.236Z"
   },
   {
    "duration": 206,
    "start_time": "2022-08-11T07:20:10.632Z"
   },
   {
    "duration": 179,
    "start_time": "2022-08-11T07:20:13.544Z"
   },
   {
    "duration": 138,
    "start_time": "2022-08-11T07:20:14.143Z"
   },
   {
    "duration": 189,
    "start_time": "2022-08-11T07:20:14.684Z"
   },
   {
    "duration": 211,
    "start_time": "2022-08-11T07:20:16.000Z"
   },
   {
    "duration": 8,
    "start_time": "2022-08-11T07:20:18.039Z"
   },
   {
    "duration": 27,
    "start_time": "2022-08-11T07:20:19.547Z"
   },
   {
    "duration": 18,
    "start_time": "2022-08-11T07:20:20.364Z"
   },
   {
    "duration": 414,
    "start_time": "2022-08-11T07:20:22.000Z"
   },
   {
    "duration": 1402,
    "start_time": "2022-08-11T07:20:30.579Z"
   },
   {
    "duration": 853,
    "start_time": "2022-08-11T07:20:31.984Z"
   },
   {
    "duration": 134,
    "start_time": "2022-08-11T07:20:32.839Z"
   },
   {
    "duration": 155,
    "start_time": "2022-08-11T07:20:32.975Z"
   },
   {
    "duration": 903,
    "start_time": "2022-08-11T07:20:33.132Z"
   },
   {
    "duration": 5,
    "start_time": "2022-08-11T07:20:34.037Z"
   },
   {
    "duration": 308,
    "start_time": "2022-08-11T07:20:34.043Z"
   },
   {
    "duration": 449,
    "start_time": "2022-08-11T07:20:34.353Z"
   },
   {
    "duration": 121,
    "start_time": "2022-08-11T07:20:34.804Z"
   },
   {
    "duration": 100,
    "start_time": "2022-08-11T07:20:34.927Z"
   },
   {
    "duration": 22,
    "start_time": "2022-08-11T07:20:35.029Z"
   },
   {
    "duration": 172,
    "start_time": "2022-08-11T07:20:35.053Z"
   },
   {
    "duration": 124,
    "start_time": "2022-08-11T07:20:35.226Z"
   },
   {
    "duration": 322,
    "start_time": "2022-08-11T07:20:35.353Z"
   },
   {
    "duration": 3,
    "start_time": "2022-08-11T07:20:35.677Z"
   },
   {
    "duration": 223,
    "start_time": "2022-08-11T07:20:35.681Z"
   },
   {
    "duration": 171,
    "start_time": "2022-08-11T07:20:35.905Z"
   },
   {
    "duration": 136,
    "start_time": "2022-08-11T07:20:36.077Z"
   },
   {
    "duration": 271,
    "start_time": "2022-08-11T07:20:36.215Z"
   },
   {
    "duration": 220,
    "start_time": "2022-08-11T07:20:36.488Z"
   },
   {
    "duration": 10,
    "start_time": "2022-08-11T07:20:36.709Z"
   },
   {
    "duration": 22,
    "start_time": "2022-08-11T07:20:36.721Z"
   },
   {
    "duration": 18,
    "start_time": "2022-08-11T07:20:36.744Z"
   },
   {
    "duration": 351,
    "start_time": "2022-08-11T07:20:36.763Z"
   },
   {
    "duration": 111,
    "start_time": "2022-08-11T07:20:55.363Z"
   },
   {
    "duration": 1056,
    "start_time": "2022-08-11T07:21:05.359Z"
   },
   {
    "duration": 320,
    "start_time": "2022-08-11T07:21:21.499Z"
   },
   {
    "duration": 309,
    "start_time": "2022-08-11T07:27:48.714Z"
   },
   {
    "duration": 20,
    "start_time": "2022-08-11T07:29:05.634Z"
   },
   {
    "duration": 213,
    "start_time": "2022-08-11T07:29:39.811Z"
   },
   {
    "duration": 17,
    "start_time": "2022-08-11T07:30:42.858Z"
   },
   {
    "duration": 34,
    "start_time": "2022-08-11T07:32:31.304Z"
   },
   {
    "duration": 27,
    "start_time": "2022-08-11T07:32:40.233Z"
   },
   {
    "duration": 4,
    "start_time": "2022-08-11T07:34:40.873Z"
   },
   {
    "duration": 21,
    "start_time": "2022-08-11T07:34:42.016Z"
   },
   {
    "duration": 4,
    "start_time": "2022-08-11T07:34:52.957Z"
   },
   {
    "duration": 190,
    "start_time": "2022-08-11T07:34:53.677Z"
   },
   {
    "duration": 4,
    "start_time": "2022-08-11T07:35:24.549Z"
   },
   {
    "duration": 236,
    "start_time": "2022-08-11T07:35:26.185Z"
   },
   {
    "duration": 4,
    "start_time": "2022-08-11T07:35:37.813Z"
   },
   {
    "duration": 284,
    "start_time": "2022-08-11T07:35:39.092Z"
   },
   {
    "duration": 245,
    "start_time": "2022-08-11T07:36:15.513Z"
   },
   {
    "duration": 192,
    "start_time": "2022-08-11T07:36:53.827Z"
   },
   {
    "duration": 10,
    "start_time": "2022-08-11T07:36:57.653Z"
   },
   {
    "duration": 4,
    "start_time": "2022-08-11T07:37:02.569Z"
   },
   {
    "duration": 18,
    "start_time": "2022-08-11T07:41:35.429Z"
   },
   {
    "duration": 3,
    "start_time": "2022-08-11T07:41:36.113Z"
   },
   {
    "duration": 180,
    "start_time": "2022-08-11T07:41:36.933Z"
   },
   {
    "duration": 1694,
    "start_time": "2022-08-11T07:41:44.476Z"
   },
   {
    "duration": 1072,
    "start_time": "2022-08-11T07:41:46.172Z"
   },
   {
    "duration": 177,
    "start_time": "2022-08-11T07:41:47.246Z"
   },
   {
    "duration": 152,
    "start_time": "2022-08-11T07:41:47.425Z"
   },
   {
    "duration": 1092,
    "start_time": "2022-08-11T07:41:47.579Z"
   },
   {
    "duration": 4,
    "start_time": "2022-08-11T07:41:48.672Z"
   },
   {
    "duration": 350,
    "start_time": "2022-08-11T07:41:48.677Z"
   },
   {
    "duration": 512,
    "start_time": "2022-08-11T07:41:49.029Z"
   },
   {
    "duration": 126,
    "start_time": "2022-08-11T07:41:49.543Z"
   },
   {
    "duration": 96,
    "start_time": "2022-08-11T07:41:49.672Z"
   },
   {
    "duration": 44,
    "start_time": "2022-08-11T07:41:49.769Z"
   },
   {
    "duration": 152,
    "start_time": "2022-08-11T07:41:49.815Z"
   },
   {
    "duration": 160,
    "start_time": "2022-08-11T07:41:49.969Z"
   },
   {
    "duration": 4,
    "start_time": "2022-08-11T07:41:50.130Z"
   },
   {
    "duration": 211,
    "start_time": "2022-08-11T07:41:50.135Z"
   },
   {
    "duration": 198,
    "start_time": "2022-08-11T07:41:50.348Z"
   },
   {
    "duration": 158,
    "start_time": "2022-08-11T07:41:50.547Z"
   },
   {
    "duration": 246,
    "start_time": "2022-08-11T07:41:50.707Z"
   },
   {
    "duration": 215,
    "start_time": "2022-08-11T07:41:50.954Z"
   },
   {
    "duration": 29,
    "start_time": "2022-08-11T07:41:51.170Z"
   },
   {
    "duration": 36,
    "start_time": "2022-08-11T07:41:51.203Z"
   },
   {
    "duration": 20,
    "start_time": "2022-08-11T07:41:51.240Z"
   },
   {
    "duration": 387,
    "start_time": "2022-08-11T07:41:51.261Z"
   },
   {
    "duration": 378,
    "start_time": "2022-08-11T07:41:51.649Z"
   },
   {
    "duration": 31,
    "start_time": "2022-08-11T07:41:52.029Z"
   },
   {
    "duration": 250,
    "start_time": "2022-08-11T07:41:52.062Z"
   },
   {
    "duration": 24,
    "start_time": "2022-08-11T07:41:52.314Z"
   },
   {
    "duration": 3,
    "start_time": "2022-08-11T07:41:52.341Z"
   },
   {
    "duration": 212,
    "start_time": "2022-08-11T07:41:52.346Z"
   },
   {
    "duration": 282,
    "start_time": "2022-08-11T07:41:52.560Z"
   },
   {
    "duration": 191,
    "start_time": "2022-08-11T07:41:52.845Z"
   },
   {
    "duration": 283,
    "start_time": "2022-08-11T07:41:53.038Z"
   },
   {
    "duration": 3,
    "start_time": "2022-08-11T07:41:53.323Z"
   },
   {
    "duration": 193,
    "start_time": "2022-08-11T07:44:04.760Z"
   },
   {
    "duration": 11,
    "start_time": "2022-08-11T07:46:02.264Z"
   },
   {
    "duration": 1350,
    "start_time": "2022-08-11T07:48:40.599Z"
   },
   {
    "duration": 852,
    "start_time": "2022-08-11T07:48:41.950Z"
   },
   {
    "duration": 153,
    "start_time": "2022-08-11T07:48:42.803Z"
   },
   {
    "duration": 95,
    "start_time": "2022-08-11T07:48:42.958Z"
   },
   {
    "duration": 852,
    "start_time": "2022-08-11T07:48:43.054Z"
   },
   {
    "duration": 4,
    "start_time": "2022-08-11T07:48:43.908Z"
   },
   {
    "duration": 321,
    "start_time": "2022-08-11T07:48:43.913Z"
   },
   {
    "duration": 445,
    "start_time": "2022-08-11T07:48:44.235Z"
   },
   {
    "duration": 113,
    "start_time": "2022-08-11T07:48:44.681Z"
   },
   {
    "duration": 83,
    "start_time": "2022-08-11T07:48:44.796Z"
   },
   {
    "duration": 33,
    "start_time": "2022-08-11T07:48:44.880Z"
   },
   {
    "duration": 154,
    "start_time": "2022-08-11T07:48:44.915Z"
   },
   {
    "duration": 135,
    "start_time": "2022-08-11T07:48:45.071Z"
   },
   {
    "duration": 330,
    "start_time": "2022-08-11T07:48:45.208Z"
   },
   {
    "duration": 47,
    "start_time": "2022-08-11T07:49:05.220Z"
   },
   {
    "duration": 106,
    "start_time": "2022-08-11T08:58:02.347Z"
   },
   {
    "duration": 5,
    "start_time": "2022-08-11T08:58:21.858Z"
   },
   {
    "duration": 4,
    "start_time": "2022-08-11T09:06:23.298Z"
   },
   {
    "duration": 382,
    "start_time": "2022-08-11T09:07:27.883Z"
   },
   {
    "duration": 323,
    "start_time": "2022-08-11T09:08:00.354Z"
   },
   {
    "duration": 1471,
    "start_time": "2022-08-11T09:08:08.096Z"
   },
   {
    "duration": 842,
    "start_time": "2022-08-11T09:08:09.570Z"
   },
   {
    "duration": 150,
    "start_time": "2022-08-11T09:08:10.413Z"
   },
   {
    "duration": 95,
    "start_time": "2022-08-11T09:08:10.565Z"
   },
   {
    "duration": 852,
    "start_time": "2022-08-11T09:08:10.662Z"
   },
   {
    "duration": 4,
    "start_time": "2022-08-11T09:08:11.516Z"
   },
   {
    "duration": 290,
    "start_time": "2022-08-11T09:08:11.521Z"
   },
   {
    "duration": 450,
    "start_time": "2022-08-11T09:08:11.813Z"
   },
   {
    "duration": 103,
    "start_time": "2022-08-11T09:08:12.265Z"
   },
   {
    "duration": 85,
    "start_time": "2022-08-11T09:08:12.371Z"
   },
   {
    "duration": 30,
    "start_time": "2022-08-11T09:08:12.457Z"
   },
   {
    "duration": 139,
    "start_time": "2022-08-11T09:08:12.489Z"
   },
   {
    "duration": 123,
    "start_time": "2022-08-11T09:08:12.630Z"
   },
   {
    "duration": 314,
    "start_time": "2022-08-11T09:08:12.755Z"
   },
   {
    "duration": 52,
    "start_time": "2022-08-11T09:08:13.071Z"
   },
   {
    "duration": 102,
    "start_time": "2022-08-11T09:08:13.124Z"
   },
   {
    "duration": 5,
    "start_time": "2022-08-11T09:08:13.228Z"
   },
   {
    "duration": 4,
    "start_time": "2022-08-11T09:08:13.234Z"
   },
   {
    "duration": 361,
    "start_time": "2022-08-11T09:08:13.240Z"
   },
   {
    "duration": 26,
    "start_time": "2022-08-11T09:08:31.028Z"
   },
   {
    "duration": 1560,
    "start_time": "2022-08-12T05:40:40.794Z"
   },
   {
    "duration": 1146,
    "start_time": "2022-08-12T05:40:42.356Z"
   },
   {
    "duration": 111,
    "start_time": "2022-08-12T05:40:43.503Z"
   },
   {
    "duration": 128,
    "start_time": "2022-08-12T05:40:43.615Z"
   },
   {
    "duration": 719,
    "start_time": "2022-08-12T05:40:43.745Z"
   },
   {
    "duration": 4,
    "start_time": "2022-08-12T05:40:44.466Z"
   },
   {
    "duration": 297,
    "start_time": "2022-08-12T05:40:44.472Z"
   },
   {
    "duration": 380,
    "start_time": "2022-08-12T05:40:44.770Z"
   },
   {
    "duration": 92,
    "start_time": "2022-08-12T05:40:45.151Z"
   },
   {
    "duration": 78,
    "start_time": "2022-08-12T05:40:45.246Z"
   },
   {
    "duration": 20,
    "start_time": "2022-08-12T05:40:45.325Z"
   },
   {
    "duration": 131,
    "start_time": "2022-08-12T05:40:45.346Z"
   },
   {
    "duration": 126,
    "start_time": "2022-08-12T05:40:45.478Z"
   },
   {
    "duration": 306,
    "start_time": "2022-08-12T05:40:45.605Z"
   },
   {
    "duration": 44,
    "start_time": "2022-08-12T05:40:45.913Z"
   },
   {
    "duration": 92,
    "start_time": "2022-08-12T05:40:45.959Z"
   },
   {
    "duration": 5,
    "start_time": "2022-08-12T05:40:46.052Z"
   },
   {
    "duration": 8,
    "start_time": "2022-08-12T05:40:46.058Z"
   },
   {
    "duration": 421,
    "start_time": "2022-08-12T05:40:46.067Z"
   },
   {
    "duration": 29,
    "start_time": "2022-08-12T05:40:46.490Z"
   },
   {
    "duration": 4,
    "start_time": "2022-08-12T05:42:37.154Z"
   },
   {
    "duration": 1324,
    "start_time": "2022-08-12T05:42:42.425Z"
   },
   {
    "duration": 731,
    "start_time": "2022-08-12T05:42:43.751Z"
   },
   {
    "duration": 111,
    "start_time": "2022-08-12T05:42:44.484Z"
   },
   {
    "duration": 95,
    "start_time": "2022-08-12T05:42:44.597Z"
   },
   {
    "duration": 698,
    "start_time": "2022-08-12T05:42:44.694Z"
   },
   {
    "duration": 3,
    "start_time": "2022-08-12T05:42:45.394Z"
   },
   {
    "duration": 277,
    "start_time": "2022-08-12T05:42:45.399Z"
   },
   {
    "duration": 374,
    "start_time": "2022-08-12T05:42:45.678Z"
   },
   {
    "duration": 89,
    "start_time": "2022-08-12T05:42:46.054Z"
   },
   {
    "duration": 76,
    "start_time": "2022-08-12T05:42:46.145Z"
   },
   {
    "duration": 28,
    "start_time": "2022-08-12T05:42:46.222Z"
   },
   {
    "duration": 138,
    "start_time": "2022-08-12T05:42:46.252Z"
   },
   {
    "duration": 120,
    "start_time": "2022-08-12T05:42:46.391Z"
   },
   {
    "duration": 321,
    "start_time": "2022-08-12T05:42:46.514Z"
   },
   {
    "duration": 45,
    "start_time": "2022-08-12T05:42:46.837Z"
   },
   {
    "duration": 95,
    "start_time": "2022-08-12T05:42:46.883Z"
   },
   {
    "duration": 4,
    "start_time": "2022-08-12T05:42:46.980Z"
   },
   {
    "duration": 17,
    "start_time": "2022-08-12T05:42:46.985Z"
   },
   {
    "duration": 374,
    "start_time": "2022-08-12T05:42:47.003Z"
   },
   {
    "duration": 35,
    "start_time": "2022-08-12T05:42:47.379Z"
   },
   {
    "duration": 657,
    "start_time": "2022-08-12T05:53:05.390Z"
   },
   {
    "duration": 787,
    "start_time": "2022-08-12T05:54:06.124Z"
   },
   {
    "duration": 5,
    "start_time": "2022-08-12T05:55:27.224Z"
   },
   {
    "duration": 8,
    "start_time": "2022-08-12T05:55:47.366Z"
   },
   {
    "duration": 4,
    "start_time": "2022-08-12T05:56:20.833Z"
   },
   {
    "duration": 1329,
    "start_time": "2022-08-12T05:56:25.931Z"
   },
   {
    "duration": 787,
    "start_time": "2022-08-12T05:56:27.262Z"
   },
   {
    "duration": 127,
    "start_time": "2022-08-12T05:56:28.050Z"
   },
   {
    "duration": 147,
    "start_time": "2022-08-12T05:56:28.179Z"
   },
   {
    "duration": 766,
    "start_time": "2022-08-12T05:56:28.327Z"
   },
   {
    "duration": 4,
    "start_time": "2022-08-12T05:56:29.095Z"
   },
   {
    "duration": 317,
    "start_time": "2022-08-12T05:56:29.101Z"
   },
   {
    "duration": 427,
    "start_time": "2022-08-12T05:56:29.439Z"
   },
   {
    "duration": 107,
    "start_time": "2022-08-12T05:56:29.868Z"
   },
   {
    "duration": 86,
    "start_time": "2022-08-12T05:56:29.978Z"
   },
   {
    "duration": 39,
    "start_time": "2022-08-12T05:56:30.066Z"
   },
   {
    "duration": 169,
    "start_time": "2022-08-12T05:56:30.107Z"
   },
   {
    "duration": 141,
    "start_time": "2022-08-12T05:56:30.277Z"
   },
   {
    "duration": 346,
    "start_time": "2022-08-12T05:56:30.422Z"
   },
   {
    "duration": 61,
    "start_time": "2022-08-12T05:56:30.770Z"
   },
   {
    "duration": 111,
    "start_time": "2022-08-12T05:56:30.833Z"
   },
   {
    "duration": 5,
    "start_time": "2022-08-12T05:56:30.945Z"
   },
   {
    "duration": 44,
    "start_time": "2022-08-12T05:56:30.952Z"
   },
   {
    "duration": 446,
    "start_time": "2022-08-12T05:56:30.998Z"
   },
   {
    "duration": 30,
    "start_time": "2022-08-12T05:56:31.446Z"
   },
   {
    "duration": 870,
    "start_time": "2022-08-12T05:56:31.478Z"
   },
   {
    "duration": 4,
    "start_time": "2022-08-12T05:56:32.349Z"
   },
   {
    "duration": 1398,
    "start_time": "2022-08-12T05:58:06.789Z"
   },
   {
    "duration": 749,
    "start_time": "2022-08-12T05:58:08.189Z"
   },
   {
    "duration": 117,
    "start_time": "2022-08-12T05:58:08.940Z"
   },
   {
    "duration": 105,
    "start_time": "2022-08-12T05:58:09.058Z"
   },
   {
    "duration": 726,
    "start_time": "2022-08-12T05:58:09.166Z"
   },
   {
    "duration": 3,
    "start_time": "2022-08-12T05:58:09.894Z"
   },
   {
    "duration": 284,
    "start_time": "2022-08-12T05:58:09.910Z"
   },
   {
    "duration": 434,
    "start_time": "2022-08-12T05:58:10.196Z"
   },
   {
    "duration": 92,
    "start_time": "2022-08-12T05:58:10.632Z"
   },
   {
    "duration": 75,
    "start_time": "2022-08-12T05:58:10.726Z"
   },
   {
    "duration": 33,
    "start_time": "2022-08-12T05:58:10.811Z"
   },
   {
    "duration": 178,
    "start_time": "2022-08-12T05:58:10.846Z"
   },
   {
    "duration": 123,
    "start_time": "2022-08-12T05:58:11.026Z"
   },
   {
    "duration": 326,
    "start_time": "2022-08-12T05:58:11.152Z"
   },
   {
    "duration": 59,
    "start_time": "2022-08-12T05:58:11.479Z"
   },
   {
    "duration": 104,
    "start_time": "2022-08-12T05:58:11.540Z"
   },
   {
    "duration": 5,
    "start_time": "2022-08-12T05:58:11.646Z"
   },
   {
    "duration": 7,
    "start_time": "2022-08-12T05:58:11.652Z"
   },
   {
    "duration": 416,
    "start_time": "2022-08-12T05:58:11.660Z"
   },
   {
    "duration": 45,
    "start_time": "2022-08-12T05:58:12.078Z"
   },
   {
    "duration": 885,
    "start_time": "2022-08-12T05:58:12.125Z"
   },
   {
    "duration": 4,
    "start_time": "2022-08-12T05:58:13.026Z"
   },
   {
    "duration": 0,
    "start_time": "2022-08-12T05:59:58.636Z"
   },
   {
    "duration": 0,
    "start_time": "2022-08-12T05:59:58.637Z"
   },
   {
    "duration": 0,
    "start_time": "2022-08-12T05:59:58.638Z"
   },
   {
    "duration": 2,
    "start_time": "2022-08-12T06:01:13.959Z"
   },
   {
    "duration": 831,
    "start_time": "2022-08-12T06:01:15.138Z"
   },
   {
    "duration": 3,
    "start_time": "2022-08-12T06:01:18.242Z"
   },
   {
    "duration": 113771,
    "start_time": "2022-08-12T06:01:20.645Z"
   },
   {
    "duration": 10,
    "start_time": "2022-08-12T06:03:19.282Z"
   },
   {
    "duration": 10,
    "start_time": "2022-08-12T06:03:31.146Z"
   },
   {
    "duration": 9,
    "start_time": "2022-08-12T06:04:16.762Z"
   },
   {
    "duration": 4,
    "start_time": "2022-08-12T06:08:59.023Z"
   },
   {
    "duration": 0,
    "start_time": "2022-08-12T06:08:59.041Z"
   },
   {
    "duration": 0,
    "start_time": "2022-08-12T06:08:59.042Z"
   },
   {
    "duration": 10,
    "start_time": "2022-08-12T06:09:37.373Z"
   },
   {
    "duration": 856,
    "start_time": "2022-08-12T06:09:42.253Z"
   },
   {
    "duration": 1350,
    "start_time": "2022-08-12T06:11:48.007Z"
   },
   {
    "duration": 770,
    "start_time": "2022-08-12T06:11:49.359Z"
   },
   {
    "duration": 124,
    "start_time": "2022-08-12T06:11:50.130Z"
   },
   {
    "duration": 103,
    "start_time": "2022-08-12T06:11:50.255Z"
   },
   {
    "duration": 731,
    "start_time": "2022-08-12T06:11:50.360Z"
   },
   {
    "duration": 3,
    "start_time": "2022-08-12T06:11:51.093Z"
   },
   {
    "duration": 278,
    "start_time": "2022-08-12T06:11:51.098Z"
   },
   {
    "duration": 410,
    "start_time": "2022-08-12T06:11:51.378Z"
   },
   {
    "duration": 100,
    "start_time": "2022-08-12T06:11:51.789Z"
   },
   {
    "duration": 85,
    "start_time": "2022-08-12T06:11:51.891Z"
   },
   {
    "duration": 37,
    "start_time": "2022-08-12T06:11:51.977Z"
   },
   {
    "duration": 138,
    "start_time": "2022-08-12T06:11:52.016Z"
   },
   {
    "duration": 130,
    "start_time": "2022-08-12T06:11:52.155Z"
   },
   {
    "duration": 343,
    "start_time": "2022-08-12T06:11:52.288Z"
   },
   {
    "duration": 64,
    "start_time": "2022-08-12T06:11:52.632Z"
   },
   {
    "duration": 119,
    "start_time": "2022-08-12T06:11:52.698Z"
   },
   {
    "duration": 7,
    "start_time": "2022-08-12T06:11:52.823Z"
   },
   {
    "duration": 9,
    "start_time": "2022-08-12T06:11:52.832Z"
   },
   {
    "duration": 396,
    "start_time": "2022-08-12T06:11:52.843Z"
   },
   {
    "duration": 26,
    "start_time": "2022-08-12T06:11:53.240Z"
   },
   {
    "duration": 128,
    "start_time": "2022-08-12T06:11:53.267Z"
   },
   {
    "duration": 0,
    "start_time": "2022-08-12T06:11:53.397Z"
   },
   {
    "duration": 0,
    "start_time": "2022-08-12T06:11:53.398Z"
   },
   {
    "duration": 0,
    "start_time": "2022-08-12T06:11:53.399Z"
   },
   {
    "duration": 0,
    "start_time": "2022-08-12T06:11:53.400Z"
   },
   {
    "duration": 0,
    "start_time": "2022-08-12T06:11:53.401Z"
   },
   {
    "duration": 3,
    "start_time": "2022-08-12T06:12:06.035Z"
   },
   {
    "duration": 794,
    "start_time": "2022-08-12T06:12:07.256Z"
   },
   {
    "duration": 3,
    "start_time": "2022-08-12T06:12:08.824Z"
   },
   {
    "duration": 97141,
    "start_time": "2022-08-12T06:12:10.488Z"
   },
   {
    "duration": 81012,
    "start_time": "2022-08-12T06:13:47.710Z"
   },
   {
    "duration": 50211,
    "start_time": "2022-08-12T06:15:08.724Z"
   },
   {
    "duration": 6,
    "start_time": "2022-08-12T06:15:58.936Z"
   },
   {
    "duration": 77,
    "start_time": "2022-08-12T06:16:17.379Z"
   },
   {
    "duration": 51530,
    "start_time": "2022-08-12T06:16:22.467Z"
   },
   {
    "duration": 6,
    "start_time": "2022-08-12T06:18:38.636Z"
   },
   {
    "duration": 5,
    "start_time": "2022-08-12T06:18:41.375Z"
   },
   {
    "duration": 1332,
    "start_time": "2022-08-12T06:38:18.564Z"
   },
   {
    "duration": 778,
    "start_time": "2022-08-12T06:38:19.897Z"
   },
   {
    "duration": 117,
    "start_time": "2022-08-12T06:38:20.676Z"
   },
   {
    "duration": 140,
    "start_time": "2022-08-12T06:38:20.794Z"
   },
   {
    "duration": 746,
    "start_time": "2022-08-12T06:38:20.936Z"
   },
   {
    "duration": 3,
    "start_time": "2022-08-12T06:38:21.684Z"
   },
   {
    "duration": 292,
    "start_time": "2022-08-12T06:38:21.688Z"
   },
   {
    "duration": 384,
    "start_time": "2022-08-12T06:38:21.982Z"
   },
   {
    "duration": 113,
    "start_time": "2022-08-12T06:38:22.368Z"
   },
   {
    "duration": 95,
    "start_time": "2022-08-12T06:38:22.483Z"
   },
   {
    "duration": 38,
    "start_time": "2022-08-12T06:38:22.580Z"
   },
   {
    "duration": 172,
    "start_time": "2022-08-12T06:38:22.620Z"
   },
   {
    "duration": 142,
    "start_time": "2022-08-12T06:38:22.795Z"
   },
   {
    "duration": 321,
    "start_time": "2022-08-12T06:38:22.940Z"
   },
   {
    "duration": 62,
    "start_time": "2022-08-12T06:38:23.262Z"
   },
   {
    "duration": 97,
    "start_time": "2022-08-12T06:38:23.326Z"
   },
   {
    "duration": 6,
    "start_time": "2022-08-12T06:38:23.425Z"
   },
   {
    "duration": 12,
    "start_time": "2022-08-12T06:38:23.432Z"
   },
   {
    "duration": 402,
    "start_time": "2022-08-12T06:38:23.445Z"
   },
   {
    "duration": 27,
    "start_time": "2022-08-12T06:38:23.849Z"
   },
   {
    "duration": 2,
    "start_time": "2022-08-12T06:38:23.878Z"
   },
   {
    "duration": 854,
    "start_time": "2022-08-12T06:38:23.881Z"
   },
   {
    "duration": 4,
    "start_time": "2022-08-12T06:38:24.736Z"
   },
   {
    "duration": 38530,
    "start_time": "2022-08-12T06:38:24.742Z"
   },
   {
    "duration": 0,
    "start_time": "2022-08-12T06:39:03.273Z"
   },
   {
    "duration": 0,
    "start_time": "2022-08-12T06:39:03.274Z"
   },
   {
    "duration": 0,
    "start_time": "2022-08-12T06:39:03.275Z"
   },
   {
    "duration": 0,
    "start_time": "2022-08-12T06:39:03.276Z"
   },
   {
    "duration": 0,
    "start_time": "2022-08-12T06:39:03.277Z"
   },
   {
    "duration": 15544,
    "start_time": "2022-08-12T06:40:26.373Z"
   },
   {
    "duration": 36482,
    "start_time": "2022-08-12T06:40:50.333Z"
   },
   {
    "duration": 43990,
    "start_time": "2022-08-12T06:41:42.525Z"
   },
   {
    "duration": 34786,
    "start_time": "2022-08-12T06:44:34.525Z"
   },
   {
    "duration": 6807,
    "start_time": "2022-08-12T06:45:23.440Z"
   },
   {
    "duration": 6826,
    "start_time": "2022-08-12T06:45:46.626Z"
   },
   {
    "duration": 7,
    "start_time": "2022-08-12T06:45:56.364Z"
   },
   {
    "duration": 6,
    "start_time": "2022-08-12T06:45:57.720Z"
   },
   {
    "duration": 3462,
    "start_time": "2022-08-12T06:46:00.589Z"
   },
   {
    "duration": 6920,
    "start_time": "2022-08-12T06:46:14.977Z"
   },
   {
    "duration": 1404,
    "start_time": "2022-08-12T06:49:24.066Z"
   },
   {
    "duration": 765,
    "start_time": "2022-08-12T06:49:25.472Z"
   },
   {
    "duration": 122,
    "start_time": "2022-08-12T06:49:26.238Z"
   },
   {
    "duration": 101,
    "start_time": "2022-08-12T06:49:26.361Z"
   },
   {
    "duration": 766,
    "start_time": "2022-08-12T06:49:26.464Z"
   },
   {
    "duration": 4,
    "start_time": "2022-08-12T06:49:27.231Z"
   },
   {
    "duration": 293,
    "start_time": "2022-08-12T06:49:27.236Z"
   },
   {
    "duration": 391,
    "start_time": "2022-08-12T06:49:27.531Z"
   },
   {
    "duration": 93,
    "start_time": "2022-08-12T06:49:27.923Z"
   },
   {
    "duration": 70,
    "start_time": "2022-08-12T06:49:28.017Z"
   },
   {
    "duration": 36,
    "start_time": "2022-08-12T06:49:28.088Z"
   },
   {
    "duration": 139,
    "start_time": "2022-08-12T06:49:28.126Z"
   },
   {
    "duration": 122,
    "start_time": "2022-08-12T06:49:28.267Z"
   },
   {
    "duration": 319,
    "start_time": "2022-08-12T06:49:28.392Z"
   },
   {
    "duration": 47,
    "start_time": "2022-08-12T06:49:28.713Z"
   },
   {
    "duration": 98,
    "start_time": "2022-08-12T06:49:28.762Z"
   },
   {
    "duration": 5,
    "start_time": "2022-08-12T06:49:28.862Z"
   },
   {
    "duration": 5,
    "start_time": "2022-08-12T06:49:28.868Z"
   },
   {
    "duration": 368,
    "start_time": "2022-08-12T06:49:28.874Z"
   },
   {
    "duration": 27,
    "start_time": "2022-08-12T06:49:29.243Z"
   },
   {
    "duration": 2,
    "start_time": "2022-08-12T06:49:29.271Z"
   },
   {
    "duration": 877,
    "start_time": "2022-08-12T06:49:29.275Z"
   },
   {
    "duration": 4,
    "start_time": "2022-08-12T06:49:30.153Z"
   },
   {
    "duration": 41659,
    "start_time": "2022-08-12T06:49:30.158Z"
   },
   {
    "duration": 62092,
    "start_time": "2022-08-12T06:50:11.819Z"
   },
   {
    "duration": 7196,
    "start_time": "2022-08-12T06:51:13.913Z"
   },
   {
    "duration": 5,
    "start_time": "2022-08-12T06:51:21.111Z"
   },
   {
    "duration": 11,
    "start_time": "2022-08-12T06:51:21.118Z"
   },
   {
    "duration": 6697,
    "start_time": "2022-08-12T06:51:21.131Z"
   },
   {
    "duration": 44,
    "start_time": "2022-08-12T09:26:34.858Z"
   },
   {
    "duration": 3,
    "start_time": "2022-08-12T09:26:46.109Z"
   },
   {
    "duration": 1503,
    "start_time": "2022-08-12T09:28:30.554Z"
   },
   {
    "duration": 1009,
    "start_time": "2022-08-12T09:28:32.059Z"
   },
   {
    "duration": 119,
    "start_time": "2022-08-12T09:28:33.070Z"
   },
   {
    "duration": 111,
    "start_time": "2022-08-12T09:28:33.191Z"
   },
   {
    "duration": 756,
    "start_time": "2022-08-12T09:28:33.308Z"
   },
   {
    "duration": 4,
    "start_time": "2022-08-12T09:28:34.065Z"
   },
   {
    "duration": 274,
    "start_time": "2022-08-12T09:28:34.070Z"
   },
   {
    "duration": 390,
    "start_time": "2022-08-12T09:28:34.346Z"
   },
   {
    "duration": 96,
    "start_time": "2022-08-12T09:28:34.737Z"
   },
   {
    "duration": 81,
    "start_time": "2022-08-12T09:28:34.834Z"
   },
   {
    "duration": 38,
    "start_time": "2022-08-12T09:28:34.917Z"
   },
   {
    "duration": 150,
    "start_time": "2022-08-12T09:28:34.957Z"
   },
   {
    "duration": 111,
    "start_time": "2022-08-12T09:28:35.108Z"
   },
   {
    "duration": 277,
    "start_time": "2022-08-12T09:28:35.222Z"
   },
   {
    "duration": 47,
    "start_time": "2022-08-12T09:28:35.500Z"
   },
   {
    "duration": 104,
    "start_time": "2022-08-12T09:28:35.549Z"
   },
   {
    "duration": 5,
    "start_time": "2022-08-12T09:28:35.655Z"
   },
   {
    "duration": 25,
    "start_time": "2022-08-12T09:28:35.661Z"
   },
   {
    "duration": 408,
    "start_time": "2022-08-12T09:28:35.688Z"
   },
   {
    "duration": 33,
    "start_time": "2022-08-12T09:28:36.098Z"
   },
   {
    "duration": 2,
    "start_time": "2022-08-12T09:28:36.132Z"
   },
   {
    "duration": 13,
    "start_time": "2022-08-12T09:28:36.136Z"
   },
   {
    "duration": 660,
    "start_time": "2022-08-12T09:28:36.151Z"
   },
   {
    "duration": 3,
    "start_time": "2022-08-12T09:28:36.813Z"
   },
   {
    "duration": 28,
    "start_time": "2022-08-12T09:28:36.817Z"
   },
   {
    "duration": 21,
    "start_time": "2022-08-12T09:28:36.847Z"
   },
   {
    "duration": 15,
    "start_time": "2022-08-12T09:28:36.870Z"
   },
   {
    "duration": 17,
    "start_time": "2022-08-12T09:28:36.886Z"
   },
   {
    "duration": 11,
    "start_time": "2022-08-12T09:28:36.905Z"
   },
   {
    "duration": 12,
    "start_time": "2022-08-12T09:28:36.918Z"
   },
   {
    "duration": 657,
    "start_time": "2022-08-12T09:29:01.882Z"
   },
   {
    "duration": 500,
    "start_time": "2022-08-12T09:31:06.277Z"
   },
   {
    "duration": 1369,
    "start_time": "2022-08-12T09:37:59.708Z"
   },
   {
    "duration": 832,
    "start_time": "2022-08-12T09:38:01.079Z"
   },
   {
    "duration": 138,
    "start_time": "2022-08-12T09:38:01.913Z"
   },
   {
    "duration": 107,
    "start_time": "2022-08-12T09:38:02.052Z"
   },
   {
    "duration": 788,
    "start_time": "2022-08-12T09:38:02.162Z"
   },
   {
    "duration": 3,
    "start_time": "2022-08-12T09:38:02.952Z"
   },
   {
    "duration": 317,
    "start_time": "2022-08-12T09:38:02.957Z"
   },
   {
    "duration": 403,
    "start_time": "2022-08-12T09:38:03.275Z"
   },
   {
    "duration": 105,
    "start_time": "2022-08-12T09:38:03.679Z"
   },
   {
    "duration": 77,
    "start_time": "2022-08-12T09:38:03.786Z"
   },
   {
    "duration": 34,
    "start_time": "2022-08-12T09:38:03.864Z"
   },
   {
    "duration": 148,
    "start_time": "2022-08-12T09:38:03.899Z"
   },
   {
    "duration": 112,
    "start_time": "2022-08-12T09:38:04.048Z"
   },
   {
    "duration": 288,
    "start_time": "2022-08-12T09:38:04.163Z"
   },
   {
    "duration": 57,
    "start_time": "2022-08-12T09:38:04.453Z"
   },
   {
    "duration": 100,
    "start_time": "2022-08-12T09:38:04.512Z"
   },
   {
    "duration": 6,
    "start_time": "2022-08-12T09:38:04.614Z"
   },
   {
    "duration": 19,
    "start_time": "2022-08-12T09:38:04.621Z"
   },
   {
    "duration": 350,
    "start_time": "2022-08-12T09:38:04.642Z"
   },
   {
    "duration": 33,
    "start_time": "2022-08-12T09:38:04.993Z"
   },
   {
    "duration": 2,
    "start_time": "2022-08-12T09:38:05.028Z"
   },
   {
    "duration": 11,
    "start_time": "2022-08-12T09:38:05.032Z"
   },
   {
    "duration": 824,
    "start_time": "2022-08-12T09:38:05.044Z"
   },
   {
    "duration": 435,
    "start_time": "2022-08-12T09:38:05.869Z"
   },
   {
    "duration": 4,
    "start_time": "2022-08-12T09:38:06.305Z"
   },
   {
    "duration": 10,
    "start_time": "2022-08-12T09:38:06.310Z"
   },
   {
    "duration": 7,
    "start_time": "2022-08-12T09:38:06.321Z"
   },
   {
    "duration": 5,
    "start_time": "2022-08-12T09:38:06.329Z"
   },
   {
    "duration": 12,
    "start_time": "2022-08-12T09:38:06.335Z"
   },
   {
    "duration": 7,
    "start_time": "2022-08-12T09:38:06.348Z"
   },
   {
    "duration": 7,
    "start_time": "2022-08-12T09:38:06.356Z"
   },
   {
    "duration": 173,
    "start_time": "2022-08-12T09:53:29.719Z"
   },
   {
    "duration": 5,
    "start_time": "2022-08-12T09:53:57.782Z"
   },
   {
    "duration": 1520,
    "start_time": "2022-08-12T09:54:02.878Z"
   },
   {
    "duration": 816,
    "start_time": "2022-08-12T09:54:04.400Z"
   },
   {
    "duration": 139,
    "start_time": "2022-08-12T09:54:05.218Z"
   },
   {
    "duration": 107,
    "start_time": "2022-08-12T09:54:05.360Z"
   },
   {
    "duration": 891,
    "start_time": "2022-08-12T09:54:05.469Z"
   },
   {
    "duration": 5,
    "start_time": "2022-08-12T09:54:06.362Z"
   },
   {
    "duration": 330,
    "start_time": "2022-08-12T09:54:06.368Z"
   },
   {
    "duration": 431,
    "start_time": "2022-08-12T09:54:06.699Z"
   },
   {
    "duration": 114,
    "start_time": "2022-08-12T09:54:07.132Z"
   },
   {
    "duration": 110,
    "start_time": "2022-08-12T09:54:07.249Z"
   },
   {
    "duration": 29,
    "start_time": "2022-08-12T09:54:07.361Z"
   },
   {
    "duration": 139,
    "start_time": "2022-08-12T09:54:07.393Z"
   },
   {
    "duration": 115,
    "start_time": "2022-08-12T09:54:07.534Z"
   },
   {
    "duration": 302,
    "start_time": "2022-08-12T09:54:07.651Z"
   },
   {
    "duration": 63,
    "start_time": "2022-08-12T09:54:07.955Z"
   },
   {
    "duration": 101,
    "start_time": "2022-08-12T09:54:08.020Z"
   },
   {
    "duration": 6,
    "start_time": "2022-08-12T09:54:08.122Z"
   },
   {
    "duration": 22,
    "start_time": "2022-08-12T09:54:08.129Z"
   },
   {
    "duration": 366,
    "start_time": "2022-08-12T09:54:08.153Z"
   },
   {
    "duration": 25,
    "start_time": "2022-08-12T09:54:08.521Z"
   },
   {
    "duration": 2,
    "start_time": "2022-08-12T09:54:08.548Z"
   },
   {
    "duration": 5,
    "start_time": "2022-08-12T09:54:08.552Z"
   },
   {
    "duration": 871,
    "start_time": "2022-08-12T09:54:08.559Z"
   },
   {
    "duration": 446,
    "start_time": "2022-08-12T09:54:09.432Z"
   },
   {
    "duration": 75132,
    "start_time": "2022-08-12T09:54:09.879Z"
   },
   {
    "duration": 3,
    "start_time": "2022-08-12T09:55:25.013Z"
   },
   {
    "duration": 98,
    "start_time": "2022-08-12T09:55:25.018Z"
   },
   {
    "duration": 4,
    "start_time": "2022-08-12T09:55:25.119Z"
   },
   {
    "duration": 13,
    "start_time": "2022-08-12T09:55:25.124Z"
   },
   {
    "duration": 5,
    "start_time": "2022-08-12T09:55:25.139Z"
   },
   {
    "duration": 5,
    "start_time": "2022-08-12T09:55:25.146Z"
   },
   {
    "duration": 5,
    "start_time": "2022-08-12T09:55:25.153Z"
   },
   {
    "duration": 173,
    "start_time": "2022-08-12T09:55:56.139Z"
   },
   {
    "duration": 5,
    "start_time": "2022-08-12T09:56:35.218Z"
   },
   {
    "duration": 1289,
    "start_time": "2022-08-12T09:56:40.462Z"
   },
   {
    "duration": 760,
    "start_time": "2022-08-12T09:56:41.753Z"
   },
   {
    "duration": 142,
    "start_time": "2022-08-12T09:56:42.515Z"
   },
   {
    "duration": 99,
    "start_time": "2022-08-12T09:56:42.659Z"
   },
   {
    "duration": 805,
    "start_time": "2022-08-12T09:56:42.760Z"
   },
   {
    "duration": 3,
    "start_time": "2022-08-12T09:56:43.567Z"
   },
   {
    "duration": 296,
    "start_time": "2022-08-12T09:56:43.571Z"
   },
   {
    "duration": 405,
    "start_time": "2022-08-12T09:56:43.869Z"
   },
   {
    "duration": 103,
    "start_time": "2022-08-12T09:56:44.276Z"
   },
   {
    "duration": 79,
    "start_time": "2022-08-12T09:56:44.382Z"
   },
   {
    "duration": 21,
    "start_time": "2022-08-12T09:56:44.462Z"
   },
   {
    "duration": 148,
    "start_time": "2022-08-12T09:56:44.485Z"
   },
   {
    "duration": 116,
    "start_time": "2022-08-12T09:56:44.639Z"
   },
   {
    "duration": 300,
    "start_time": "2022-08-12T09:56:44.756Z"
   },
   {
    "duration": 55,
    "start_time": "2022-08-12T09:56:45.057Z"
   },
   {
    "duration": 100,
    "start_time": "2022-08-12T09:56:45.113Z"
   },
   {
    "duration": 5,
    "start_time": "2022-08-12T09:56:45.215Z"
   },
   {
    "duration": 5,
    "start_time": "2022-08-12T09:56:45.221Z"
   },
   {
    "duration": 363,
    "start_time": "2022-08-12T09:56:45.227Z"
   },
   {
    "duration": 32,
    "start_time": "2022-08-12T09:56:45.592Z"
   },
   {
    "duration": 3,
    "start_time": "2022-08-12T09:56:45.626Z"
   },
   {
    "duration": 11,
    "start_time": "2022-08-12T09:56:45.630Z"
   },
   {
    "duration": 909,
    "start_time": "2022-08-12T09:56:45.643Z"
   },
   {
    "duration": 420,
    "start_time": "2022-08-12T09:56:46.553Z"
   },
   {
    "duration": 73536,
    "start_time": "2022-08-12T09:56:46.975Z"
   },
   {
    "duration": 82598,
    "start_time": "2022-08-12T09:58:00.513Z"
   },
   {
    "duration": 4,
    "start_time": "2022-08-12T09:59:23.113Z"
   },
   {
    "duration": 193,
    "start_time": "2022-08-12T09:59:23.120Z"
   },
   {
    "duration": 7,
    "start_time": "2022-08-12T09:59:23.314Z"
   },
   {
    "duration": 8,
    "start_time": "2022-08-12T09:59:23.322Z"
   },
   {
    "duration": 7,
    "start_time": "2022-08-12T09:59:23.331Z"
   },
   {
    "duration": 7,
    "start_time": "2022-08-12T09:59:23.339Z"
   },
   {
    "duration": 6,
    "start_time": "2022-08-12T09:59:23.347Z"
   },
   {
    "duration": 8098,
    "start_time": "2022-08-12T10:02:16.556Z"
   },
   {
    "duration": 9860,
    "start_time": "2022-08-12T10:02:36.730Z"
   },
   {
    "duration": 7032,
    "start_time": "2022-08-12T10:04:15.102Z"
   },
   {
    "duration": 1922,
    "start_time": "2022-08-12T10:05:16.118Z"
   },
   {
    "duration": 10,
    "start_time": "2022-08-12T10:15:08.745Z"
   },
   {
    "duration": 160,
    "start_time": "2022-08-12T10:15:22.041Z"
   },
   {
    "duration": 22,
    "start_time": "2022-08-12T10:16:46.840Z"
   },
   {
    "duration": 1367,
    "start_time": "2022-08-12T10:17:11.030Z"
   },
   {
    "duration": 764,
    "start_time": "2022-08-12T10:17:12.398Z"
   },
   {
    "duration": 137,
    "start_time": "2022-08-12T10:17:13.164Z"
   },
   {
    "duration": 89,
    "start_time": "2022-08-12T10:17:13.308Z"
   },
   {
    "duration": 786,
    "start_time": "2022-08-12T10:17:13.399Z"
   },
   {
    "duration": 3,
    "start_time": "2022-08-12T10:17:14.187Z"
   },
   {
    "duration": 293,
    "start_time": "2022-08-12T10:17:14.191Z"
   },
   {
    "duration": 415,
    "start_time": "2022-08-12T10:17:14.486Z"
   },
   {
    "duration": 100,
    "start_time": "2022-08-12T10:17:14.902Z"
   },
   {
    "duration": 78,
    "start_time": "2022-08-12T10:17:15.008Z"
   },
   {
    "duration": 31,
    "start_time": "2022-08-12T10:17:15.088Z"
   },
   {
    "duration": 140,
    "start_time": "2022-08-12T10:17:15.121Z"
   },
   {
    "duration": 113,
    "start_time": "2022-08-12T10:17:15.263Z"
   },
   {
    "duration": 287,
    "start_time": "2022-08-12T10:17:15.377Z"
   },
   {
    "duration": 63,
    "start_time": "2022-08-12T10:17:15.666Z"
   },
   {
    "duration": 101,
    "start_time": "2022-08-12T10:17:15.731Z"
   },
   {
    "duration": 5,
    "start_time": "2022-08-12T10:17:15.834Z"
   },
   {
    "duration": 5,
    "start_time": "2022-08-12T10:17:15.841Z"
   },
   {
    "duration": 387,
    "start_time": "2022-08-12T10:17:15.848Z"
   },
   {
    "duration": 25,
    "start_time": "2022-08-12T10:17:16.237Z"
   },
   {
    "duration": 2,
    "start_time": "2022-08-12T10:17:16.264Z"
   },
   {
    "duration": 9,
    "start_time": "2022-08-12T10:17:16.268Z"
   },
   {
    "duration": 128,
    "start_time": "2022-08-12T10:17:16.278Z"
   },
   {
    "duration": 0,
    "start_time": "2022-08-12T10:17:16.409Z"
   },
   {
    "duration": 0,
    "start_time": "2022-08-12T10:17:16.409Z"
   },
   {
    "duration": 0,
    "start_time": "2022-08-12T10:17:16.411Z"
   },
   {
    "duration": 0,
    "start_time": "2022-08-12T10:17:16.412Z"
   },
   {
    "duration": 0,
    "start_time": "2022-08-12T10:17:16.413Z"
   },
   {
    "duration": 0,
    "start_time": "2022-08-12T10:17:16.414Z"
   },
   {
    "duration": 0,
    "start_time": "2022-08-12T10:17:16.415Z"
   },
   {
    "duration": 0,
    "start_time": "2022-08-12T10:17:16.416Z"
   },
   {
    "duration": 0,
    "start_time": "2022-08-12T10:17:16.417Z"
   },
   {
    "duration": 16,
    "start_time": "2022-08-12T10:17:50.169Z"
   },
   {
    "duration": 165,
    "start_time": "2022-08-12T10:17:51.870Z"
   },
   {
    "duration": 548,
    "start_time": "2022-08-12T10:17:53.362Z"
   },
   {
    "duration": 812,
    "start_time": "2022-08-12T10:18:08.381Z"
   },
   {
    "duration": 18,
    "start_time": "2022-08-12T10:19:37.753Z"
   },
   {
    "duration": 15,
    "start_time": "2022-08-12T10:19:52.056Z"
   },
   {
    "duration": 383,
    "start_time": "2022-08-12T10:20:02.745Z"
   },
   {
    "duration": 10,
    "start_time": "2022-08-12T10:20:32.033Z"
   },
   {
    "duration": 4,
    "start_time": "2022-08-12T10:21:00.560Z"
   },
   {
    "duration": 1380,
    "start_time": "2022-08-12T10:21:05.552Z"
   },
   {
    "duration": 861,
    "start_time": "2022-08-12T10:21:06.934Z"
   },
   {
    "duration": 138,
    "start_time": "2022-08-12T10:21:07.797Z"
   },
   {
    "duration": 102,
    "start_time": "2022-08-12T10:21:07.937Z"
   },
   {
    "duration": 834,
    "start_time": "2022-08-12T10:21:08.041Z"
   },
   {
    "duration": 4,
    "start_time": "2022-08-12T10:21:08.876Z"
   },
   {
    "duration": 297,
    "start_time": "2022-08-12T10:21:08.882Z"
   },
   {
    "duration": 416,
    "start_time": "2022-08-12T10:21:09.181Z"
   },
   {
    "duration": 99,
    "start_time": "2022-08-12T10:21:09.598Z"
   },
   {
    "duration": 75,
    "start_time": "2022-08-12T10:21:09.708Z"
   },
   {
    "duration": 31,
    "start_time": "2022-08-12T10:21:09.784Z"
   },
   {
    "duration": 129,
    "start_time": "2022-08-12T10:21:09.816Z"
   },
   {
    "duration": 112,
    "start_time": "2022-08-12T10:21:09.947Z"
   },
   {
    "duration": 300,
    "start_time": "2022-08-12T10:21:10.060Z"
   },
   {
    "duration": 57,
    "start_time": "2022-08-12T10:21:10.362Z"
   },
   {
    "duration": 117,
    "start_time": "2022-08-12T10:21:10.421Z"
   },
   {
    "duration": 5,
    "start_time": "2022-08-12T10:21:10.540Z"
   },
   {
    "duration": 8,
    "start_time": "2022-08-12T10:21:10.546Z"
   },
   {
    "duration": 348,
    "start_time": "2022-08-12T10:21:10.555Z"
   },
   {
    "duration": 25,
    "start_time": "2022-08-12T10:21:10.908Z"
   },
   {
    "duration": 2,
    "start_time": "2022-08-12T10:21:10.935Z"
   },
   {
    "duration": 8,
    "start_time": "2022-08-12T10:21:10.938Z"
   },
   {
    "duration": 18,
    "start_time": "2022-08-12T10:21:10.947Z"
   },
   {
    "duration": 173,
    "start_time": "2022-08-12T10:21:10.967Z"
   },
   {
    "duration": 560,
    "start_time": "2022-08-12T10:21:11.141Z"
   },
   {
    "duration": 809,
    "start_time": "2022-08-12T10:21:11.703Z"
   },
   {
    "duration": 14,
    "start_time": "2022-08-12T10:21:12.513Z"
   },
   {
    "duration": 379,
    "start_time": "2022-08-12T10:21:12.530Z"
   },
   {
    "duration": 1605,
    "start_time": "2022-08-12T10:21:12.910Z"
   },
   {
    "duration": 2,
    "start_time": "2022-08-12T10:21:14.517Z"
   },
   {
    "duration": 8,
    "start_time": "2022-08-12T10:21:14.521Z"
   },
   {
    "duration": 7,
    "start_time": "2022-08-12T10:21:14.530Z"
   },
   {
    "duration": 6,
    "start_time": "2022-08-12T10:21:14.538Z"
   },
   {
    "duration": 6,
    "start_time": "2022-08-12T10:21:14.545Z"
   },
   {
    "duration": 5,
    "start_time": "2022-08-12T10:21:14.553Z"
   },
   {
    "duration": 5,
    "start_time": "2022-08-12T10:21:14.559Z"
   },
   {
    "duration": 7,
    "start_time": "2022-08-12T10:22:08.061Z"
   },
   {
    "duration": 6,
    "start_time": "2022-08-12T10:22:19.367Z"
   },
   {
    "duration": 93094,
    "start_time": "2022-08-12T10:22:46.023Z"
   },
   {
    "duration": 830,
    "start_time": "2022-08-12T10:24:33.118Z"
   },
   {
    "duration": 850,
    "start_time": "2022-08-12T10:24:36.086Z"
   },
   {
    "duration": 644463,
    "start_time": "2022-08-12T10:26:48.854Z"
   },
   {
    "duration": 4,
    "start_time": "2022-08-12T10:37:33.319Z"
   },
   {
    "duration": 33,
    "start_time": "2022-08-12T10:37:33.324Z"
   },
   {
    "duration": 163,
    "start_time": "2022-08-12T10:38:30.214Z"
   },
   {
    "duration": 5,
    "start_time": "2022-08-12T10:38:56.183Z"
   },
   {
    "duration": 299325,
    "start_time": "2022-08-12T10:39:04.498Z"
   },
   {
    "duration": 3,
    "start_time": "2022-08-12T10:44:23.134Z"
   },
   {
    "duration": 4,
    "start_time": "2022-08-12T10:44:24.407Z"
   },
   {
    "duration": 4,
    "start_time": "2022-08-12T10:44:27.050Z"
   },
   {
    "duration": 93,
    "start_time": "2022-08-12T10:44:29.018Z"
   },
   {
    "duration": 22914,
    "start_time": "2022-08-12T10:44:31.517Z"
   },
   {
    "duration": 138941,
    "start_time": "2022-08-12T10:44:57.669Z"
   },
   {
    "duration": 28990,
    "start_time": "2022-08-12T10:48:18.928Z"
   },
   {
    "duration": 10,
    "start_time": "2022-08-12T10:49:51.416Z"
   },
   {
    "duration": 1427,
    "start_time": "2022-08-12T10:55:44.220Z"
   },
   {
    "duration": 932,
    "start_time": "2022-08-12T10:55:45.651Z"
   },
   {
    "duration": 156,
    "start_time": "2022-08-12T10:55:46.585Z"
   },
   {
    "duration": 139,
    "start_time": "2022-08-12T10:55:46.743Z"
   },
   {
    "duration": 1050,
    "start_time": "2022-08-12T10:55:46.883Z"
   },
   {
    "duration": 4,
    "start_time": "2022-08-12T10:55:47.935Z"
   },
   {
    "duration": 350,
    "start_time": "2022-08-12T10:55:47.940Z"
   },
   {
    "duration": 518,
    "start_time": "2022-08-12T10:55:48.292Z"
   },
   {
    "duration": 117,
    "start_time": "2022-08-12T10:55:48.825Z"
   },
   {
    "duration": 86,
    "start_time": "2022-08-12T10:55:48.945Z"
   },
   {
    "duration": 83,
    "start_time": "2022-08-12T10:55:49.032Z"
   },
   {
    "duration": 146,
    "start_time": "2022-08-12T10:55:49.117Z"
   },
   {
    "duration": 114,
    "start_time": "2022-08-12T10:55:49.265Z"
   },
   {
    "duration": 317,
    "start_time": "2022-08-12T10:55:49.381Z"
   },
   {
    "duration": 52,
    "start_time": "2022-08-12T10:55:49.700Z"
   },
   {
    "duration": 112,
    "start_time": "2022-08-12T10:55:49.754Z"
   },
   {
    "duration": 5,
    "start_time": "2022-08-12T10:55:49.868Z"
   },
   {
    "duration": 40,
    "start_time": "2022-08-12T10:55:49.875Z"
   },
   {
    "duration": 398,
    "start_time": "2022-08-12T10:55:49.916Z"
   },
   {
    "duration": 34,
    "start_time": "2022-08-12T10:55:50.316Z"
   },
   {
    "duration": 3,
    "start_time": "2022-08-12T10:55:50.352Z"
   },
   {
    "duration": 18,
    "start_time": "2022-08-12T10:55:50.356Z"
   },
   {
    "duration": 191,
    "start_time": "2022-08-12T10:55:50.376Z"
   },
   {
    "duration": 587,
    "start_time": "2022-08-12T10:55:50.568Z"
   },
   {
    "duration": 883,
    "start_time": "2022-08-12T10:55:51.157Z"
   },
   {
    "duration": 15,
    "start_time": "2022-08-12T10:55:52.041Z"
   },
   {
    "duration": 384,
    "start_time": "2022-08-12T10:55:52.057Z"
   },
   {
    "duration": 1639,
    "start_time": "2022-08-12T10:55:52.445Z"
   },
   {
    "duration": 6,
    "start_time": "2022-08-12T10:55:54.086Z"
   },
   {
    "duration": 18,
    "start_time": "2022-08-12T10:55:54.094Z"
   },
   {
    "duration": 101702,
    "start_time": "2022-08-12T10:55:54.113Z"
   },
   {
    "duration": 1096,
    "start_time": "2022-08-12T10:57:35.817Z"
   },
   {
    "duration": 996,
    "start_time": "2022-08-12T10:57:36.915Z"
   },
   {
    "duration": 643425,
    "start_time": "2022-08-12T10:57:37.914Z"
   },
   {
    "duration": 3,
    "start_time": "2022-08-12T11:08:21.341Z"
   },
   {
    "duration": 7,
    "start_time": "2022-08-12T11:08:21.346Z"
   },
   {
    "duration": 282367,
    "start_time": "2022-08-12T11:08:21.355Z"
   },
   {
    "duration": 4,
    "start_time": "2022-08-12T11:13:03.723Z"
   },
   {
    "duration": 14,
    "start_time": "2022-08-12T11:13:03.728Z"
   },
   {
    "duration": 4,
    "start_time": "2022-08-12T11:13:03.744Z"
   },
   {
    "duration": 199,
    "start_time": "2022-08-12T11:13:03.809Z"
   },
   {
    "duration": 24000,
    "start_time": "2022-08-12T11:13:04.010Z"
   },
   {
    "duration": 137359,
    "start_time": "2022-08-12T11:13:28.012Z"
   },
   {
    "duration": 28153,
    "start_time": "2022-08-12T11:15:45.373Z"
   },
   {
    "duration": 10,
    "start_time": "2022-08-12T11:16:13.528Z"
   },
   {
    "duration": 7,
    "start_time": "2022-08-12T11:16:13.539Z"
   },
   {
    "duration": 23,
    "start_time": "2022-08-12T11:16:13.548Z"
   },
   {
    "duration": 36,
    "start_time": "2022-08-12T11:16:13.573Z"
   },
   {
    "duration": 17,
    "start_time": "2022-08-12T11:16:13.611Z"
   },
   {
    "duration": 17,
    "start_time": "2022-08-12T11:16:13.630Z"
   },
   {
    "duration": 14,
    "start_time": "2022-08-12T11:16:13.649Z"
   },
   {
    "duration": 6,
    "start_time": "2022-08-12T11:16:13.665Z"
   }
  ],
  "kernelspec": {
   "display_name": "Python 3 (ipykernel)",
   "language": "python",
   "name": "python3"
  },
  "language_info": {
   "codemirror_mode": {
    "name": "ipython",
    "version": 3
   },
   "file_extension": ".py",
   "mimetype": "text/x-python",
   "name": "python",
   "nbconvert_exporter": "python",
   "pygments_lexer": "ipython3",
   "version": "3.9.5"
  },
  "toc": {
   "base_numbering": 1,
   "nav_menu": {},
   "number_sections": true,
   "sideBar": true,
   "skip_h1_title": true,
   "title_cell": "Table of Contents",
   "title_sidebar": "Contents",
   "toc_cell": false,
   "toc_position": {},
   "toc_section_display": true,
   "toc_window_display": false
  }
 },
 "nbformat": 4,
 "nbformat_minor": 2
}
