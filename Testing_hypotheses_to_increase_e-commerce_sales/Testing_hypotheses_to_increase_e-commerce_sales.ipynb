{
 "cells": [
  {
   "cell_type": "markdown",
   "metadata": {},
   "source": [
    "# Описание проекта\n",
    "\n",
    "Вместе с отделом маркетинга интернет-магазина подготовили список гипотез для увеличения выручки.\n",
    "Необходимо приоритизировать гипотезы, запустить A/B-тест и проанализировать результаты.\n",
    "\n",
    "## Часть 1. Приоритизация гипотез.\n",
    "\n",
    "В файле /datasets/hypothesis.csv 9 гипотез по увеличению выручки интернет-магазина с указанными параметрами Reach, Impact, Confidence, Effort.\n",
    "\n",
    "**Задача**\n",
    "\n",
    "- Применить фреймворк ICE для приоритизации гипотез. Отсортировать их по убыванию приоритета.\n",
    "- Применить фреймворк RICE для приоритизации гипотез. Отсортировать их по убыванию приоритета.\n",
    "- Укажить, как изменилась приоритизация гипотез при применении RICE вместо ICE. Объяснить, почему так произошло.\n",
    "\n",
    "## Часть 2. Анализ A/B-теста\n",
    "\n",
    "Провести A/B-тест и получить результаты, которые описаны в файлах /datasets/orders.csv и /datasets/visitors.csv.\n",
    "\n",
    "**Задача**\n",
    "\n",
    "Проанализировать A/B-тест:\n",
    "\n",
    "- Построить график кумулятивной выручки по группам. Сделать выводы и предположения.\n",
    "- Построить график кумулятивного среднего чека по группам. Сделать выводы и предположения.\n",
    "- Построить график относительного изменения кумулятивного среднего чека группы B к группе A. Сделать выводы и предположения.\n",
    "- Построить график кумулятивного среднего количества заказов по группам. Сделать выводы и предположения.\n",
    "- Построить график относительного изменения кумулятивного среднего количества заказов группы B к группе A. Сделать выводы и предположения.\n",
    "- Построить точечный график количества заказов по пользователям. Сделать выводы и предположения.\n",
    "- Посчитать 95-й и 99-й перцентили количества заказов на пользователя. Выбрать границу для определения аномальных пользователей.\n",
    "- Построить точечный график стоимостей заказов. Сделать выводы и предположения.\n",
    "- Посчитать 95-й и 99-й перцентили стоимости заказов. Выбрать границу для определения аномальных заказов.\n",
    "- Посчитать статистическую значимость различий в среднем количестве заказов между группами по «сырым» данным. Сделать выводы и предположения.\n",
    "- Посчитать статистическую значимость различий в среднем чеке заказа между группами по «сырым» данным. Сделать выводы и предположения.\n",
    "- Посчитать статистическую значимость различий в среднем количестве заказов между группами по «очищенным» данным. Сделать выводы и предположения.\n",
    "- Посчитать статистическую значимость различий в среднем чеке заказа между группами по «очищенным» данным. Сделать выводы и предположения.\n",
    "- Принять решение по результатам теста и объяснить его. Варианты решений: 1. Остановить тест, зафиксировать победу одной из групп. 2. Остановить тест, зафиксировать отсутствие различий между группами. 3. Продолжить тест."
   ]
  },
  {
   "cell_type": "markdown",
   "metadata": {},
   "source": [
    "## Загрузка данных и подготовка их к анализу"
   ]
  },
  {
   "cell_type": "code",
   "execution_count": 1,
   "metadata": {},
   "outputs": [],
   "source": [
    "import numpy as np\n",
    "import pandas as pd\n",
    "import matplotlib.pyplot as plt\n",
    "import seaborn as sns\n",
    "from IPython.display import display\n",
    "import scipy.stats as stats\n",
    "import datetime as dt\n",
    "import warnings\n",
    "warnings.filterwarnings(\"ignore\")\n",
    "\n",
    "pd.options.display.max_colwidth = 120"
   ]
  },
  {
   "cell_type": "code",
   "execution_count": 2,
   "metadata": {},
   "outputs": [],
   "source": [
    "hypothesis = pd.read_csv('/datasets/hypothesis.csv')\n",
    "orders = pd.read_csv('/datasets/orders.csv')\n",
    "visitors = pd.read_csv('/datasets/visitors.csv')"
   ]
  },
  {
   "cell_type": "code",
   "execution_count": 3,
   "metadata": {},
   "outputs": [
    {
     "name": "stdout",
     "output_type": "stream",
     "text": [
      "<class 'pandas.core.frame.DataFrame'>\n",
      "RangeIndex: 9 entries, 0 to 8\n",
      "Data columns (total 5 columns):\n",
      " #   Column      Non-Null Count  Dtype \n",
      "---  ------      --------------  ----- \n",
      " 0   Hypothesis  9 non-null      object\n",
      " 1   Reach       9 non-null      int64 \n",
      " 2   Impact      9 non-null      int64 \n",
      " 3   Confidence  9 non-null      int64 \n",
      " 4   Efforts     9 non-null      int64 \n",
      "dtypes: int64(4), object(1)\n",
      "memory usage: 488.0+ bytes\n"
     ]
    }
   ],
   "source": [
    "hypothesis.info()"
   ]
  },
  {
   "cell_type": "markdown",
   "metadata": {},
   "source": [
    "-\tHypothesis — краткое описание гипотезы;\n",
    "-\tReach — охват пользователей по 10-балльной шкале;\n",
    "-\tImpact — влияние на пользователей по 10-балльной шкале;\n",
    "-\tConfidence — уверенность в гипотезе по 10-балльной шкале;\n",
    "-\tEfforts — затраты ресурсов на проверку гипотезы по 10-балльной шкале. Чем больше значение Efforts, тем дороже проверка гипотезы."
   ]
  },
  {
   "cell_type": "code",
   "execution_count": 4,
   "metadata": {},
   "outputs": [
    {
     "data": {
      "text/html": [
       "<div>\n",
       "<style scoped>\n",
       "    .dataframe tbody tr th:only-of-type {\n",
       "        vertical-align: middle;\n",
       "    }\n",
       "\n",
       "    .dataframe tbody tr th {\n",
       "        vertical-align: top;\n",
       "    }\n",
       "\n",
       "    .dataframe thead th {\n",
       "        text-align: right;\n",
       "    }\n",
       "</style>\n",
       "<table border=\"1\" class=\"dataframe\">\n",
       "  <thead>\n",
       "    <tr style=\"text-align: right;\">\n",
       "      <th></th>\n",
       "      <th>Hypothesis</th>\n",
       "      <th>Reach</th>\n",
       "      <th>Impact</th>\n",
       "      <th>Confidence</th>\n",
       "      <th>Efforts</th>\n",
       "    </tr>\n",
       "  </thead>\n",
       "  <tbody>\n",
       "    <tr>\n",
       "      <th>0</th>\n",
       "      <td>Добавить два новых канала привлечения трафика, что позволит привлекать на 30% больше пользователей</td>\n",
       "      <td>3</td>\n",
       "      <td>10</td>\n",
       "      <td>8</td>\n",
       "      <td>6</td>\n",
       "    </tr>\n",
       "    <tr>\n",
       "      <th>1</th>\n",
       "      <td>Запустить собственную службу доставки, что сократит срок доставки заказов</td>\n",
       "      <td>2</td>\n",
       "      <td>5</td>\n",
       "      <td>4</td>\n",
       "      <td>10</td>\n",
       "    </tr>\n",
       "    <tr>\n",
       "      <th>2</th>\n",
       "      <td>Добавить блоки рекомендаций товаров на сайт интернет магазина, чтобы повысить конверсию и средний чек заказа</td>\n",
       "      <td>8</td>\n",
       "      <td>3</td>\n",
       "      <td>7</td>\n",
       "      <td>3</td>\n",
       "    </tr>\n",
       "    <tr>\n",
       "      <th>3</th>\n",
       "      <td>Изменить структура категорий, что увеличит конверсию, т.к. пользователи быстрее найдут нужный товар</td>\n",
       "      <td>8</td>\n",
       "      <td>3</td>\n",
       "      <td>3</td>\n",
       "      <td>8</td>\n",
       "    </tr>\n",
       "    <tr>\n",
       "      <th>4</th>\n",
       "      <td>Изменить цвет фона главной страницы, чтобы увеличить вовлеченность пользователей</td>\n",
       "      <td>3</td>\n",
       "      <td>1</td>\n",
       "      <td>1</td>\n",
       "      <td>1</td>\n",
       "    </tr>\n",
       "    <tr>\n",
       "      <th>5</th>\n",
       "      <td>Добавить страницу отзывов клиентов о магазине, что позволит увеличить количество заказов</td>\n",
       "      <td>3</td>\n",
       "      <td>2</td>\n",
       "      <td>2</td>\n",
       "      <td>3</td>\n",
       "    </tr>\n",
       "    <tr>\n",
       "      <th>6</th>\n",
       "      <td>Показать на главной странице баннеры с актуальными акциями и распродажами, чтобы увеличить конверсию</td>\n",
       "      <td>5</td>\n",
       "      <td>3</td>\n",
       "      <td>8</td>\n",
       "      <td>3</td>\n",
       "    </tr>\n",
       "    <tr>\n",
       "      <th>7</th>\n",
       "      <td>Добавить форму подписки на все основные страницы, чтобы собрать базу клиентов для email-рассылок</td>\n",
       "      <td>10</td>\n",
       "      <td>7</td>\n",
       "      <td>8</td>\n",
       "      <td>5</td>\n",
       "    </tr>\n",
       "    <tr>\n",
       "      <th>8</th>\n",
       "      <td>Запустить акцию, дающую скидку на товар в день рождения</td>\n",
       "      <td>1</td>\n",
       "      <td>9</td>\n",
       "      <td>9</td>\n",
       "      <td>5</td>\n",
       "    </tr>\n",
       "  </tbody>\n",
       "</table>\n",
       "</div>"
      ],
      "text/plain": [
       "                                                                                                     Hypothesis  \\\n",
       "0            Добавить два новых канала привлечения трафика, что позволит привлекать на 30% больше пользователей   \n",
       "1                                     Запустить собственную службу доставки, что сократит срок доставки заказов   \n",
       "2  Добавить блоки рекомендаций товаров на сайт интернет магазина, чтобы повысить конверсию и средний чек заказа   \n",
       "3           Изменить структура категорий, что увеличит конверсию, т.к. пользователи быстрее найдут нужный товар   \n",
       "4                              Изменить цвет фона главной страницы, чтобы увеличить вовлеченность пользователей   \n",
       "5                      Добавить страницу отзывов клиентов о магазине, что позволит увеличить количество заказов   \n",
       "6          Показать на главной странице баннеры с актуальными акциями и распродажами, чтобы увеличить конверсию   \n",
       "7              Добавить форму подписки на все основные страницы, чтобы собрать базу клиентов для email-рассылок   \n",
       "8                                                       Запустить акцию, дающую скидку на товар в день рождения   \n",
       "\n",
       "   Reach  Impact  Confidence  Efforts  \n",
       "0      3      10           8        6  \n",
       "1      2       5           4       10  \n",
       "2      8       3           7        3  \n",
       "3      8       3           3        8  \n",
       "4      3       1           1        1  \n",
       "5      3       2           2        3  \n",
       "6      5       3           8        3  \n",
       "7     10       7           8        5  \n",
       "8      1       9           9        5  "
      ]
     },
     "metadata": {},
     "output_type": "display_data"
    }
   ],
   "source": [
    "display(hypothesis)"
   ]
  },
  {
   "cell_type": "code",
   "execution_count": 5,
   "metadata": {},
   "outputs": [
    {
     "data": {
      "text/plain": [
       "0"
      ]
     },
     "execution_count": 5,
     "metadata": {},
     "output_type": "execute_result"
    }
   ],
   "source": [
    "hypothesis.duplicated().sum()"
   ]
  },
  {
   "cell_type": "code",
   "execution_count": 6,
   "metadata": {},
   "outputs": [
    {
     "name": "stdout",
     "output_type": "stream",
     "text": [
      "<class 'pandas.core.frame.DataFrame'>\n",
      "RangeIndex: 1197 entries, 0 to 1196\n",
      "Data columns (total 5 columns):\n",
      " #   Column         Non-Null Count  Dtype \n",
      "---  ------         --------------  ----- \n",
      " 0   transactionId  1197 non-null   int64 \n",
      " 1   visitorId      1197 non-null   int64 \n",
      " 2   date           1197 non-null   object\n",
      " 3   revenue        1197 non-null   int64 \n",
      " 4   group          1197 non-null   object\n",
      "dtypes: int64(3), object(2)\n",
      "memory usage: 46.9+ KB\n"
     ]
    }
   ],
   "source": [
    "orders.info()"
   ]
  },
  {
   "cell_type": "markdown",
   "metadata": {},
   "source": [
    "-\ttransactionId — идентификатор заказа;\n",
    "-\tvisitorId — идентификатор пользователя, совершившего заказ;\n",
    "-\tdate — дата, когда был совершён заказ;\n",
    "-\trevenue — выручка заказа;\n",
    "-\tgroup — группа A/B-теста, в которую попал заказ.\n"
   ]
  },
  {
   "cell_type": "code",
   "execution_count": 7,
   "metadata": {},
   "outputs": [
    {
     "data": {
      "text/html": [
       "<div>\n",
       "<style scoped>\n",
       "    .dataframe tbody tr th:only-of-type {\n",
       "        vertical-align: middle;\n",
       "    }\n",
       "\n",
       "    .dataframe tbody tr th {\n",
       "        vertical-align: top;\n",
       "    }\n",
       "\n",
       "    .dataframe thead th {\n",
       "        text-align: right;\n",
       "    }\n",
       "</style>\n",
       "<table border=\"1\" class=\"dataframe\">\n",
       "  <thead>\n",
       "    <tr style=\"text-align: right;\">\n",
       "      <th></th>\n",
       "      <th>transactionId</th>\n",
       "      <th>visitorId</th>\n",
       "      <th>date</th>\n",
       "      <th>revenue</th>\n",
       "      <th>group</th>\n",
       "    </tr>\n",
       "  </thead>\n",
       "  <tbody>\n",
       "    <tr>\n",
       "      <th>0</th>\n",
       "      <td>3667963787</td>\n",
       "      <td>3312258926</td>\n",
       "      <td>2019-08-15</td>\n",
       "      <td>1650</td>\n",
       "      <td>B</td>\n",
       "    </tr>\n",
       "    <tr>\n",
       "      <th>1</th>\n",
       "      <td>2804400009</td>\n",
       "      <td>3642806036</td>\n",
       "      <td>2019-08-15</td>\n",
       "      <td>730</td>\n",
       "      <td>B</td>\n",
       "    </tr>\n",
       "    <tr>\n",
       "      <th>2</th>\n",
       "      <td>2961555356</td>\n",
       "      <td>4069496402</td>\n",
       "      <td>2019-08-15</td>\n",
       "      <td>400</td>\n",
       "      <td>A</td>\n",
       "    </tr>\n",
       "    <tr>\n",
       "      <th>3</th>\n",
       "      <td>3797467345</td>\n",
       "      <td>1196621759</td>\n",
       "      <td>2019-08-15</td>\n",
       "      <td>9759</td>\n",
       "      <td>B</td>\n",
       "    </tr>\n",
       "    <tr>\n",
       "      <th>4</th>\n",
       "      <td>2282983706</td>\n",
       "      <td>2322279887</td>\n",
       "      <td>2019-08-15</td>\n",
       "      <td>2308</td>\n",
       "      <td>B</td>\n",
       "    </tr>\n",
       "    <tr>\n",
       "      <th>...</th>\n",
       "      <td>...</td>\n",
       "      <td>...</td>\n",
       "      <td>...</td>\n",
       "      <td>...</td>\n",
       "      <td>...</td>\n",
       "    </tr>\n",
       "    <tr>\n",
       "      <th>1192</th>\n",
       "      <td>2662137336</td>\n",
       "      <td>3733762160</td>\n",
       "      <td>2019-08-14</td>\n",
       "      <td>6490</td>\n",
       "      <td>B</td>\n",
       "    </tr>\n",
       "    <tr>\n",
       "      <th>1193</th>\n",
       "      <td>2203539145</td>\n",
       "      <td>370388673</td>\n",
       "      <td>2019-08-14</td>\n",
       "      <td>3190</td>\n",
       "      <td>A</td>\n",
       "    </tr>\n",
       "    <tr>\n",
       "      <th>1194</th>\n",
       "      <td>1807773912</td>\n",
       "      <td>573423106</td>\n",
       "      <td>2019-08-14</td>\n",
       "      <td>10550</td>\n",
       "      <td>A</td>\n",
       "    </tr>\n",
       "    <tr>\n",
       "      <th>1195</th>\n",
       "      <td>1947021204</td>\n",
       "      <td>1614305549</td>\n",
       "      <td>2019-08-14</td>\n",
       "      <td>100</td>\n",
       "      <td>A</td>\n",
       "    </tr>\n",
       "    <tr>\n",
       "      <th>1196</th>\n",
       "      <td>3936777065</td>\n",
       "      <td>2108080724</td>\n",
       "      <td>2019-08-15</td>\n",
       "      <td>202740</td>\n",
       "      <td>B</td>\n",
       "    </tr>\n",
       "  </tbody>\n",
       "</table>\n",
       "<p>1197 rows × 5 columns</p>\n",
       "</div>"
      ],
      "text/plain": [
       "      transactionId   visitorId        date  revenue group\n",
       "0        3667963787  3312258926  2019-08-15     1650     B\n",
       "1        2804400009  3642806036  2019-08-15      730     B\n",
       "2        2961555356  4069496402  2019-08-15      400     A\n",
       "3        3797467345  1196621759  2019-08-15     9759     B\n",
       "4        2282983706  2322279887  2019-08-15     2308     B\n",
       "...             ...         ...         ...      ...   ...\n",
       "1192     2662137336  3733762160  2019-08-14     6490     B\n",
       "1193     2203539145   370388673  2019-08-14     3190     A\n",
       "1194     1807773912   573423106  2019-08-14    10550     A\n",
       "1195     1947021204  1614305549  2019-08-14      100     A\n",
       "1196     3936777065  2108080724  2019-08-15   202740     B\n",
       "\n",
       "[1197 rows x 5 columns]"
      ]
     },
     "metadata": {},
     "output_type": "display_data"
    }
   ],
   "source": [
    "display(orders)"
   ]
  },
  {
   "cell_type": "code",
   "execution_count": 8,
   "metadata": {},
   "outputs": [],
   "source": [
    "orders['date'] = orders['date'].map(lambda x: dt.datetime.strptime(x, '%Y-%m-%d'))"
   ]
  },
  {
   "cell_type": "code",
   "execution_count": 9,
   "metadata": {},
   "outputs": [
    {
     "data": {
      "text/plain": [
       "0"
      ]
     },
     "execution_count": 9,
     "metadata": {},
     "output_type": "execute_result"
    }
   ],
   "source": [
    "orders.duplicated().sum()"
   ]
  },
  {
   "cell_type": "code",
   "execution_count": 10,
   "metadata": {},
   "outputs": [
    {
     "name": "stdout",
     "output_type": "stream",
     "text": [
      "<class 'pandas.core.frame.DataFrame'>\n",
      "RangeIndex: 62 entries, 0 to 61\n",
      "Data columns (total 3 columns):\n",
      " #   Column    Non-Null Count  Dtype \n",
      "---  ------    --------------  ----- \n",
      " 0   date      62 non-null     object\n",
      " 1   group     62 non-null     object\n",
      " 2   visitors  62 non-null     int64 \n",
      "dtypes: int64(1), object(2)\n",
      "memory usage: 1.6+ KB\n"
     ]
    }
   ],
   "source": [
    "visitors.info()"
   ]
  },
  {
   "cell_type": "markdown",
   "metadata": {},
   "source": [
    "-\tdate — дата;\n",
    "-\tgroup — группа A/B-теста;\n",
    "-\tvisitors — количество пользователей в указанную дату в указанной группе A/B-теста"
   ]
  },
  {
   "cell_type": "code",
   "execution_count": 11,
   "metadata": {},
   "outputs": [
    {
     "data": {
      "text/html": [
       "<div>\n",
       "<style scoped>\n",
       "    .dataframe tbody tr th:only-of-type {\n",
       "        vertical-align: middle;\n",
       "    }\n",
       "\n",
       "    .dataframe tbody tr th {\n",
       "        vertical-align: top;\n",
       "    }\n",
       "\n",
       "    .dataframe thead th {\n",
       "        text-align: right;\n",
       "    }\n",
       "</style>\n",
       "<table border=\"1\" class=\"dataframe\">\n",
       "  <thead>\n",
       "    <tr style=\"text-align: right;\">\n",
       "      <th></th>\n",
       "      <th>date</th>\n",
       "      <th>group</th>\n",
       "      <th>visitors</th>\n",
       "    </tr>\n",
       "  </thead>\n",
       "  <tbody>\n",
       "    <tr>\n",
       "      <th>0</th>\n",
       "      <td>2019-08-01</td>\n",
       "      <td>A</td>\n",
       "      <td>719</td>\n",
       "    </tr>\n",
       "    <tr>\n",
       "      <th>1</th>\n",
       "      <td>2019-08-02</td>\n",
       "      <td>A</td>\n",
       "      <td>619</td>\n",
       "    </tr>\n",
       "    <tr>\n",
       "      <th>2</th>\n",
       "      <td>2019-08-03</td>\n",
       "      <td>A</td>\n",
       "      <td>507</td>\n",
       "    </tr>\n",
       "    <tr>\n",
       "      <th>3</th>\n",
       "      <td>2019-08-04</td>\n",
       "      <td>A</td>\n",
       "      <td>717</td>\n",
       "    </tr>\n",
       "    <tr>\n",
       "      <th>4</th>\n",
       "      <td>2019-08-05</td>\n",
       "      <td>A</td>\n",
       "      <td>756</td>\n",
       "    </tr>\n",
       "    <tr>\n",
       "      <th>...</th>\n",
       "      <td>...</td>\n",
       "      <td>...</td>\n",
       "      <td>...</td>\n",
       "    </tr>\n",
       "    <tr>\n",
       "      <th>57</th>\n",
       "      <td>2019-08-27</td>\n",
       "      <td>B</td>\n",
       "      <td>720</td>\n",
       "    </tr>\n",
       "    <tr>\n",
       "      <th>58</th>\n",
       "      <td>2019-08-28</td>\n",
       "      <td>B</td>\n",
       "      <td>654</td>\n",
       "    </tr>\n",
       "    <tr>\n",
       "      <th>59</th>\n",
       "      <td>2019-08-29</td>\n",
       "      <td>B</td>\n",
       "      <td>531</td>\n",
       "    </tr>\n",
       "    <tr>\n",
       "      <th>60</th>\n",
       "      <td>2019-08-30</td>\n",
       "      <td>B</td>\n",
       "      <td>490</td>\n",
       "    </tr>\n",
       "    <tr>\n",
       "      <th>61</th>\n",
       "      <td>2019-08-31</td>\n",
       "      <td>B</td>\n",
       "      <td>718</td>\n",
       "    </tr>\n",
       "  </tbody>\n",
       "</table>\n",
       "<p>62 rows × 3 columns</p>\n",
       "</div>"
      ],
      "text/plain": [
       "          date group  visitors\n",
       "0   2019-08-01     A       719\n",
       "1   2019-08-02     A       619\n",
       "2   2019-08-03     A       507\n",
       "3   2019-08-04     A       717\n",
       "4   2019-08-05     A       756\n",
       "..         ...   ...       ...\n",
       "57  2019-08-27     B       720\n",
       "58  2019-08-28     B       654\n",
       "59  2019-08-29     B       531\n",
       "60  2019-08-30     B       490\n",
       "61  2019-08-31     B       718\n",
       "\n",
       "[62 rows x 3 columns]"
      ]
     },
     "metadata": {},
     "output_type": "display_data"
    }
   ],
   "source": [
    "display(visitors)"
   ]
  },
  {
   "cell_type": "code",
   "execution_count": 12,
   "metadata": {},
   "outputs": [],
   "source": [
    "visitors['date'] = visitors['date'].map(lambda x: dt.datetime.strptime(x, '%Y-%m-%d'))"
   ]
  },
  {
   "cell_type": "code",
   "execution_count": 13,
   "metadata": {},
   "outputs": [
    {
     "data": {
      "text/plain": [
       "0"
      ]
     },
     "execution_count": 13,
     "metadata": {},
     "output_type": "execute_result"
    }
   ],
   "source": [
    "visitors.duplicated().sum()"
   ]
  },
  {
   "cell_type": "markdown",
   "metadata": {},
   "source": [
    "## Приоритизация гипотез"
   ]
  },
  {
   "cell_type": "code",
   "execution_count": 14,
   "metadata": {},
   "outputs": [],
   "source": [
    "hypothesis['ICE'] = ((hypothesis['Impact'] * hypothesis['Confidence']) / hypothesis['Efforts'])"
   ]
  },
  {
   "cell_type": "code",
   "execution_count": 15,
   "metadata": {},
   "outputs": [
    {
     "data": {
      "text/html": [
       "<div>\n",
       "<style scoped>\n",
       "    .dataframe tbody tr th:only-of-type {\n",
       "        vertical-align: middle;\n",
       "    }\n",
       "\n",
       "    .dataframe tbody tr th {\n",
       "        vertical-align: top;\n",
       "    }\n",
       "\n",
       "    .dataframe thead th {\n",
       "        text-align: right;\n",
       "    }\n",
       "</style>\n",
       "<table border=\"1\" class=\"dataframe\">\n",
       "  <thead>\n",
       "    <tr style=\"text-align: right;\">\n",
       "      <th></th>\n",
       "      <th>Hypothesis</th>\n",
       "      <th>Reach</th>\n",
       "      <th>Impact</th>\n",
       "      <th>Confidence</th>\n",
       "      <th>Efforts</th>\n",
       "      <th>ICE</th>\n",
       "    </tr>\n",
       "  </thead>\n",
       "  <tbody>\n",
       "    <tr>\n",
       "      <th>8</th>\n",
       "      <td>Запустить акцию, дающую скидку на товар в день рождения</td>\n",
       "      <td>1</td>\n",
       "      <td>9</td>\n",
       "      <td>9</td>\n",
       "      <td>5</td>\n",
       "      <td>16.200000</td>\n",
       "    </tr>\n",
       "    <tr>\n",
       "      <th>0</th>\n",
       "      <td>Добавить два новых канала привлечения трафика, что позволит привлекать на 30% больше пользователей</td>\n",
       "      <td>3</td>\n",
       "      <td>10</td>\n",
       "      <td>8</td>\n",
       "      <td>6</td>\n",
       "      <td>13.333333</td>\n",
       "    </tr>\n",
       "    <tr>\n",
       "      <th>7</th>\n",
       "      <td>Добавить форму подписки на все основные страницы, чтобы собрать базу клиентов для email-рассылок</td>\n",
       "      <td>10</td>\n",
       "      <td>7</td>\n",
       "      <td>8</td>\n",
       "      <td>5</td>\n",
       "      <td>11.200000</td>\n",
       "    </tr>\n",
       "    <tr>\n",
       "      <th>6</th>\n",
       "      <td>Показать на главной странице баннеры с актуальными акциями и распродажами, чтобы увеличить конверсию</td>\n",
       "      <td>5</td>\n",
       "      <td>3</td>\n",
       "      <td>8</td>\n",
       "      <td>3</td>\n",
       "      <td>8.000000</td>\n",
       "    </tr>\n",
       "    <tr>\n",
       "      <th>2</th>\n",
       "      <td>Добавить блоки рекомендаций товаров на сайт интернет магазина, чтобы повысить конверсию и средний чек заказа</td>\n",
       "      <td>8</td>\n",
       "      <td>3</td>\n",
       "      <td>7</td>\n",
       "      <td>3</td>\n",
       "      <td>7.000000</td>\n",
       "    </tr>\n",
       "    <tr>\n",
       "      <th>1</th>\n",
       "      <td>Запустить собственную службу доставки, что сократит срок доставки заказов</td>\n",
       "      <td>2</td>\n",
       "      <td>5</td>\n",
       "      <td>4</td>\n",
       "      <td>10</td>\n",
       "      <td>2.000000</td>\n",
       "    </tr>\n",
       "    <tr>\n",
       "      <th>5</th>\n",
       "      <td>Добавить страницу отзывов клиентов о магазине, что позволит увеличить количество заказов</td>\n",
       "      <td>3</td>\n",
       "      <td>2</td>\n",
       "      <td>2</td>\n",
       "      <td>3</td>\n",
       "      <td>1.333333</td>\n",
       "    </tr>\n",
       "    <tr>\n",
       "      <th>3</th>\n",
       "      <td>Изменить структура категорий, что увеличит конверсию, т.к. пользователи быстрее найдут нужный товар</td>\n",
       "      <td>8</td>\n",
       "      <td>3</td>\n",
       "      <td>3</td>\n",
       "      <td>8</td>\n",
       "      <td>1.125000</td>\n",
       "    </tr>\n",
       "    <tr>\n",
       "      <th>4</th>\n",
       "      <td>Изменить цвет фона главной страницы, чтобы увеличить вовлеченность пользователей</td>\n",
       "      <td>3</td>\n",
       "      <td>1</td>\n",
       "      <td>1</td>\n",
       "      <td>1</td>\n",
       "      <td>1.000000</td>\n",
       "    </tr>\n",
       "  </tbody>\n",
       "</table>\n",
       "</div>"
      ],
      "text/plain": [
       "                                                                                                     Hypothesis  \\\n",
       "8                                                       Запустить акцию, дающую скидку на товар в день рождения   \n",
       "0            Добавить два новых канала привлечения трафика, что позволит привлекать на 30% больше пользователей   \n",
       "7              Добавить форму подписки на все основные страницы, чтобы собрать базу клиентов для email-рассылок   \n",
       "6          Показать на главной странице баннеры с актуальными акциями и распродажами, чтобы увеличить конверсию   \n",
       "2  Добавить блоки рекомендаций товаров на сайт интернет магазина, чтобы повысить конверсию и средний чек заказа   \n",
       "1                                     Запустить собственную службу доставки, что сократит срок доставки заказов   \n",
       "5                      Добавить страницу отзывов клиентов о магазине, что позволит увеличить количество заказов   \n",
       "3           Изменить структура категорий, что увеличит конверсию, т.к. пользователи быстрее найдут нужный товар   \n",
       "4                              Изменить цвет фона главной страницы, чтобы увеличить вовлеченность пользователей   \n",
       "\n",
       "   Reach  Impact  Confidence  Efforts        ICE  \n",
       "8      1       9           9        5  16.200000  \n",
       "0      3      10           8        6  13.333333  \n",
       "7     10       7           8        5  11.200000  \n",
       "6      5       3           8        3   8.000000  \n",
       "2      8       3           7        3   7.000000  \n",
       "1      2       5           4       10   2.000000  \n",
       "5      3       2           2        3   1.333333  \n",
       "3      8       3           3        8   1.125000  \n",
       "4      3       1           1        1   1.000000  "
      ]
     },
     "execution_count": 15,
     "metadata": {},
     "output_type": "execute_result"
    }
   ],
   "source": [
    "hypothesis.sort_values('ICE', ascending=False)"
   ]
  },
  {
   "cell_type": "markdown",
   "metadata": {},
   "source": [
    "При применинии фреймворка ICE, приоритетной гипотезой является гипотеза №8 - запустить акцию, дающую скидку в день рождения, далее идут гипотезы №0 и №7"
   ]
  },
  {
   "cell_type": "code",
   "execution_count": 16,
   "metadata": {},
   "outputs": [],
   "source": [
    "hypothesis['RICE'] = (hypothesis['Reach']  *hypothesis['Impact'] * hypothesis['Confidence']) / hypothesis['Efforts']"
   ]
  },
  {
   "cell_type": "code",
   "execution_count": 17,
   "metadata": {},
   "outputs": [
    {
     "data": {
      "text/html": [
       "<div>\n",
       "<style scoped>\n",
       "    .dataframe tbody tr th:only-of-type {\n",
       "        vertical-align: middle;\n",
       "    }\n",
       "\n",
       "    .dataframe tbody tr th {\n",
       "        vertical-align: top;\n",
       "    }\n",
       "\n",
       "    .dataframe thead th {\n",
       "        text-align: right;\n",
       "    }\n",
       "</style>\n",
       "<table border=\"1\" class=\"dataframe\">\n",
       "  <thead>\n",
       "    <tr style=\"text-align: right;\">\n",
       "      <th></th>\n",
       "      <th>Hypothesis</th>\n",
       "      <th>Reach</th>\n",
       "      <th>Impact</th>\n",
       "      <th>Confidence</th>\n",
       "      <th>Efforts</th>\n",
       "      <th>ICE</th>\n",
       "      <th>RICE</th>\n",
       "    </tr>\n",
       "  </thead>\n",
       "  <tbody>\n",
       "    <tr>\n",
       "      <th>7</th>\n",
       "      <td>Добавить форму подписки на все основные страницы, чтобы собрать базу клиентов для email-рассылок</td>\n",
       "      <td>10</td>\n",
       "      <td>7</td>\n",
       "      <td>8</td>\n",
       "      <td>5</td>\n",
       "      <td>11.200000</td>\n",
       "      <td>112.0</td>\n",
       "    </tr>\n",
       "    <tr>\n",
       "      <th>2</th>\n",
       "      <td>Добавить блоки рекомендаций товаров на сайт интернет магазина, чтобы повысить конверсию и средний чек заказа</td>\n",
       "      <td>8</td>\n",
       "      <td>3</td>\n",
       "      <td>7</td>\n",
       "      <td>3</td>\n",
       "      <td>7.000000</td>\n",
       "      <td>56.0</td>\n",
       "    </tr>\n",
       "    <tr>\n",
       "      <th>0</th>\n",
       "      <td>Добавить два новых канала привлечения трафика, что позволит привлекать на 30% больше пользователей</td>\n",
       "      <td>3</td>\n",
       "      <td>10</td>\n",
       "      <td>8</td>\n",
       "      <td>6</td>\n",
       "      <td>13.333333</td>\n",
       "      <td>40.0</td>\n",
       "    </tr>\n",
       "    <tr>\n",
       "      <th>6</th>\n",
       "      <td>Показать на главной странице баннеры с актуальными акциями и распродажами, чтобы увеличить конверсию</td>\n",
       "      <td>5</td>\n",
       "      <td>3</td>\n",
       "      <td>8</td>\n",
       "      <td>3</td>\n",
       "      <td>8.000000</td>\n",
       "      <td>40.0</td>\n",
       "    </tr>\n",
       "    <tr>\n",
       "      <th>8</th>\n",
       "      <td>Запустить акцию, дающую скидку на товар в день рождения</td>\n",
       "      <td>1</td>\n",
       "      <td>9</td>\n",
       "      <td>9</td>\n",
       "      <td>5</td>\n",
       "      <td>16.200000</td>\n",
       "      <td>16.2</td>\n",
       "    </tr>\n",
       "    <tr>\n",
       "      <th>3</th>\n",
       "      <td>Изменить структура категорий, что увеличит конверсию, т.к. пользователи быстрее найдут нужный товар</td>\n",
       "      <td>8</td>\n",
       "      <td>3</td>\n",
       "      <td>3</td>\n",
       "      <td>8</td>\n",
       "      <td>1.125000</td>\n",
       "      <td>9.0</td>\n",
       "    </tr>\n",
       "    <tr>\n",
       "      <th>1</th>\n",
       "      <td>Запустить собственную службу доставки, что сократит срок доставки заказов</td>\n",
       "      <td>2</td>\n",
       "      <td>5</td>\n",
       "      <td>4</td>\n",
       "      <td>10</td>\n",
       "      <td>2.000000</td>\n",
       "      <td>4.0</td>\n",
       "    </tr>\n",
       "    <tr>\n",
       "      <th>5</th>\n",
       "      <td>Добавить страницу отзывов клиентов о магазине, что позволит увеличить количество заказов</td>\n",
       "      <td>3</td>\n",
       "      <td>2</td>\n",
       "      <td>2</td>\n",
       "      <td>3</td>\n",
       "      <td>1.333333</td>\n",
       "      <td>4.0</td>\n",
       "    </tr>\n",
       "    <tr>\n",
       "      <th>4</th>\n",
       "      <td>Изменить цвет фона главной страницы, чтобы увеличить вовлеченность пользователей</td>\n",
       "      <td>3</td>\n",
       "      <td>1</td>\n",
       "      <td>1</td>\n",
       "      <td>1</td>\n",
       "      <td>1.000000</td>\n",
       "      <td>3.0</td>\n",
       "    </tr>\n",
       "  </tbody>\n",
       "</table>\n",
       "</div>"
      ],
      "text/plain": [
       "                                                                                                     Hypothesis  \\\n",
       "7              Добавить форму подписки на все основные страницы, чтобы собрать базу клиентов для email-рассылок   \n",
       "2  Добавить блоки рекомендаций товаров на сайт интернет магазина, чтобы повысить конверсию и средний чек заказа   \n",
       "0            Добавить два новых канала привлечения трафика, что позволит привлекать на 30% больше пользователей   \n",
       "6          Показать на главной странице баннеры с актуальными акциями и распродажами, чтобы увеличить конверсию   \n",
       "8                                                       Запустить акцию, дающую скидку на товар в день рождения   \n",
       "3           Изменить структура категорий, что увеличит конверсию, т.к. пользователи быстрее найдут нужный товар   \n",
       "1                                     Запустить собственную службу доставки, что сократит срок доставки заказов   \n",
       "5                      Добавить страницу отзывов клиентов о магазине, что позволит увеличить количество заказов   \n",
       "4                              Изменить цвет фона главной страницы, чтобы увеличить вовлеченность пользователей   \n",
       "\n",
       "   Reach  Impact  Confidence  Efforts        ICE   RICE  \n",
       "7     10       7           8        5  11.200000  112.0  \n",
       "2      8       3           7        3   7.000000   56.0  \n",
       "0      3      10           8        6  13.333333   40.0  \n",
       "6      5       3           8        3   8.000000   40.0  \n",
       "8      1       9           9        5  16.200000   16.2  \n",
       "3      8       3           3        8   1.125000    9.0  \n",
       "1      2       5           4       10   2.000000    4.0  \n",
       "5      3       2           2        3   1.333333    4.0  \n",
       "4      3       1           1        1   1.000000    3.0  "
      ]
     },
     "execution_count": 17,
     "metadata": {},
     "output_type": "execute_result"
    }
   ],
   "source": [
    "hypothesis.sort_values('RICE', ascending=False)"
   ]
  },
  {
   "cell_type": "markdown",
   "metadata": {},
   "source": [
    "При применинии фреймворка RICE, главной гипотезой является №7, а в фреймворке ICE №8, которая сейчас оказалась на 5-ом месте"
   ]
  },
  {
   "cell_type": "markdown",
   "metadata": {},
   "source": [
    "### Вывод: \n",
    "\n",
    "Результаты преоритизации фреймворков ICE и RICE сильно отличаются друг от друга, так как RICE в формуле учитывает параметр Reach (охват пользователей по 10-балльной шкале).\n",
    "\n",
    "В данном случае стоит выбрать фреймворк RICE и первые 3 гипотезы:\n",
    "\n",
    "- Добавить форму подписки на все основные страницы\n",
    "- Добавить блоки рекомендаций товаров на сайт \n",
    "- Добавить два новых канала привлечения трафика"
   ]
  },
  {
   "cell_type": "markdown",
   "metadata": {},
   "source": [
    "## Анализ A/B-теста"
   ]
  },
  {
   "cell_type": "code",
   "execution_count": 18,
   "metadata": {},
   "outputs": [
    {
     "name": "stdout",
     "output_type": "stream",
     "text": [
      "Количество юзеров: 1197\n",
      "Количество юзеров, которые попали в обе группы: group    58\n",
      "dtype: int64\n",
      "Доля дубликатов: group    4.845447\n",
      "dtype: float64\n"
     ]
    }
   ],
   "source": [
    "orders_dublicates = orders.groupby('visitorId').agg({'group':'nunique'})\n",
    "print('Количество юзеров:',orders['visitorId'].count())\n",
    "print('Количество юзеров, которые попали в обе группы:',orders_dublicates[orders_dublicates['group'] >=2].count())\n",
    "print('Доля дубликатов:',(orders_dublicates[orders_dublicates['group'] >=2].count())/(orders['visitorId'].count())*100)\n"
   ]
  },
  {
   "cell_type": "markdown",
   "metadata": {},
   "source": [
    "58 пользователей оказались в обоих группах. Делать с ними ничего не будем, так как их мало, и их удаление никак не скажется на результатах тестов."
   ]
  },
  {
   "cell_type": "code",
   "execution_count": 19,
   "metadata": {},
   "outputs": [],
   "source": [
    "# создаем массив уникальных пар значений дат и групп теста\n",
    "datesGroups = orders[['date','group']].drop_duplicates()"
   ]
  },
  {
   "cell_type": "code",
   "execution_count": 20,
   "metadata": {},
   "outputs": [
    {
     "name": "stdout",
     "output_type": "stream",
     "text": [
      "        date group  orders  buyers  revenue  visitors\n",
      "0 2019-08-01     A      24      20   148579       719\n",
      "1 2019-08-01     B      21      20   101217       713\n",
      "2 2019-08-02     A      44      38   242401      1338\n",
      "3 2019-08-02     B      45      43   266748      1294\n",
      "4 2019-08-03     A      68      62   354874      1845\n"
     ]
    }
   ],
   "source": [
    "# получаем агрегированные кумулятивные по дням данные о заказах \n",
    "ordersAggregated = datesGroups.apply(lambda x: orders[np.logical_and(orders['date'] <= x['date'], orders['group'] == x['group'])].agg({'date' : 'max', 'group' : 'max', 'transactionId' : 'nunique', 'visitorId' : 'nunique', 'revenue' : 'sum'}), axis=1).sort_values(by=['date','group'])\n",
    "\n",
    "# получаем агрегированные кумулятивные по дням данные о посетителях интернет-магазина \n",
    "visitorsAggregated = datesGroups.apply(lambda x: visitors[np.logical_and(visitors['date'] <= x['date'], visitors['group'] == x['group'])].agg({'date' : 'max', 'group' : 'max', 'visitors' : 'sum'}), axis=1).sort_values(by=['date','group'])\n",
    "\n",
    "# объединяем кумулятивные данные в одной таблице и присваиваем ее столбцам понятные названия\n",
    "cumulativeData = ordersAggregated.merge(visitorsAggregated, left_on=['date', 'group'], right_on=['date', 'group'])\n",
    "cumulativeData.columns = ['date', 'group', 'orders', 'buyers', 'revenue', 'visitors']\n",
    "\n",
    "print(cumulativeData.head(5))"
   ]
  },
  {
   "cell_type": "markdown",
   "metadata": {},
   "source": [
    "**1) Построить график кумулятивной выручки по группам. Сделать выводы и предположения.**"
   ]
  },
  {
   "cell_type": "code",
   "execution_count": 21,
   "metadata": {},
   "outputs": [
    {
     "data": {
      "image/png": "[encoded data removed]",
      "text/plain": [
       "<Figure size 1080x360 with 1 Axes>"
      ]
     },
     "metadata": {
      "needs_background": "light"
     },
     "output_type": "display_data"
    }
   ],
   "source": [
    "# датафрейм с кумулятивным количеством заказов и кумулятивной выручкой по дням в группе А\n",
    "cumulativeRevenueA = cumulativeData[cumulativeData['group']=='A'][['date','revenue', 'orders']]\n",
    "\n",
    "# датафрейм с кумулятивным количеством заказов и кумулятивной выручкой по дням в группе B\n",
    "cumulativeRevenueB = cumulativeData[cumulativeData['group']=='B'][['date','revenue', 'orders']]\n",
    "plt.figure(figsize=(15,5))\n",
    "plt.title('Графики кумулятивной выручки по дням и группам A/B-тестирования')\n",
    "# Строим график выручки группы А\n",
    "plt.plot(cumulativeRevenueA['date'], cumulativeRevenueA['revenue'], label='A')\n",
    "# Строим график выручки группы B\n",
    "plt.plot(cumulativeRevenueB['date'], cumulativeRevenueB['revenue'], label='B')\n",
    "\n",
    "plt.xlabel(\"Дата\")\n",
    "plt.ylabel(\"Выручка\")\n",
    "plt.legend() \n",
    "plt.grid()\n",
    "plt.show() "
   ]
  },
  {
   "cell_type": "markdown",
   "metadata": {},
   "source": [
    "Выручка почти равномерно увеличивается в течение всего теста.\n",
    "Графики выручки обеих групп в нескольких точках резко растут. Это может сигнализировать о всплесках числа заказов, либо о появлении очень дорогих заказов в выборке."
   ]
  },
  {
   "cell_type": "markdown",
   "metadata": {},
   "source": [
    "**2) Построить график кумулятивного среднего чека по группам. Сделать выводы и предположения.**"
   ]
  },
  {
   "cell_type": "code",
   "execution_count": 22,
   "metadata": {},
   "outputs": [
    {
     "data": {
      "image/png": "[encoded data removed]",
      "text/plain": [
       "<Figure size 1080x360 with 1 Axes>"
      ]
     },
     "metadata": {
      "needs_background": "light"
     },
     "output_type": "display_data"
    }
   ],
   "source": [
    "#Построим графики среднего чека по группам — разделим кумулятивную выручку на кумулятивное число заказов:\n",
    "plt.figure(figsize=(15,5))\n",
    "plt.plot(cumulativeRevenueA['date'], cumulativeRevenueA['revenue']/cumulativeRevenueA['orders'], label='A')\n",
    "plt.plot(cumulativeRevenueB['date'], cumulativeRevenueB['revenue']/cumulativeRevenueB['orders'], label='B')\n",
    "plt.title('График кумулятивного среднего чека по дням и группам A/B-тестирования')\n",
    "plt.xlabel(\"Дата\")\n",
    "plt.ylabel(\"Средний чек\")\n",
    "plt.grid()\n",
    "plt.legend() \n",
    "plt.show()"
   ]
  },
  {
   "cell_type": "markdown",
   "metadata": {},
   "source": [
    "Кумулятивное значение среднего чека по группам колеблется в первой половине месяца. \n",
    "Заметен резкий скачок у группы В в середине августа, это  может говорить об аномально крупных заказах. Принимать решения по данной метрике рано и требуется анализ выбросов, которые сильно влияют на данные."
   ]
  },
  {
   "cell_type": "markdown",
   "metadata": {},
   "source": [
    "**3) Построить график относительного изменения кумулятивного среднего чека группы B к группе A. Сделать выводы и предположения.**"
   ]
  },
  {
   "cell_type": "code",
   "execution_count": 23,
   "metadata": {},
   "outputs": [
    {
     "data": {
      "image/png": "[encoded data removed]",
      "text/plain": [
       "<Figure size 1080x360 with 1 Axes>"
      ]
     },
     "metadata": {
      "needs_background": "light"
     },
     "output_type": "display_data"
    }
   ],
   "source": [
    "# собираем данные в одном датафрейме\n",
    "mergedCumulativeRevenue = cumulativeRevenueA.merge(cumulativeRevenueB, left_on='date', right_on='date', how='left', suffixes=['A', 'B'])\n",
    "\n",
    "# cтроим отношение средних чеков\n",
    "plt.figure(figsize=(15,5))\n",
    "plt.plot(mergedCumulativeRevenue['date'], (mergedCumulativeRevenue['revenueB']/mergedCumulativeRevenue['ordersB'])/(mergedCumulativeRevenue['revenueA']/mergedCumulativeRevenue['ordersA'])-1)\n",
    "plt.title('Относительное изменение кумулятивного среднего чека группы B к группе А')\n",
    "# добавляем ось X\n",
    "plt.axhline(y=0, color='black', linestyle='--')\n",
    "plt.xlabel(\"Дата\")\n",
    "plt.ylabel(\"Кумулятивный средний чек\")\n",
    "plt.grid()\n",
    "plt.show()"
   ]
  },
  {
   "cell_type": "markdown",
   "metadata": {},
   "source": [
    "В нескольких точках график различия между сегментами резко «скачет». В период с 17 по 21 число были крупные заказы и выбросы"
   ]
  },
  {
   "cell_type": "markdown",
   "metadata": {},
   "source": [
    "**4) Построить график кумулятивного среднего количества заказов по группам. Сделать выводы и предположения.**"
   ]
  },
  {
   "cell_type": "code",
   "execution_count": 24,
   "metadata": {},
   "outputs": [
    {
     "data": {
      "image/png": "[encoded data removed]",
      "text/plain": [
       "<Figure size 1080x360 with 1 Axes>"
      ]
     },
     "metadata": {
      "needs_background": "light"
     },
     "output_type": "display_data"
    }
   ],
   "source": [
    "# считаем кумулятивную конверсию\n",
    "cumulativeData['conversion'] = cumulativeData['orders']/cumulativeData['visitors']\n",
    "\n",
    "# отделяем данные по группе A\n",
    "cumulativeDataA = cumulativeData[cumulativeData['group']=='A']\n",
    "\n",
    "# отделяем данные по группе B\n",
    "cumulativeDataB = cumulativeData[cumulativeData['group']=='B']\n",
    "\n",
    "# строим графики\n",
    "plt.figure(figsize=(15,5))\n",
    "plt.plot(cumulativeDataA['date'], cumulativeDataA['conversion'], label='A')\n",
    "plt.plot(cumulativeDataB['date'], cumulativeDataB['conversion'], label='B')\n",
    "plt.title('График кумулятивного среднего количества заказов по группам')\n",
    "plt.xlabel(\"Дата\")\n",
    "plt.ylabel(\"Конверсия\")\n",
    "plt.grid()\n",
    "plt.legend() \n",
    "plt.show()"
   ]
  },
  {
   "cell_type": "markdown",
   "metadata": {},
   "source": [
    "В начале теста группа А имела большее среднее кол-во заказов, однако группа В постепенно выровнялась и зафиксировалась, а группа А просела и тоже зафиксировалсь."
   ]
  },
  {
   "cell_type": "markdown",
   "metadata": {},
   "source": [
    "**5) Построить график относительного изменения кумулятивного среднего количества заказов группы B к группе A. Сделать выводы и предположения.**"
   ]
  },
  {
   "cell_type": "code",
   "execution_count": 25,
   "metadata": {},
   "outputs": [
    {
     "data": {
      "image/png": "[encoded data removed]",
      "text/plain": [
       "<Figure size 1080x360 with 1 Axes>"
      ]
     },
     "metadata": {
      "needs_background": "light"
     },
     "output_type": "display_data"
    }
   ],
   "source": [
    "mergedCumulativeConversions = cumulativeDataA[['date','conversion']].merge(cumulativeDataB[['date','conversion']], left_on='date', right_on='date', how='left', suffixes=['A', 'B'])\n",
    "plt.figure(figsize=(15,5))\n",
    "plt.plot(mergedCumulativeConversions['date'], mergedCumulativeConversions['conversionB']/mergedCumulativeConversions['conversionA']-1, label=\"Относительный прирост конверсии группы B относительно группы A\")\n",
    "plt.axhline(y=0, color='black', linestyle='--')\n",
    "plt.axhline(y=0.2, color='grey', linestyle='--')\n",
    "plt.axhline(y=0.1, color='grey', linestyle='--')\n",
    "plt.title('Относительное изменение кумулятивного среднего количества заказов группы В к группе А')\n",
    "plt.xlabel(\"Дата\")\n",
    "plt.ylabel(\"Кум. конверсия\")\n",
    "plt.grid()\n",
    "plt.show()\n"
   ]
  },
  {
   "cell_type": "markdown",
   "metadata": {},
   "source": [
    "В начале теста группа B выигрывала у группы A, далее резкое падение, но затем группа B стабильно и постепенно растёт с небольшими колебаниями, также видно, что на протижении практически всего теста число заказов группы В было выше на более чем 10%. В целом отношение конверсии ещё не установилось, и сейчас делать какие-либо выводы по тесту нельзя."
   ]
  },
  {
   "cell_type": "markdown",
   "metadata": {},
   "source": [
    "**6) Построить точечный график количества заказов по пользователям. Сделать выводы и предположения.**"
   ]
  },
  {
   "cell_type": "code",
   "execution_count": 26,
   "metadata": {},
   "outputs": [
    {
     "data": {
      "text/html": [
       "<div>\n",
       "<style scoped>\n",
       "    .dataframe tbody tr th:only-of-type {\n",
       "        vertical-align: middle;\n",
       "    }\n",
       "\n",
       "    .dataframe tbody tr th {\n",
       "        vertical-align: top;\n",
       "    }\n",
       "\n",
       "    .dataframe thead th {\n",
       "        text-align: right;\n",
       "    }\n",
       "</style>\n",
       "<table border=\"1\" class=\"dataframe\">\n",
       "  <thead>\n",
       "    <tr style=\"text-align: right;\">\n",
       "      <th></th>\n",
       "      <th>userId</th>\n",
       "      <th>orders</th>\n",
       "    </tr>\n",
       "  </thead>\n",
       "  <tbody>\n",
       "    <tr>\n",
       "      <th>1023</th>\n",
       "      <td>4256040402</td>\n",
       "      <td>11</td>\n",
       "    </tr>\n",
       "    <tr>\n",
       "      <th>591</th>\n",
       "      <td>2458001652</td>\n",
       "      <td>11</td>\n",
       "    </tr>\n",
       "    <tr>\n",
       "      <th>569</th>\n",
       "      <td>2378935119</td>\n",
       "      <td>9</td>\n",
       "    </tr>\n",
       "    <tr>\n",
       "      <th>487</th>\n",
       "      <td>2038680547</td>\n",
       "      <td>8</td>\n",
       "    </tr>\n",
       "    <tr>\n",
       "      <th>44</th>\n",
       "      <td>199603092</td>\n",
       "      <td>5</td>\n",
       "    </tr>\n",
       "    <tr>\n",
       "      <th>744</th>\n",
       "      <td>3062433592</td>\n",
       "      <td>5</td>\n",
       "    </tr>\n",
       "    <tr>\n",
       "      <th>55</th>\n",
       "      <td>237748145</td>\n",
       "      <td>5</td>\n",
       "    </tr>\n",
       "    <tr>\n",
       "      <th>917</th>\n",
       "      <td>3803269165</td>\n",
       "      <td>5</td>\n",
       "    </tr>\n",
       "    <tr>\n",
       "      <th>299</th>\n",
       "      <td>1230306981</td>\n",
       "      <td>5</td>\n",
       "    </tr>\n",
       "    <tr>\n",
       "      <th>897</th>\n",
       "      <td>3717692402</td>\n",
       "      <td>5</td>\n",
       "    </tr>\n",
       "  </tbody>\n",
       "</table>\n",
       "</div>"
      ],
      "text/plain": [
       "          userId  orders\n",
       "1023  4256040402      11\n",
       "591   2458001652      11\n",
       "569   2378935119       9\n",
       "487   2038680547       8\n",
       "44     199603092       5\n",
       "744   3062433592       5\n",
       "55     237748145       5\n",
       "917   3803269165       5\n",
       "299   1230306981       5\n",
       "897   3717692402       5"
      ]
     },
     "execution_count": 26,
     "metadata": {},
     "output_type": "execute_result"
    }
   ],
   "source": [
    "#создадим таблицу по заказам\n",
    "\n",
    "ordersByUsers = (\n",
    "    orders.drop(['group', 'revenue', 'date'], axis=1)\n",
    "    .groupby('visitorId', as_index=False)\n",
    "    .agg({'transactionId': pd.Series.nunique})\n",
    ")\n",
    "\n",
    "ordersByUsers.columns = ['userId', 'orders']\n",
    "\n",
    "ordersByUsers.sort_values(by='orders', ascending=False).head(10)"
   ]
  },
  {
   "cell_type": "markdown",
   "metadata": {},
   "source": [
    "Наибольшее количество заказов, сделанных одним пользователем = 11. Построим гистрограмму распределения числа заказов по пользователям"
   ]
  },
  {
   "cell_type": "code",
   "execution_count": 27,
   "metadata": {},
   "outputs": [
    {
     "data": {
      "image/png": "[encoded data removed]",
      "text/plain": [
       "<Figure size 720x360 with 1 Axes>"
      ]
     },
     "metadata": {
      "needs_background": "light"
     },
     "output_type": "display_data"
    }
   ],
   "source": [
    "plt.figure(figsize=(10,5))\n",
    "plt.ylabel('Количество пользователей')\n",
    "plt.xlabel('Количество заказов')\n",
    "plt.title('Распределение количества заказов на одного пользователя')\n",
    "plt.hist(ordersByUsers['orders']);\n",
    "plt.grid()\n",
    "plt.show()"
   ]
  },
  {
   "cell_type": "markdown",
   "metadata": {},
   "source": [
    "Большинство пользователей сделали по 1-2 заказа, намного меньше по 3-4 заказа и совсем немного от 5 до 11. Посмотрим на распределение с помощью точечной диаграммы количества заказов по пользователям."
   ]
  },
  {
   "cell_type": "code",
   "execution_count": 28,
   "metadata": {},
   "outputs": [
    {
     "data": {
      "image/png": "[encoded data removed]",
      "text/plain": [
       "<Figure size 720x360 with 1 Axes>"
      ]
     },
     "metadata": {
      "needs_background": "light"
     },
     "output_type": "display_data"
    }
   ],
   "source": [
    "# серия из чисел от 0 до количества наблюдений в ordersByUsers\n",
    "x_values = pd.Series(range(0,len(ordersByUsers)))\n",
    "plt.figure(figsize=(10,5))\n",
    "plt.ylabel('Количество заказов')\n",
    "plt.xlabel('Пользователи')\n",
    "plt.title('Точечная диаграмма числа заказов на одного пользователя')\n",
    "plt.grid()\n",
    "plt.scatter(x_values, ordersByUsers['orders']);"
   ]
  },
  {
   "cell_type": "markdown",
   "metadata": {},
   "source": [
    "Большинство покупателей заказывали только один раз. Однако доля пользователей с 2-4 заказами тоже значительна. Непонятно, считать их аномалиями или нет. В дальнейшем решим какое кол-во заказов считать выбросами."
   ]
  },
  {
   "cell_type": "markdown",
   "metadata": {},
   "source": [
    "**7) Посчитать 95-й и 99-й перцентили количества заказов на пользователя. Выбрать границу для определения аномальных пользователей.**"
   ]
  },
  {
   "cell_type": "code",
   "execution_count": 29,
   "metadata": {},
   "outputs": [
    {
     "name": "stdout",
     "output_type": "stream",
     "text": [
      "[2. 4.]\n"
     ]
    }
   ],
   "source": [
    "print(np.percentile(ordersByUsers['orders'], [95, 99]))"
   ]
  },
  {
   "cell_type": "markdown",
   "metadata": {},
   "source": [
    "Не более 5% пользователей оформляли больше чем 2 заказа. Разумно выбрать 2 заказа на одного пользователя за нижнюю границу числа заказов, и убрать аномальных пользователей."
   ]
  },
  {
   "cell_type": "markdown",
   "metadata": {},
   "source": [
    "**8) Построить точечный график стоимостей заказов. Сделать выводы и предположения.**"
   ]
  },
  {
   "cell_type": "code",
   "execution_count": 30,
   "metadata": {},
   "outputs": [
    {
     "name": "stdout",
     "output_type": "stream",
     "text": [
      "      transactionId   visitorId       date  revenue group\n",
      "425       590470918  1920142716 2019-08-19  1294500     B\n",
      "1196     3936777065  2108080724 2019-08-15   202740     B\n",
      "858       192721366  1316129916 2019-08-27    93940     A\n",
      "1136      666610489  1307669133 2019-08-13    92550     A\n",
      "744      3668308183   888512513 2019-08-27    86620     B\n",
      "682      1216533772  4266935830 2019-08-29    78990     B\n",
      "662      1811671147  4266935830 2019-08-29    78990     A\n",
      "743      3603576309  4133034833 2019-08-09    67990     A\n",
      "1103     1348774318  1164614297 2019-08-12    66350     A\n",
      "1099      316924019   148427295 2019-08-12    65710     A\n"
     ]
    },
    {
     "data": {
      "text/plain": [
       "<matplotlib.collections.PathCollection at 0x7f47c577cf40>"
      ]
     },
     "execution_count": 30,
     "metadata": {},
     "output_type": "execute_result"
    },
    {
     "data": {
      "image/png": "[encoded data removed]",
      "text/plain": [
       "<Figure size 720x360 with 1 Axes>"
      ]
     },
     "metadata": {
      "needs_background": "light"
     },
     "output_type": "display_data"
    }
   ],
   "source": [
    "print(orders.sort_values(by='revenue', ascending=False).head(10))\n",
    "x_values = pd.Series(range(0,len(orders['revenue'])))\n",
    "plt.figure(figsize=(10,5))\n",
    "plt.title('График стоимостей заказов')\n",
    "plt.xlabel('Количество пользователей')\n",
    "plt.ylabel('Стоимость заказа')\n",
    "plt.grid()\n",
    "plt.scatter(x_values, orders['revenue']) "
   ]
  },
  {
   "cell_type": "code",
   "execution_count": 31,
   "metadata": {},
   "outputs": [
    {
     "data": {
      "image/png": "[encoded data removed]",
      "text/plain": [
       "<Figure size 720x360 with 1 Axes>"
      ]
     },
     "metadata": {
      "needs_background": "light"
     },
     "output_type": "display_data"
    }
   ],
   "source": [
    "#график без явного выброса\n",
    "new_orders = orders[orders['revenue']<=200000]['revenue']\n",
    "xn_values = pd.Series(range(0,len(new_orders)))\n",
    "plt.figure(figsize=(10,5))\n",
    "plt.title('График стоимостей заказов')\n",
    "plt.xlabel('Количество пользователей')\n",
    "plt.ylabel('Стоимость заказа')\n",
    "plt.grid()\n",
    "plt.scatter(xn_values, new_orders)\n",
    "plt.show()"
   ]
  },
  {
   "cell_type": "markdown",
   "metadata": {},
   "source": [
    "На точечной диаграмме видна явная аномалия - заказ на сумму более 1.2 млн. Далее заказ на 200 тыс - непонятно выброс или нет, опеределим 95 и 99 перцентили"
   ]
  },
  {
   "cell_type": "markdown",
   "metadata": {},
   "source": [
    "**9) Посчитать 95-й и 99-й перцентили стоимости заказов. Выбрать границу для определения аномальных заказов.**"
   ]
  },
  {
   "cell_type": "code",
   "execution_count": 32,
   "metadata": {},
   "outputs": [
    {
     "data": {
      "text/plain": [
       "array([28000. , 58233.2])"
      ]
     },
     "execution_count": 32,
     "metadata": {},
     "output_type": "execute_result"
    }
   ],
   "source": [
    "np.percentile(orders['revenue'], [95,99])"
   ]
  },
  {
   "cell_type": "markdown",
   "metadata": {},
   "source": [
    "Не более 5% заказов дороже 28000 рублей и не более 1% дороже 58233.2 рублей. Возьмем нижнюю границу стоимости заказов = 28000. Можно предсполить, что возможные аномалии действительно являются аномалиями"
   ]
  },
  {
   "cell_type": "markdown",
   "metadata": {},
   "source": [
    "**10) Посчитать статистическую значимость различий в среднем количестве заказов между группами по «сырым» данным. Сделать выводы и предположения.**"
   ]
  },
  {
   "cell_type": "code",
   "execution_count": 33,
   "metadata": {},
   "outputs": [
    {
     "data": {
      "text/html": [
       "<div>\n",
       "<style scoped>\n",
       "    .dataframe tbody tr th:only-of-type {\n",
       "        vertical-align: middle;\n",
       "    }\n",
       "\n",
       "    .dataframe tbody tr th {\n",
       "        vertical-align: top;\n",
       "    }\n",
       "\n",
       "    .dataframe thead th {\n",
       "        text-align: right;\n",
       "    }\n",
       "</style>\n",
       "<table border=\"1\" class=\"dataframe\">\n",
       "  <thead>\n",
       "    <tr style=\"text-align: right;\">\n",
       "      <th></th>\n",
       "      <th>date</th>\n",
       "      <th>ordersPerDateA</th>\n",
       "      <th>revenuePerDateA</th>\n",
       "      <th>ordersPerDateB</th>\n",
       "      <th>revenuePerDateB</th>\n",
       "      <th>ordersCummulativeA</th>\n",
       "      <th>revenueCummulativeA</th>\n",
       "      <th>ordersCummulativeB</th>\n",
       "      <th>revenueCummulativeB</th>\n",
       "      <th>visitorsPerDateA</th>\n",
       "      <th>visitorsPerDateB</th>\n",
       "      <th>visitorsCummulativeA</th>\n",
       "      <th>visitorsCummulativeB</th>\n",
       "    </tr>\n",
       "  </thead>\n",
       "  <tbody>\n",
       "    <tr>\n",
       "      <th>0</th>\n",
       "      <td>2019-08-01</td>\n",
       "      <td>24</td>\n",
       "      <td>148579</td>\n",
       "      <td>21</td>\n",
       "      <td>101217</td>\n",
       "      <td>24</td>\n",
       "      <td>148579</td>\n",
       "      <td>21</td>\n",
       "      <td>101217</td>\n",
       "      <td>719</td>\n",
       "      <td>713</td>\n",
       "      <td>719</td>\n",
       "      <td>713</td>\n",
       "    </tr>\n",
       "    <tr>\n",
       "      <th>1</th>\n",
       "      <td>2019-08-02</td>\n",
       "      <td>20</td>\n",
       "      <td>93822</td>\n",
       "      <td>24</td>\n",
       "      <td>165531</td>\n",
       "      <td>44</td>\n",
       "      <td>242401</td>\n",
       "      <td>45</td>\n",
       "      <td>266748</td>\n",
       "      <td>619</td>\n",
       "      <td>581</td>\n",
       "      <td>1338</td>\n",
       "      <td>1294</td>\n",
       "    </tr>\n",
       "    <tr>\n",
       "      <th>2</th>\n",
       "      <td>2019-08-03</td>\n",
       "      <td>24</td>\n",
       "      <td>112473</td>\n",
       "      <td>16</td>\n",
       "      <td>114248</td>\n",
       "      <td>68</td>\n",
       "      <td>354874</td>\n",
       "      <td>61</td>\n",
       "      <td>380996</td>\n",
       "      <td>507</td>\n",
       "      <td>509</td>\n",
       "      <td>1845</td>\n",
       "      <td>1803</td>\n",
       "    </tr>\n",
       "    <tr>\n",
       "      <th>3</th>\n",
       "      <td>2019-08-04</td>\n",
       "      <td>16</td>\n",
       "      <td>70825</td>\n",
       "      <td>17</td>\n",
       "      <td>108571</td>\n",
       "      <td>84</td>\n",
       "      <td>425699</td>\n",
       "      <td>78</td>\n",
       "      <td>489567</td>\n",
       "      <td>717</td>\n",
       "      <td>770</td>\n",
       "      <td>2562</td>\n",
       "      <td>2573</td>\n",
       "    </tr>\n",
       "    <tr>\n",
       "      <th>4</th>\n",
       "      <td>2019-08-05</td>\n",
       "      <td>25</td>\n",
       "      <td>124218</td>\n",
       "      <td>23</td>\n",
       "      <td>92428</td>\n",
       "      <td>109</td>\n",
       "      <td>549917</td>\n",
       "      <td>101</td>\n",
       "      <td>581995</td>\n",
       "      <td>756</td>\n",
       "      <td>707</td>\n",
       "      <td>3318</td>\n",
       "      <td>3280</td>\n",
       "    </tr>\n",
       "  </tbody>\n",
       "</table>\n",
       "</div>"
      ],
      "text/plain": [
       "        date  ordersPerDateA  revenuePerDateA  ordersPerDateB  \\\n",
       "0 2019-08-01              24           148579              21   \n",
       "1 2019-08-02              20            93822              24   \n",
       "2 2019-08-03              24           112473              16   \n",
       "3 2019-08-04              16            70825              17   \n",
       "4 2019-08-05              25           124218              23   \n",
       "\n",
       "   revenuePerDateB  ordersCummulativeA  revenueCummulativeA  \\\n",
       "0           101217                  24               148579   \n",
       "1           165531                  44               242401   \n",
       "2           114248                  68               354874   \n",
       "3           108571                  84               425699   \n",
       "4            92428                 109               549917   \n",
       "\n",
       "   ordersCummulativeB  revenueCummulativeB  visitorsPerDateA  \\\n",
       "0                  21               101217               719   \n",
       "1                  45               266748               619   \n",
       "2                  61               380996               507   \n",
       "3                  78               489567               717   \n",
       "4                 101               581995               756   \n",
       "\n",
       "   visitorsPerDateB  visitorsCummulativeA  visitorsCummulativeB  \n",
       "0               713                   719                   713  \n",
       "1               581                  1338                  1294  \n",
       "2               509                  1845                  1803  \n",
       "3               770                  2562                  2573  \n",
       "4               707                  3318                  3280  "
      ]
     },
     "execution_count": 33,
     "metadata": {},
     "output_type": "execute_result"
    }
   ],
   "source": [
    "#Подготовка данных\n",
    "\n",
    "visitorsADaily = visitors[visitors['group'] == 'A'][['date', 'visitors']]\n",
    "visitorsADaily.columns = ['date', 'visitorsPerDateA']\n",
    "\n",
    "visitorsACummulative = visitorsADaily.apply(\n",
    "    lambda x: visitorsADaily[visitorsADaily['date'] <= x['date']].agg(\n",
    "        {'date': 'max', 'visitorsPerDateA': 'sum'}),axis=1,)\n",
    "visitorsACummulative.columns = ['date', 'visitorsCummulativeA']\n",
    "\n",
    "visitorsBDaily = visitors[visitors['group'] == 'B'][['date', 'visitors']]\n",
    "visitorsBDaily.columns = ['date', 'visitorsPerDateB']\n",
    "\n",
    "visitorsBCummulative = visitorsBDaily.apply(\n",
    "    lambda x: visitorsBDaily[visitorsBDaily['date'] <= x['date']].agg(\n",
    "        {'date': 'max', 'visitorsPerDateB': 'sum'}),axis=1,)\n",
    "visitorsBCummulative.columns = ['date', 'visitorsCummulativeB']\n",
    "\n",
    "ordersADaily = (\n",
    "    orders[orders['group'] == 'A'][['date', 'transactionId', 'visitorId', 'revenue']]\n",
    "    .groupby('date', as_index=False)\n",
    "    .agg({'transactionId': pd.Series.nunique, 'revenue': 'sum'})\n",
    ")\n",
    "ordersADaily.columns = ['date', 'ordersPerDateA', 'revenuePerDateA']\n",
    "\n",
    "ordersACummulative = ordersADaily.apply(\n",
    "    lambda x: ordersADaily[ordersADaily['date'] <= x['date']].agg(\n",
    "        {'date': 'max', 'ordersPerDateA': 'sum', 'revenuePerDateA': 'sum'}\n",
    "    ),\n",
    "    axis=1,\n",
    ").sort_values(by=['date'])\n",
    "ordersACummulative.columns = [\n",
    "    'date',\n",
    "    'ordersCummulativeA',\n",
    "    'revenueCummulativeA',]\n",
    "\n",
    "ordersBDaily = (\n",
    "    orders[orders['group'] == 'B'][['date', 'transactionId', 'visitorId', 'revenue']]\n",
    "    .groupby('date', as_index=False)\n",
    "    .agg({'transactionId': pd.Series.nunique, 'revenue': 'sum'}))\n",
    "ordersBDaily.columns = ['date', 'ordersPerDateB', 'revenuePerDateB']\n",
    "\n",
    "ordersBCummulative = ordersBDaily.apply(\n",
    "    lambda x: ordersBDaily[ordersBDaily['date'] <= x['date']].agg(\n",
    "        {'date': 'max', 'ordersPerDateB': 'sum', 'revenuePerDateB': 'sum'}),axis=1,).sort_values(by=['date'])\n",
    "ordersBCummulative.columns = [\n",
    "    'date',\n",
    "    'ordersCummulativeB',\n",
    "    'revenueCummulativeB',]\n",
    "\n",
    "data = (\n",
    "    ordersADaily.merge(\n",
    "        ordersBDaily, left_on='date', right_on='date', how='left'\n",
    "    )\n",
    "    .merge(ordersACummulative, left_on='date', right_on='date', how='left')\n",
    "    .merge(ordersBCummulative, left_on='date', right_on='date', how='left')\n",
    "    .merge(visitorsADaily, left_on='date', right_on='date', how='left')\n",
    "    .merge(visitorsBDaily, left_on='date', right_on='date', how='left')\n",
    "    .merge(visitorsACummulative, left_on='date', right_on='date', how='left')\n",
    "    .merge(visitorsBCummulative, left_on='date', right_on='date', how='left'))\n",
    "\n",
    "data.head(5)"
   ]
  },
  {
   "cell_type": "code",
   "execution_count": 34,
   "metadata": {},
   "outputs": [],
   "source": [
    "ordersByUsersA = (orders[orders['group'] == 'A']\n",
    "    .groupby('visitorId', as_index=False)\n",
    "    .agg({'transactionId': pd.Series.nunique}))\n",
    "ordersByUsersA.columns = ['visitorId', 'orders']\n",
    "\n",
    "ordersByUsersB = (orders[orders['group'] == 'B']\n",
    "    .groupby('visitorId', as_index=False)\n",
    "    .agg({'transactionId': pd.Series.nunique}))\n",
    "ordersByUsersB.columns = ['visitorId', 'orders']\n",
    "\n",
    "sampleA = pd.concat([ordersByUsersA['orders'], pd.Series(0,index=np.arange(data['visitorsPerDateA'].sum() - len(ordersByUsersA['orders'])),name='orders',),],axis=0)\n",
    "\n",
    "sampleB = pd.concat([ordersByUsersB['orders'],pd.Series(0,index=np.arange(data['visitorsPerDateB'].sum() - len(ordersByUsersB['orders'])),name='orders',),],axis=0)"
   ]
  },
  {
   "cell_type": "markdown",
   "metadata": {},
   "source": [
    "Сформулируем гипотезы.\n",
    "\n",
    "- H0 различий в среднем кол-ве заказов между группами нет.\n",
    "- H1 различия в среднем кол-ве заказов между группами есть."
   ]
  },
  {
   "cell_type": "code",
   "execution_count": 35,
   "metadata": {},
   "outputs": [
    {
     "name": "stdout",
     "output_type": "stream",
     "text": [
      "0.01679\n",
      "0.138\n"
     ]
    }
   ],
   "source": [
    "print(\"{0:.5f}\".format(stats.mannwhitneyu(sampleA, sampleB)[1]))\n",
    " \n",
    "print(\"{0:.3f}\".format((data['ordersPerDateB'].sum()/data['visitorsPerDateB'].sum())/(data['ordersPerDateA'].sum()/data['visitorsPerDateA'].sum())-1))"
   ]
  },
  {
   "cell_type": "markdown",
   "metadata": {},
   "source": [
    "p-value  = 0.01679, меньше 0.05, потому нулевую гипотезу отвергаем. Анализ \"сырых данных\" сообщает, что в среднем кол-ве заказов между группами есть статистически значимые различия. Оносительный прирост среднего группы В к конверсии группы А равен 13.8%"
   ]
  },
  {
   "cell_type": "markdown",
   "metadata": {},
   "source": [
    "**11) Посчитать статистическую значимость различий в среднем чеке заказа между группами по «сырым» данным. Сделать выводы и предположения.**"
   ]
  },
  {
   "cell_type": "markdown",
   "metadata": {},
   "source": [
    "Теперь посчитаем статистическую значимость различий в среднем чеке между группами. \n",
    "- Н0: различий в среднем чеке между группами нет. \n",
    "- Н1: различия в среднем чеке между группами есть.\n"
   ]
  },
  {
   "cell_type": "code",
   "execution_count": 36,
   "metadata": {},
   "outputs": [
    {
     "name": "stdout",
     "output_type": "stream",
     "text": [
      "0.729\n",
      "0.259\n"
     ]
    }
   ],
   "source": [
    "print('{0:.3f}'.format(stats.mannwhitneyu(orders[orders['group']=='A']['revenue'], orders[orders['group']=='B']['revenue'])[1]))\n",
    "print(\"{0:.3f}\".format(orders[orders['group']=='B']['revenue'].mean()/orders[orders['group']=='A']['revenue'].mean()-1)) "
   ]
  },
  {
   "cell_type": "markdown",
   "metadata": {},
   "source": [
    "P-value = 0.729  больше 0.05, потому нулевую гипотезу не отвергаем. Значит, статистически значимых отличий в среднем чеке между группами нет. Кроме того, относительное различие среднего чека равно 25.9%. Существенная относительная разница при отсутствии статистической значимости указывает на влияние выбросов на метрику, на это следует обратить внимание."
   ]
  },
  {
   "cell_type": "markdown",
   "metadata": {},
   "source": [
    "**12) Посчитать статистическую значимость различий в среднем количестве заказов между группами по «очищенным» данным. Сделать выводы и предположения.**"
   ]
  },
  {
   "cell_type": "code",
   "execution_count": 37,
   "metadata": {},
   "outputs": [],
   "source": [
    "#Сделаем срезы пользователей с числом заказов больше 2 и пользователей, совершивших заказы дороже 28 000.\n",
    "\n",
    "norm_orders = 2\n",
    "norm_price = 28000\n",
    "\n",
    "\n",
    "usersWithManyOrders = pd.concat(\n",
    "    [\n",
    "        ordersByUsersA[ordersByUsersA['orders'] > norm_orders]['visitorId'],\n",
    "        ordersByUsersB[ordersByUsersB['orders'] > norm_orders]['visitorId'],\n",
    "    ],\n",
    "    axis=0,\n",
    ")\n",
    "usersWithExpensiveOrders = orders[orders['revenue'] > norm_price]['visitorId']\n",
    "abnormalUsers = (\n",
    "    pd.concat([usersWithManyOrders, usersWithExpensiveOrders], axis=0)\n",
    "    .drop_duplicates()\n",
    "    .sort_values()\n",
    ")"
   ]
  },
  {
   "cell_type": "code",
   "execution_count": 38,
   "metadata": {},
   "outputs": [],
   "source": [
    "#Сформируем выборки и посчитаем статистическую значимость в конверсии.\n",
    "\n",
    "sampleAFiltered = pd.concat([ordersByUsersA[np.logical_not(ordersByUsersA['visitorId'].isin(abnormalUsers))]['orders'],pd.Series(0,index=np.arange(data['visitorsPerDateA'].sum() - len(ordersByUsersA['orders'])),name='orders',),],axis=0)\n",
    "\n",
    "sampleBFiltered = pd.concat([ordersByUsersB[np.logical_not(ordersByUsersB['visitorId'].isin(abnormalUsers))]['orders'],pd.Series(0,index=np.arange(data['visitorsPerDateB'].sum() - len(ordersByUsersB['orders'])),name='orders',),],axis=0) "
   ]
  },
  {
   "cell_type": "code",
   "execution_count": 39,
   "metadata": {},
   "outputs": [
    {
     "name": "stdout",
     "output_type": "stream",
     "text": [
      "0.01304\n",
      "0.173\n"
     ]
    }
   ],
   "source": [
    "print('{0:.5f}'.format(stats.mannwhitneyu(sampleAFiltered, sampleBFiltered)[1]))\n",
    "print('{0:.3f}'.format(sampleBFiltered.mean()/sampleAFiltered.mean()-1))"
   ]
  },
  {
   "cell_type": "markdown",
   "metadata": {},
   "source": [
    "- H0 различий в среднем кол-ве заказов между группами нет.\n",
    "- H1 различия в среднем кол-ве заказов между группами есть."
   ]
  },
  {
   "cell_type": "markdown",
   "metadata": {},
   "source": [
    "p-value = 0.01304, меньше 0.05, потому нулевую гипотезу отвергаем, значит статистически значимых различий в среднем кол-ве заказов между группами все-таки есть. Относительное различие группы B над A равен 17,3% (выше, чем с «сырыми» данными - 13.8%)"
   ]
  },
  {
   "cell_type": "markdown",
   "metadata": {},
   "source": [
    "**13) Посчитать статистическую значимость различий в среднем чеке заказа между группами по «очищенным» данным. Сделать выводы и предположения.**"
   ]
  },
  {
   "cell_type": "code",
   "execution_count": 40,
   "metadata": {},
   "outputs": [
    {
     "name": "stdout",
     "output_type": "stream",
     "text": [
      "0.738\n",
      "-0.020\n"
     ]
    }
   ],
   "source": [
    "print(\n",
    "    '{0:.3f}'.format(\n",
    "        stats.mannwhitneyu(\n",
    "            orders[\n",
    "                np.logical_and(\n",
    "                    orders['group'] == 'A',\n",
    "                    np.logical_not(orders['visitorId'].isin(abnormalUsers)),\n",
    "                )\n",
    "            ]['revenue'],\n",
    "            orders[\n",
    "                np.logical_and(\n",
    "                    orders['group'] == 'B',\n",
    "                    np.logical_not(orders['visitorId'].isin(abnormalUsers)),\n",
    "                )\n",
    "            ]['revenue'],\n",
    "        )[1]\n",
    "    )\n",
    ")\n",
    "\n",
    "print(\n",
    "    \"{0:.3f}\".format(\n",
    "        orders[\n",
    "            np.logical_and(\n",
    "                orders['group'] == 'B',\n",
    "                np.logical_not(orders['visitorId'].isin(abnormalUsers)),\n",
    "            )\n",
    "        ]['revenue'].mean()\n",
    "        / orders[\n",
    "            np.logical_and(\n",
    "                orders['group'] == 'A',\n",
    "                np.logical_not(orders['visitorId'].isin(abnormalUsers)),\n",
    "            )\n",
    "        ]['revenue'].mean()\n",
    "        - 1\n",
    "    )\n",
    ") "
   ]
  },
  {
   "cell_type": "markdown",
   "metadata": {},
   "source": [
    "- Н0: различий в среднем чеке между группами нет. \n",
    "- Н1: различия в среднем чеке между группами есть."
   ]
  },
  {
   "cell_type": "markdown",
   "metadata": {},
   "source": [
    "P-value = 0.738, больше 0.05, значит причин отвергать нулевую гипотезу и считать, что в среднем чеке есть различия, нет. Относительное различие среднего чека группы А выше на 2% среднего чека группы В."
   ]
  },
  {
   "cell_type": "markdown",
   "metadata": {},
   "source": [
    "**14) Принять решение по результатам теста и объяснить его. Варианты решений: 1. Остановить тест, зафиксировать победу одной из групп. 2. Остановить тест, зафиксировать отсутствие различий между группами. 3. Продолжить тест.**"
   ]
  },
  {
   "cell_type": "markdown",
   "metadata": {},
   "source": [
    "- P-value среднем кол-ве заказов и в среднем чеке практически не изменился, но изменилась разница в среднем чеке с 25% до -2%. \n",
    "- Есть статистически значимые различия по среднему кол-ву заказов между группами и по «сырым», и по данным после фильтрации аномалий.\n",
    "- Нет статистически значимого различия по среднему чеку между группами ни по «сырым», ни по данным после фильтрации аномалий. \n",
    "- График различия конверсии между группами сообщает, что результаты группы B лучше группы A и нет значительной тенденции к ухудшению:\n",
    "- График различия среднего чека колеблется: он-то и позволил нам найти аномалии. Построим график различия среднего чека без аномалий."
   ]
  },
  {
   "cell_type": "code",
   "execution_count": 41,
   "metadata": {},
   "outputs": [
    {
     "name": "stdout",
     "output_type": "stream",
     "text": [
      "<class 'pandas.core.frame.DataFrame'>\n",
      "Int64Index: 1137 entries, 0 to 1195\n",
      "Data columns (total 5 columns):\n",
      " #   Column         Non-Null Count  Dtype         \n",
      "---  ------         --------------  -----         \n",
      " 0   transactionId  1137 non-null   int64         \n",
      " 1   visitorId      1137 non-null   int64         \n",
      " 2   date           1137 non-null   datetime64[ns]\n",
      " 3   revenue        1137 non-null   int64         \n",
      " 4   group          1137 non-null   object        \n",
      "dtypes: datetime64[ns](1), int64(3), object(1)\n",
      "memory usage: 53.3+ KB\n"
     ]
    }
   ],
   "source": [
    "final = orders.copy()\n",
    "final = final.query('revenue < 28000')\n",
    "final.info()"
   ]
  },
  {
   "cell_type": "code",
   "execution_count": 42,
   "metadata": {},
   "outputs": [],
   "source": [
    "datesGroups = final[['date','group']].drop_duplicates() \n",
    "\n",
    "ordersAggregated = datesGroups.apply(lambda x: final[np.logical_and(final['date'] <= x['date'], final['group'] == x['group'])]\\\n",
    ".agg({'date' : 'max', 'group' : 'max', 'transactionId' : pd.Series.nunique, 'visitorId' : pd.Series.nunique, 'revenue' : 'sum'}), axis=1).sort_values(by=['date','group'])\n",
    "\n",
    "visitorsAggregated = datesGroups.apply(lambda x: visitors[np.logical_and(visitors['date'] <= x['date'], visitors['group'] == x['group'])]\n",
    "                                       .agg({'date' : 'max', 'group' : 'max', 'visitors' : 'sum'}), axis=1).sort_values(by=['date','group'])\n",
    "\n",
    "cumulativeData = ordersAggregated.merge(visitorsAggregated, left_on=['date', 'group'], right_on=['date', 'group'])\n",
    "\n",
    "cumulativeData.columns = ['date', 'group', 'orders', 'buyers', 'revenue', 'visitors']\n",
    "\n",
    "cumulativeRevenueA = cumulativeData[cumulativeData['group']=='A'][['date','revenue', 'orders']]\n",
    "cumulativeRevenueB = cumulativeData[cumulativeData['group']=='B'][['date','revenue', 'orders']]"
   ]
  },
  {
   "cell_type": "code",
   "execution_count": 43,
   "metadata": {},
   "outputs": [
    {
     "data": {
      "image/png": "[encoded data removed]",
      "text/plain": [
       "<Figure size 1080x360 with 1 Axes>"
      ]
     },
     "metadata": {
      "needs_background": "light"
     },
     "output_type": "display_data"
    }
   ],
   "source": [
    "plt.figure(figsize=(15,5))\n",
    "plt.title('Отношение размера среднего чека группы А и В')\n",
    "plt.xlabel('Дата')\n",
    "plt.ylabel('Средний чек')\n",
    "plt.plot(cumulativeRevenueA['date'], cumulativeRevenueA['revenue']/cumulativeRevenueA['orders'], label='A')\n",
    "plt.plot(cumulativeRevenueB['date'], cumulativeRevenueB['revenue']/cumulativeRevenueB['orders'], label='B')\n",
    "plt.grid()\n",
    "plt.legend()\n",
    "plt.show()"
   ]
  },
  {
   "cell_type": "code",
   "execution_count": 44,
   "metadata": {},
   "outputs": [
    {
     "data": {
      "image/png": "[encoded data removed]",
      "text/plain": [
       "<Figure size 1080x360 with 1 Axes>"
      ]
     },
     "metadata": {
      "needs_background": "light"
     },
     "output_type": "display_data"
    }
   ],
   "source": [
    "mergedCumulativeRevenue = cumulativeRevenueA.merge(cumulativeRevenueB, left_on='date', right_on='date', how='left', suffixes=['A', 'B'])\n",
    "plt.figure(figsize=(15,5))\n",
    "plt.title('Изменение кумулятивного среднего чека группы B к группе A')\n",
    "plt.xlabel('дата')\n",
    "plt.ylabel('частота значений')\n",
    "plt.grid()\n",
    "plt.plot(mergedCumulativeRevenue['date'], (mergedCumulativeRevenue['revenueB']/mergedCumulativeRevenue['ordersB'])/(mergedCumulativeRevenue['revenueA']/mergedCumulativeRevenue['ordersA'])-1)\n",
    "# добавляем ось X\n",
    "plt.axhline(y=0, color='black', linestyle='--')\n",
    "plt.show()"
   ]
  },
  {
   "cell_type": "markdown",
   "metadata": {},
   "source": [
    "График различия среднего чека колеблется. Сделать из этого графика определённые выводы нельзя. Если нам важен средний чек, то стоит продолжать тест. Если среднее кол-во заказов, то есть конверсия, то можно остановить тест, так как она увеличивается (гипотеза об увеличении конверсии на 17% подтвердилась). \n",
    "\n",
    "P-value среднего чека значительно больше 0.05, значит причин отвергать нулевую гипотезу и считать, что в среднем чеке есть различия, нет. Значит нам неважно средний чек больше или меньше, так как это статистически незначимо.\n",
    "\n",
    "**Вывод:** Остановить тест, зафиксировать победу группы B."
   ]
  },
  {
   "cell_type": "code",
   "execution_count": null,
   "metadata": {},
   "outputs": [],
   "source": []
  }
 ],
 "metadata": {
  "ExecuteTimeLog": [
   {
    "duration": 1270,
    "start_time": "2022-11-19T13:25:27.830Z"
   },
   {
    "duration": 3,
    "start_time": "2022-11-19T13:25:48.037Z"
   },
   {
    "duration": 196,
    "start_time": "2022-11-19T13:26:06.754Z"
   },
   {
    "duration": 16,
    "start_time": "2022-11-19T13:26:25.987Z"
   },
   {
    "duration": 15,
    "start_time": "2022-11-19T13:26:38.947Z"
   },
   {
    "duration": 6,
    "start_time": "2022-11-19T13:27:15.382Z"
   },
   {
    "duration": 14,
    "start_time": "2022-11-19T13:27:24.297Z"
   },
   {
    "duration": 13,
    "start_time": "2022-11-19T13:27:43.640Z"
   },
   {
    "duration": 13,
    "start_time": "2022-11-19T13:28:05.281Z"
   },
   {
    "duration": 8,
    "start_time": "2022-11-19T13:28:18.473Z"
   },
   {
    "duration": 289,
    "start_time": "2022-11-19T13:28:34.034Z"
   },
   {
    "duration": 1106,
    "start_time": "2022-11-19T13:28:44.626Z"
   },
   {
    "duration": 76,
    "start_time": "2022-11-19T13:28:45.734Z"
   },
   {
    "duration": 11,
    "start_time": "2022-11-19T13:28:45.812Z"
   },
   {
    "duration": 13,
    "start_time": "2022-11-19T13:28:45.824Z"
   },
   {
    "duration": 7,
    "start_time": "2022-11-19T13:28:45.839Z"
   },
   {
    "duration": 12,
    "start_time": "2022-11-19T13:28:45.847Z"
   },
   {
    "duration": 14,
    "start_time": "2022-11-19T13:28:45.860Z"
   },
   {
    "duration": 17,
    "start_time": "2022-11-19T13:28:45.876Z"
   },
   {
    "duration": 8,
    "start_time": "2022-11-19T13:28:45.895Z"
   },
   {
    "duration": 11,
    "start_time": "2022-11-19T13:28:58.577Z"
   },
   {
    "duration": 10,
    "start_time": "2022-11-19T13:29:17.806Z"
   },
   {
    "duration": 4,
    "start_time": "2022-11-19T13:29:44.853Z"
   },
   {
    "duration": 6,
    "start_time": "2022-11-19T13:29:55.111Z"
   },
   {
    "duration": 18,
    "start_time": "2022-11-19T13:31:33.274Z"
   },
   {
    "duration": 5,
    "start_time": "2022-11-19T13:31:46.254Z"
   },
   {
    "duration": 12,
    "start_time": "2022-11-19T13:31:58.298Z"
   },
   {
    "duration": 11,
    "start_time": "2022-11-19T13:32:13.770Z"
   },
   {
    "duration": 5,
    "start_time": "2022-11-19T13:35:13.905Z"
   },
   {
    "duration": 1070,
    "start_time": "2022-11-19T13:35:21.839Z"
   },
   {
    "duration": 72,
    "start_time": "2022-11-19T13:35:22.911Z"
   },
   {
    "duration": 12,
    "start_time": "2022-11-19T13:35:22.985Z"
   },
   {
    "duration": 13,
    "start_time": "2022-11-19T13:35:22.999Z"
   },
   {
    "duration": 9,
    "start_time": "2022-11-19T13:35:23.014Z"
   },
   {
    "duration": 14,
    "start_time": "2022-11-19T13:35:23.025Z"
   },
   {
    "duration": 14,
    "start_time": "2022-11-19T13:35:23.041Z"
   },
   {
    "duration": 21,
    "start_time": "2022-11-19T13:35:23.057Z"
   },
   {
    "duration": 7,
    "start_time": "2022-11-19T13:35:23.097Z"
   },
   {
    "duration": 10,
    "start_time": "2022-11-19T13:35:23.106Z"
   },
   {
    "duration": 13,
    "start_time": "2022-11-19T13:35:23.118Z"
   },
   {
    "duration": 9,
    "start_time": "2022-11-19T13:35:23.132Z"
   },
   {
    "duration": 10,
    "start_time": "2022-11-19T13:35:23.142Z"
   },
   {
    "duration": 7,
    "start_time": "2022-11-19T13:35:23.153Z"
   },
   {
    "duration": 39,
    "start_time": "2022-11-19T13:35:23.162Z"
   },
   {
    "duration": 7,
    "start_time": "2022-11-19T13:35:23.203Z"
   },
   {
    "duration": 14,
    "start_time": "2022-11-19T13:35:23.211Z"
   },
   {
    "duration": 100,
    "start_time": "2022-11-19T13:39:43.072Z"
   },
   {
    "duration": 5,
    "start_time": "2022-11-19T13:44:30.260Z"
   },
   {
    "duration": 1290,
    "start_time": "2022-11-23T10:19:06.566Z"
   },
   {
    "duration": 201,
    "start_time": "2022-11-23T10:19:07.858Z"
   },
   {
    "duration": 12,
    "start_time": "2022-11-23T10:19:08.061Z"
   },
   {
    "duration": 15,
    "start_time": "2022-11-23T10:19:08.074Z"
   },
   {
    "duration": 4,
    "start_time": "2022-11-23T10:19:08.091Z"
   },
   {
    "duration": 13,
    "start_time": "2022-11-23T10:19:08.097Z"
   },
   {
    "duration": 16,
    "start_time": "2022-11-23T10:19:08.111Z"
   },
   {
    "duration": 17,
    "start_time": "2022-11-23T10:19:08.129Z"
   },
   {
    "duration": 8,
    "start_time": "2022-11-23T10:19:08.148Z"
   },
   {
    "duration": 9,
    "start_time": "2022-11-23T10:19:08.158Z"
   },
   {
    "duration": 10,
    "start_time": "2022-11-23T10:19:08.169Z"
   },
   {
    "duration": 6,
    "start_time": "2022-11-23T10:19:08.181Z"
   },
   {
    "duration": 9,
    "start_time": "2022-11-23T10:19:08.188Z"
   },
   {
    "duration": 7,
    "start_time": "2022-11-23T10:19:08.200Z"
   },
   {
    "duration": 31,
    "start_time": "2022-11-23T10:19:08.208Z"
   },
   {
    "duration": 6,
    "start_time": "2022-11-23T10:19:08.241Z"
   },
   {
    "duration": 13,
    "start_time": "2022-11-23T10:19:08.249Z"
   },
   {
    "duration": 6,
    "start_time": "2022-11-23T10:21:55.967Z"
   },
   {
    "duration": 129,
    "start_time": "2022-11-23T10:27:35.562Z"
   },
   {
    "duration": 25,
    "start_time": "2022-11-23T10:29:27.170Z"
   },
   {
    "duration": 1234,
    "start_time": "2022-11-23T10:30:02.218Z"
   },
   {
    "duration": 78,
    "start_time": "2022-11-23T10:30:03.454Z"
   },
   {
    "duration": 12,
    "start_time": "2022-11-23T10:30:03.534Z"
   },
   {
    "duration": 22,
    "start_time": "2022-11-23T10:30:03.548Z"
   },
   {
    "duration": 5,
    "start_time": "2022-11-23T10:30:03.572Z"
   },
   {
    "duration": 15,
    "start_time": "2022-11-23T10:30:03.578Z"
   },
   {
    "duration": 12,
    "start_time": "2022-11-23T10:30:03.595Z"
   },
   {
    "duration": 28,
    "start_time": "2022-11-23T10:30:03.609Z"
   },
   {
    "duration": 23,
    "start_time": "2022-11-23T10:30:03.639Z"
   },
   {
    "duration": 32,
    "start_time": "2022-11-23T10:30:03.664Z"
   },
   {
    "duration": 10,
    "start_time": "2022-11-23T10:30:03.698Z"
   },
   {
    "duration": 17,
    "start_time": "2022-11-23T10:30:03.710Z"
   },
   {
    "duration": 8,
    "start_time": "2022-11-23T10:30:03.729Z"
   },
   {
    "duration": 22,
    "start_time": "2022-11-23T10:30:03.739Z"
   },
   {
    "duration": 12,
    "start_time": "2022-11-23T10:30:03.763Z"
   },
   {
    "duration": 7,
    "start_time": "2022-11-23T10:30:03.777Z"
   },
   {
    "duration": 17,
    "start_time": "2022-11-23T10:30:03.786Z"
   },
   {
    "duration": 24,
    "start_time": "2022-11-23T10:30:03.805Z"
   },
   {
    "duration": 129,
    "start_time": "2022-11-23T10:30:03.831Z"
   },
   {
    "duration": 26,
    "start_time": "2022-11-23T10:33:41.975Z"
   },
   {
    "duration": 23,
    "start_time": "2022-11-23T10:33:50.337Z"
   },
   {
    "duration": 315,
    "start_time": "2022-11-23T10:34:17.925Z"
   },
   {
    "duration": 257,
    "start_time": "2022-11-23T10:35:01.651Z"
   },
   {
    "duration": 278,
    "start_time": "2022-11-23T10:37:46.646Z"
   },
   {
    "duration": 211,
    "start_time": "2022-11-23T10:38:00.628Z"
   },
   {
    "duration": 203,
    "start_time": "2022-11-23T10:38:36.261Z"
   },
   {
    "duration": 213,
    "start_time": "2022-11-23T10:42:27.162Z"
   },
   {
    "duration": 216,
    "start_time": "2022-11-23T10:42:30.699Z"
   },
   {
    "duration": 247,
    "start_time": "2022-11-23T10:45:58.779Z"
   },
   {
    "duration": 347,
    "start_time": "2022-11-23T10:50:00.751Z"
   },
   {
    "duration": 411,
    "start_time": "2022-11-23T10:50:09.963Z"
   },
   {
    "duration": 213,
    "start_time": "2022-11-23T11:05:52.227Z"
   },
   {
    "duration": 232,
    "start_time": "2022-11-23T11:06:11.280Z"
   },
   {
    "duration": 295,
    "start_time": "2022-11-23T11:10:55.984Z"
   },
   {
    "duration": 239,
    "start_time": "2022-11-23T11:18:04.860Z"
   },
   {
    "duration": 319,
    "start_time": "2022-11-23T11:18:44.262Z"
   },
   {
    "duration": 17,
    "start_time": "2022-11-23T11:24:20.264Z"
   },
   {
    "duration": 153,
    "start_time": "2022-11-23T11:29:18.154Z"
   },
   {
    "duration": 148,
    "start_time": "2022-11-23T11:31:11.348Z"
   },
   {
    "duration": 135,
    "start_time": "2022-11-23T11:31:22.676Z"
   },
   {
    "duration": 133,
    "start_time": "2022-11-23T11:32:53.096Z"
   },
   {
    "duration": 142,
    "start_time": "2022-11-23T11:33:46.378Z"
   },
   {
    "duration": 4,
    "start_time": "2022-11-23T11:35:45.674Z"
   },
   {
    "duration": 174,
    "start_time": "2022-11-23T11:38:49.757Z"
   },
   {
    "duration": 244,
    "start_time": "2022-11-23T11:40:18.609Z"
   },
   {
    "duration": 150,
    "start_time": "2022-11-23T11:40:54.718Z"
   },
   {
    "duration": 5,
    "start_time": "2022-11-23T11:44:38.411Z"
   },
   {
    "duration": 221,
    "start_time": "2022-11-23T11:50:25.351Z"
   },
   {
    "duration": 76,
    "start_time": "2022-11-23T11:57:04.227Z"
   },
   {
    "duration": 126,
    "start_time": "2022-11-23T12:02:40.087Z"
   },
   {
    "duration": 24,
    "start_time": "2022-11-23T12:03:48.809Z"
   },
   {
    "duration": 11,
    "start_time": "2022-11-23T12:17:32.987Z"
   },
   {
    "duration": 10,
    "start_time": "2022-11-23T12:17:43.631Z"
   },
   {
    "duration": 10,
    "start_time": "2022-11-23T12:17:49.389Z"
   },
   {
    "duration": 1213,
    "start_time": "2022-11-23T12:23:13.207Z"
   },
   {
    "duration": 9,
    "start_time": "2022-11-23T12:25:45.108Z"
   },
   {
    "duration": 9,
    "start_time": "2022-11-23T12:27:58.051Z"
   },
   {
    "duration": 25,
    "start_time": "2022-11-23T12:29:11.767Z"
   },
   {
    "duration": 14,
    "start_time": "2022-11-23T12:38:33.741Z"
   },
   {
    "duration": 13,
    "start_time": "2022-11-23T13:09:40.601Z"
   },
   {
    "duration": 279,
    "start_time": "2022-11-23T13:11:11.961Z"
   },
   {
    "duration": 199,
    "start_time": "2022-11-23T13:12:51.118Z"
   },
   {
    "duration": 325,
    "start_time": "2022-11-23T13:14:22.719Z"
   },
   {
    "duration": 1183,
    "start_time": "2022-11-23T13:23:48.199Z"
   },
   {
    "duration": 79,
    "start_time": "2022-11-23T13:23:49.384Z"
   },
   {
    "duration": 12,
    "start_time": "2022-11-23T13:23:49.465Z"
   },
   {
    "duration": 12,
    "start_time": "2022-11-23T13:23:49.480Z"
   },
   {
    "duration": 5,
    "start_time": "2022-11-23T13:23:49.494Z"
   },
   {
    "duration": 10,
    "start_time": "2022-11-23T13:23:49.501Z"
   },
   {
    "duration": 11,
    "start_time": "2022-11-23T13:23:49.513Z"
   },
   {
    "duration": 22,
    "start_time": "2022-11-23T13:23:49.525Z"
   },
   {
    "duration": 8,
    "start_time": "2022-11-23T13:23:49.549Z"
   },
   {
    "duration": 9,
    "start_time": "2022-11-23T13:23:49.560Z"
   },
   {
    "duration": 10,
    "start_time": "2022-11-23T13:23:49.571Z"
   },
   {
    "duration": 6,
    "start_time": "2022-11-23T13:23:49.582Z"
   },
   {
    "duration": 7,
    "start_time": "2022-11-23T13:23:49.589Z"
   },
   {
    "duration": 6,
    "start_time": "2022-11-23T13:23:49.597Z"
   },
   {
    "duration": 39,
    "start_time": "2022-11-23T13:23:49.604Z"
   },
   {
    "duration": 8,
    "start_time": "2022-11-23T13:23:49.644Z"
   },
   {
    "duration": 13,
    "start_time": "2022-11-23T13:23:49.654Z"
   },
   {
    "duration": 13,
    "start_time": "2022-11-23T13:23:49.668Z"
   },
   {
    "duration": 5,
    "start_time": "2022-11-23T13:23:49.682Z"
   },
   {
    "duration": 292,
    "start_time": "2022-11-23T13:23:49.689Z"
   },
   {
    "duration": 292,
    "start_time": "2022-11-23T13:23:49.983Z"
   },
   {
    "duration": 217,
    "start_time": "2022-11-23T13:23:50.277Z"
   },
   {
    "duration": 354,
    "start_time": "2022-11-23T13:23:50.496Z"
   },
   {
    "duration": 235,
    "start_time": "2022-11-23T13:23:50.852Z"
   },
   {
    "duration": 293,
    "start_time": "2022-11-23T13:23:51.088Z"
   },
   {
    "duration": 132,
    "start_time": "2022-11-23T13:23:51.383Z"
   },
   {
    "duration": 143,
    "start_time": "2022-11-23T13:23:51.517Z"
   },
   {
    "duration": 150,
    "start_time": "2022-11-23T13:23:51.662Z"
   },
   {
    "duration": 4,
    "start_time": "2022-11-23T13:23:51.814Z"
   },
   {
    "duration": 242,
    "start_time": "2022-11-23T13:23:51.820Z"
   },
   {
    "duration": 5,
    "start_time": "2022-11-23T13:23:52.064Z"
   },
   {
    "duration": 240,
    "start_time": "2022-11-23T13:23:52.070Z"
   },
   {
    "duration": 126,
    "start_time": "2022-11-23T13:23:52.312Z"
   },
   {
    "duration": 25,
    "start_time": "2022-11-23T13:23:52.439Z"
   },
   {
    "duration": 10,
    "start_time": "2022-11-23T13:23:52.466Z"
   },
   {
    "duration": 9,
    "start_time": "2022-11-23T13:23:52.477Z"
   },
   {
    "duration": 9,
    "start_time": "2022-11-23T13:23:52.487Z"
   },
   {
    "duration": 47,
    "start_time": "2022-11-23T13:23:52.497Z"
   },
   {
    "duration": 15,
    "start_time": "2022-11-23T13:23:52.545Z"
   },
   {
    "duration": 19,
    "start_time": "2022-11-23T13:23:52.562Z"
   },
   {
    "duration": 311,
    "start_time": "2022-11-23T13:23:52.583Z"
   },
   {
    "duration": 214,
    "start_time": "2022-11-23T13:23:52.895Z"
   },
   {
    "duration": 339,
    "start_time": "2022-11-23T13:23:53.110Z"
   },
   {
    "duration": 163,
    "start_time": "2022-11-23T13:28:16.509Z"
   },
   {
    "duration": 1101,
    "start_time": "2022-11-23T13:28:36.292Z"
   },
   {
    "duration": 79,
    "start_time": "2022-11-23T13:28:37.394Z"
   },
   {
    "duration": 11,
    "start_time": "2022-11-23T13:28:37.475Z"
   },
   {
    "duration": 18,
    "start_time": "2022-11-23T13:28:37.488Z"
   },
   {
    "duration": 11,
    "start_time": "2022-11-23T13:28:37.508Z"
   },
   {
    "duration": 13,
    "start_time": "2022-11-23T13:28:37.521Z"
   },
   {
    "duration": 26,
    "start_time": "2022-11-23T13:28:37.535Z"
   },
   {
    "duration": 12,
    "start_time": "2022-11-23T13:28:37.563Z"
   },
   {
    "duration": 15,
    "start_time": "2022-11-23T13:28:37.576Z"
   },
   {
    "duration": 25,
    "start_time": "2022-11-23T13:28:37.594Z"
   },
   {
    "duration": 29,
    "start_time": "2022-11-23T13:28:37.620Z"
   },
   {
    "duration": 24,
    "start_time": "2022-11-23T13:28:37.650Z"
   },
   {
    "duration": 31,
    "start_time": "2022-11-23T13:28:37.676Z"
   },
   {
    "duration": 19,
    "start_time": "2022-11-23T13:28:37.709Z"
   },
   {
    "duration": 31,
    "start_time": "2022-11-23T13:28:37.729Z"
   },
   {
    "duration": 11,
    "start_time": "2022-11-23T13:28:37.762Z"
   },
   {
    "duration": 22,
    "start_time": "2022-11-23T13:28:37.775Z"
   },
   {
    "duration": 26,
    "start_time": "2022-11-23T13:28:37.799Z"
   },
   {
    "duration": 6,
    "start_time": "2022-11-23T13:28:37.827Z"
   },
   {
    "duration": 320,
    "start_time": "2022-11-23T13:28:37.835Z"
   },
   {
    "duration": 320,
    "start_time": "2022-11-23T13:28:38.156Z"
   },
   {
    "duration": 222,
    "start_time": "2022-11-23T13:28:38.478Z"
   },
   {
    "duration": 407,
    "start_time": "2022-11-23T13:28:38.702Z"
   },
   {
    "duration": 236,
    "start_time": "2022-11-23T13:28:39.111Z"
   },
   {
    "duration": 342,
    "start_time": "2022-11-23T13:28:39.348Z"
   },
   {
    "duration": 162,
    "start_time": "2022-11-23T13:28:39.692Z"
   },
   {
    "duration": 135,
    "start_time": "2022-11-23T13:28:39.866Z"
   },
   {
    "duration": 161,
    "start_time": "2022-11-23T13:28:40.006Z"
   },
   {
    "duration": 4,
    "start_time": "2022-11-23T13:28:40.169Z"
   },
   {
    "duration": 265,
    "start_time": "2022-11-23T13:28:40.174Z"
   },
   {
    "duration": 5,
    "start_time": "2022-11-23T13:28:40.440Z"
   },
   {
    "duration": 235,
    "start_time": "2022-11-23T13:28:40.447Z"
   },
   {
    "duration": 135,
    "start_time": "2022-11-23T13:28:40.684Z"
   },
   {
    "duration": 28,
    "start_time": "2022-11-23T13:28:40.821Z"
   },
   {
    "duration": 11,
    "start_time": "2022-11-23T13:28:40.851Z"
   },
   {
    "duration": 12,
    "start_time": "2022-11-23T13:28:40.864Z"
   },
   {
    "duration": 9,
    "start_time": "2022-11-23T13:28:40.878Z"
   },
   {
    "duration": 54,
    "start_time": "2022-11-23T13:28:40.889Z"
   },
   {
    "duration": 19,
    "start_time": "2022-11-23T13:28:40.945Z"
   },
   {
    "duration": 13,
    "start_time": "2022-11-23T13:28:40.965Z"
   },
   {
    "duration": 332,
    "start_time": "2022-11-23T13:28:40.980Z"
   },
   {
    "duration": 214,
    "start_time": "2022-11-23T13:28:41.314Z"
   },
   {
    "duration": 319,
    "start_time": "2022-11-23T13:28:41.537Z"
   },
   {
    "duration": 1300,
    "start_time": "2022-11-23T18:39:37.723Z"
   },
   {
    "duration": 200,
    "start_time": "2022-11-23T18:39:39.025Z"
   },
   {
    "duration": 13,
    "start_time": "2022-11-23T18:39:39.227Z"
   },
   {
    "duration": 46,
    "start_time": "2022-11-23T18:39:39.241Z"
   },
   {
    "duration": 37,
    "start_time": "2022-11-23T18:39:39.289Z"
   },
   {
    "duration": 19,
    "start_time": "2022-11-23T18:39:39.328Z"
   },
   {
    "duration": 50,
    "start_time": "2022-11-23T18:39:39.348Z"
   },
   {
    "duration": 26,
    "start_time": "2022-11-23T18:39:39.399Z"
   },
   {
    "duration": 43,
    "start_time": "2022-11-23T18:39:39.426Z"
   },
   {
    "duration": 33,
    "start_time": "2022-11-23T18:39:39.470Z"
   },
   {
    "duration": 31,
    "start_time": "2022-11-23T18:39:39.505Z"
   },
   {
    "duration": 38,
    "start_time": "2022-11-23T18:39:39.538Z"
   },
   {
    "duration": 19,
    "start_time": "2022-11-23T18:39:39.577Z"
   },
   {
    "duration": 40,
    "start_time": "2022-11-23T18:39:39.599Z"
   },
   {
    "duration": 29,
    "start_time": "2022-11-23T18:39:39.641Z"
   },
   {
    "duration": 39,
    "start_time": "2022-11-23T18:39:39.671Z"
   },
   {
    "duration": 22,
    "start_time": "2022-11-23T18:39:39.712Z"
   },
   {
    "duration": 40,
    "start_time": "2022-11-23T18:39:39.735Z"
   },
   {
    "duration": 32,
    "start_time": "2022-11-23T18:39:39.776Z"
   },
   {
    "duration": 302,
    "start_time": "2022-11-23T18:39:39.810Z"
   },
   {
    "duration": 283,
    "start_time": "2022-11-23T18:39:40.113Z"
   },
   {
    "duration": 209,
    "start_time": "2022-11-23T18:39:40.397Z"
   },
   {
    "duration": 379,
    "start_time": "2022-11-23T18:39:40.608Z"
   },
   {
    "duration": 232,
    "start_time": "2022-11-23T18:39:40.988Z"
   },
   {
    "duration": 302,
    "start_time": "2022-11-23T18:39:41.221Z"
   },
   {
    "duration": 120,
    "start_time": "2022-11-23T18:39:41.524Z"
   },
   {
    "duration": 133,
    "start_time": "2022-11-23T18:39:41.645Z"
   },
   {
    "duration": 206,
    "start_time": "2022-11-23T18:39:41.780Z"
   },
   {
    "duration": 5,
    "start_time": "2022-11-23T18:39:41.988Z"
   },
   {
    "duration": 184,
    "start_time": "2022-11-23T18:39:41.994Z"
   },
   {
    "duration": 4,
    "start_time": "2022-11-23T18:39:42.180Z"
   },
   {
    "duration": 217,
    "start_time": "2022-11-23T18:39:42.186Z"
   },
   {
    "duration": 147,
    "start_time": "2022-11-23T18:39:42.405Z"
   },
   {
    "duration": 24,
    "start_time": "2022-11-23T18:39:42.554Z"
   },
   {
    "duration": 11,
    "start_time": "2022-11-23T18:39:42.579Z"
   },
   {
    "duration": 32,
    "start_time": "2022-11-23T18:39:42.591Z"
   },
   {
    "duration": 9,
    "start_time": "2022-11-23T18:39:42.624Z"
   },
   {
    "duration": 22,
    "start_time": "2022-11-23T18:39:42.634Z"
   },
   {
    "duration": 12,
    "start_time": "2022-11-23T18:39:42.658Z"
   },
   {
    "duration": 11,
    "start_time": "2022-11-23T18:39:42.672Z"
   },
   {
    "duration": 278,
    "start_time": "2022-11-23T18:39:42.715Z"
   },
   {
    "duration": 198,
    "start_time": "2022-11-23T18:39:42.995Z"
   },
   {
    "duration": 307,
    "start_time": "2022-11-23T18:39:43.195Z"
   },
   {
    "duration": 53,
    "start_time": "2022-11-24T15:34:48.357Z"
   },
   {
    "duration": 1439,
    "start_time": "2022-11-24T15:34:59.739Z"
   },
   {
    "duration": 202,
    "start_time": "2022-11-24T15:35:01.180Z"
   },
   {
    "duration": 14,
    "start_time": "2022-11-24T15:35:01.384Z"
   },
   {
    "duration": 16,
    "start_time": "2022-11-24T15:35:01.401Z"
   },
   {
    "duration": 6,
    "start_time": "2022-11-24T15:35:01.419Z"
   },
   {
    "duration": 15,
    "start_time": "2022-11-24T15:35:01.427Z"
   },
   {
    "duration": 25,
    "start_time": "2022-11-24T15:35:01.444Z"
   },
   {
    "duration": 24,
    "start_time": "2022-11-24T15:35:01.471Z"
   },
   {
    "duration": 10,
    "start_time": "2022-11-24T15:35:01.497Z"
   },
   {
    "duration": 11,
    "start_time": "2022-11-24T15:35:01.514Z"
   },
   {
    "duration": 13,
    "start_time": "2022-11-24T15:35:01.527Z"
   },
   {
    "duration": 11,
    "start_time": "2022-11-24T15:35:01.542Z"
   },
   {
    "duration": 11,
    "start_time": "2022-11-24T15:35:01.555Z"
   },
   {
    "duration": 8,
    "start_time": "2022-11-24T15:35:01.567Z"
   },
   {
    "duration": 15,
    "start_time": "2022-11-24T15:35:01.577Z"
   },
   {
    "duration": 5,
    "start_time": "2022-11-24T15:35:01.612Z"
   },
   {
    "duration": 15,
    "start_time": "2022-11-24T15:35:01.618Z"
   },
   {
    "duration": 17,
    "start_time": "2022-11-24T15:35:01.635Z"
   },
   {
    "duration": 7,
    "start_time": "2022-11-24T15:35:01.654Z"
   },
   {
    "duration": 324,
    "start_time": "2022-11-24T15:35:01.663Z"
   },
   {
    "duration": 332,
    "start_time": "2022-11-24T15:35:01.988Z"
   },
   {
    "duration": 260,
    "start_time": "2022-11-24T15:35:02.322Z"
   },
   {
    "duration": 407,
    "start_time": "2022-11-24T15:35:02.584Z"
   },
   {
    "duration": 255,
    "start_time": "2022-11-24T15:35:02.993Z"
   },
   {
    "duration": 319,
    "start_time": "2022-11-24T15:35:03.250Z"
   },
   {
    "duration": 155,
    "start_time": "2022-11-24T15:35:03.571Z"
   },
   {
    "duration": 161,
    "start_time": "2022-11-24T15:35:03.728Z"
   },
   {
    "duration": 165,
    "start_time": "2022-11-24T15:35:03.893Z"
   },
   {
    "duration": 5,
    "start_time": "2022-11-24T15:35:04.060Z"
   },
   {
    "duration": 281,
    "start_time": "2022-11-24T15:35:04.066Z"
   },
   {
    "duration": 167,
    "start_time": "2022-11-24T15:35:04.349Z"
   },
   {
    "duration": 5,
    "start_time": "2022-11-24T15:35:04.518Z"
   },
   {
    "duration": 252,
    "start_time": "2022-11-24T15:35:04.525Z"
   },
   {
    "duration": 180,
    "start_time": "2022-11-24T15:35:04.779Z"
   },
   {
    "duration": 22,
    "start_time": "2022-11-24T15:35:04.961Z"
   },
   {
    "duration": 28,
    "start_time": "2022-11-24T15:35:04.984Z"
   },
   {
    "duration": 21,
    "start_time": "2022-11-24T15:35:05.014Z"
   },
   {
    "duration": 48,
    "start_time": "2022-11-24T15:35:05.037Z"
   },
   {
    "duration": 55,
    "start_time": "2022-11-24T15:35:05.086Z"
   },
   {
    "duration": 16,
    "start_time": "2022-11-24T15:35:05.143Z"
   },
   {
    "duration": 39,
    "start_time": "2022-11-24T15:35:05.161Z"
   },
   {
    "duration": 328,
    "start_time": "2022-11-24T15:35:05.202Z"
   },
   {
    "duration": 232,
    "start_time": "2022-11-24T15:35:05.532Z"
   },
   {
    "duration": 319,
    "start_time": "2022-11-24T15:35:05.766Z"
   },
   {
    "duration": 356,
    "start_time": "2022-11-24T15:36:14.679Z"
   },
   {
    "duration": 3,
    "start_time": "2022-11-24T15:40:21.387Z"
   },
   {
    "duration": 9,
    "start_time": "2022-11-24T15:44:24.821Z"
   },
   {
    "duration": 1234,
    "start_time": "2022-11-24T15:45:00.411Z"
   },
   {
    "duration": 80,
    "start_time": "2022-11-24T15:45:01.647Z"
   },
   {
    "duration": 12,
    "start_time": "2022-11-24T15:45:01.729Z"
   },
   {
    "duration": 34,
    "start_time": "2022-11-24T15:45:01.743Z"
   },
   {
    "duration": 24,
    "start_time": "2022-11-24T15:45:01.779Z"
   },
   {
    "duration": 24,
    "start_time": "2022-11-24T15:45:01.804Z"
   },
   {
    "duration": 21,
    "start_time": "2022-11-24T15:45:01.830Z"
   },
   {
    "duration": 30,
    "start_time": "2022-11-24T15:45:01.853Z"
   },
   {
    "duration": 35,
    "start_time": "2022-11-24T15:45:01.885Z"
   },
   {
    "duration": 33,
    "start_time": "2022-11-24T15:45:01.926Z"
   },
   {
    "duration": 34,
    "start_time": "2022-11-24T15:45:01.961Z"
   },
   {
    "duration": 14,
    "start_time": "2022-11-24T15:45:01.997Z"
   },
   {
    "duration": 26,
    "start_time": "2022-11-24T15:45:02.012Z"
   },
   {
    "duration": 21,
    "start_time": "2022-11-24T15:45:02.039Z"
   },
   {
    "duration": 33,
    "start_time": "2022-11-24T15:45:02.061Z"
   },
   {
    "duration": 17,
    "start_time": "2022-11-24T15:45:02.096Z"
   },
   {
    "duration": 43,
    "start_time": "2022-11-24T15:45:02.114Z"
   },
   {
    "duration": 27,
    "start_time": "2022-11-24T15:45:02.159Z"
   },
   {
    "duration": 27,
    "start_time": "2022-11-24T15:45:02.188Z"
   },
   {
    "duration": 297,
    "start_time": "2022-11-24T15:45:02.217Z"
   },
   {
    "duration": 307,
    "start_time": "2022-11-24T15:45:02.516Z"
   },
   {
    "duration": 219,
    "start_time": "2022-11-24T15:45:02.824Z"
   },
   {
    "duration": 311,
    "start_time": "2022-11-24T15:45:03.045Z"
   },
   {
    "duration": 243,
    "start_time": "2022-11-24T15:45:03.357Z"
   },
   {
    "duration": 345,
    "start_time": "2022-11-24T15:45:03.601Z"
   },
   {
    "duration": 165,
    "start_time": "2022-11-24T15:45:03.948Z"
   },
   {
    "duration": 158,
    "start_time": "2022-11-24T15:45:04.114Z"
   },
   {
    "duration": 160,
    "start_time": "2022-11-24T15:45:04.275Z"
   },
   {
    "duration": 4,
    "start_time": "2022-11-24T15:45:04.437Z"
   },
   {
    "duration": 274,
    "start_time": "2022-11-24T15:45:04.443Z"
   },
   {
    "duration": 169,
    "start_time": "2022-11-24T15:45:04.718Z"
   },
   {
    "duration": 7,
    "start_time": "2022-11-24T15:45:04.889Z"
   },
   {
    "duration": 264,
    "start_time": "2022-11-24T15:45:04.898Z"
   },
   {
    "duration": 145,
    "start_time": "2022-11-24T15:45:05.164Z"
   },
   {
    "duration": 23,
    "start_time": "2022-11-24T15:45:05.311Z"
   },
   {
    "duration": 10,
    "start_time": "2022-11-24T15:45:05.335Z"
   },
   {
    "duration": 8,
    "start_time": "2022-11-24T15:45:05.346Z"
   },
   {
    "duration": 26,
    "start_time": "2022-11-24T15:45:05.356Z"
   },
   {
    "duration": 51,
    "start_time": "2022-11-24T15:45:05.384Z"
   },
   {
    "duration": 14,
    "start_time": "2022-11-24T15:45:05.437Z"
   },
   {
    "duration": 14,
    "start_time": "2022-11-24T15:45:05.453Z"
   },
   {
    "duration": 330,
    "start_time": "2022-11-24T15:45:05.469Z"
   },
   {
    "duration": 232,
    "start_time": "2022-11-24T15:45:05.801Z"
   },
   {
    "duration": 313,
    "start_time": "2022-11-24T15:45:06.035Z"
   }
  ],
  "kernelspec": {
   "display_name": "Python 3 (ipykernel)",
   "language": "python",
   "name": "python3"
  },
  "language_info": {
   "codemirror_mode": {
    "name": "ipython",
    "version": 3
   },
   "file_extension": ".py",
   "mimetype": "text/x-python",
   "name": "python",
   "nbconvert_exporter": "python",
   "pygments_lexer": "ipython3",
   "version": "3.9.5"
  },
  "toc": {
   "base_numbering": 1,
   "nav_menu": {},
   "number_sections": false,
   "sideBar": true,
   "skip_h1_title": false,
   "title_cell": "Table of Contents",
   "title_sidebar": "Contents",
   "toc_cell": false,
   "toc_position": {
    "height": "calc(100% - 180px)",
    "left": "10px",
    "top": "150px",
    "width": "388.366px"
   },
   "toc_section_display": true,
   "toc_window_display": true
  }
 },
 "nbformat": 4,
 "nbformat_minor": 2
}
