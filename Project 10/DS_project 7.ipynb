{
 "cells": [
  {
   "cell_type": "markdown",
   "metadata": {
    "toc": true
   },
   "source": [
    "<h1>Содержание<span class=\"tocSkip\"></span></h1>\n",
    "<div class=\"toc\"><ul class=\"toc-item\"><li><span><a href=\"#Подготовка\" data-toc-modified-id=\"Подготовка-1\"><span class=\"toc-item-num\">1&nbsp;&nbsp;</span>Подготовка</a></span><ul class=\"toc-item\"><li><span><a href=\"#Вывод:\" data-toc-modified-id=\"Вывод:-1.1\"><span class=\"toc-item-num\">1.1&nbsp;&nbsp;</span>Вывод:</a></span></li></ul></li><li><span><a href=\"#Обучение\" data-toc-modified-id=\"Обучение-2\"><span class=\"toc-item-num\">2&nbsp;&nbsp;</span>Обучение</a></span><ul class=\"toc-item\"><li><span><a href=\"#LogisticRegression\" data-toc-modified-id=\"LogisticRegression-2.1\"><span class=\"toc-item-num\">2.1&nbsp;&nbsp;</span>LogisticRegression</a></span></li><li><span><a href=\"#RandomForestClassifier\" data-toc-modified-id=\"RandomForestClassifier-2.2\"><span class=\"toc-item-num\">2.2&nbsp;&nbsp;</span>RandomForestClassifier</a></span></li><li><span><a href=\"#RidgeClassifier\" data-toc-modified-id=\"RidgeClassifier-2.3\"><span class=\"toc-item-num\">2.3&nbsp;&nbsp;</span>RidgeClassifier</a></span></li><li><span><a href=\"#LinearSVC\" data-toc-modified-id=\"LinearSVC-2.4\"><span class=\"toc-item-num\">2.4&nbsp;&nbsp;</span>LinearSVC</a></span></li><li><span><a href=\"#CatBoostClassifier\" data-toc-modified-id=\"CatBoostClassifier-2.5\"><span class=\"toc-item-num\">2.5&nbsp;&nbsp;</span>CatBoostClassifier</a></span></li><li><span><a href=\"#LGBMClassifier\" data-toc-modified-id=\"LGBMClassifier-2.6\"><span class=\"toc-item-num\">2.6&nbsp;&nbsp;</span>LGBMClassifier</a></span></li><li><span><a href=\"#Вывод:\" data-toc-modified-id=\"Вывод:-2.7\"><span class=\"toc-item-num\">2.7&nbsp;&nbsp;</span>Вывод:</a></span></li></ul></li><li><span><a href=\"#Тестирование\" data-toc-modified-id=\"Тестирование-3\"><span class=\"toc-item-num\">3&nbsp;&nbsp;</span>Тестирование</a></span><ul class=\"toc-item\"><li><span><a href=\"#Вывод:\" data-toc-modified-id=\"Вывод:-3.1\"><span class=\"toc-item-num\">3.1&nbsp;&nbsp;</span>Вывод:</a></span></li></ul></li><li><span><a href=\"#Выводы\" data-toc-modified-id=\"Выводы-4\"><span class=\"toc-item-num\">4&nbsp;&nbsp;</span>Выводы</a></span></li></ul></div>"
   ]
  },
  {
   "cell_type": "markdown",
   "metadata": {},
   "source": [
    "# Проект для интернет-магазина"
   ]
  },
  {
   "cell_type": "markdown",
   "metadata": {},
   "source": [
    "Интернет-магазин запускает новый сервис. Теперь пользователи могут редактировать и дополнять описания товаров. То есть клиенты предлагают свои правки и комментируют изменения других. Магазину нужен инструмент, который будет искать токсичные комментарии и отправлять их на модерацию. \n",
    "\n",
    "**Описание данных**\n",
    "\n",
    "Данные находятся в файле `toxic_comments.csv`. Столбец *text* в нём содержит текст комментария, а *toxic* — целевой признак."
   ]
  },
  {
   "cell_type": "markdown",
   "metadata": {},
   "source": [
    "## Подготовка"
   ]
  },
  {
   "cell_type": "code",
   "execution_count": 1,
   "metadata": {},
   "outputs": [
    {
     "name": "stderr",
     "output_type": "stream",
     "text": [
      "[nltk_data] Downloading package stopwords to /home/jovyan/nltk_data...\n",
      "[nltk_data]   Package stopwords is already up-to-date!\n"
     ]
    }
   ],
   "source": [
    "import pandas as pd\n",
    "import numpy as np\n",
    "import matplotlib.pyplot as plt\n",
    "import seaborn as sns\n",
    "import re\n",
    "import nltk\n",
    "nltk.download('stopwords')\n",
    "import warnings\n",
    "warnings.filterwarnings('ignore')\n",
    "\n",
    "from nltk.stem import WordNetLemmatizer \n",
    "from nltk.corpus import stopwords as nltk_stopwords\n",
    "from sklearn.feature_extraction.text import TfidfVectorizer\n",
    "from sklearn.linear_model import LogisticRegression\n",
    "from sklearn.pipeline import Pipeline\n",
    "from sklearn.model_selection import GridSearchCV\n",
    "from sklearn.metrics import f1_score\n",
    "from pymystem3 import Mystem\n",
    "m = Mystem()\n",
    "from sklearn.model_selection import train_test_split\n",
    "from sklearn.feature_extraction.text import TfidfVectorizer, CountVectorizer\n",
    "from sklearn.linear_model import LogisticRegression\n",
    "from sklearn import metrics\n",
    "from sklearn.metrics import f1_score\n",
    "from sklearn.ensemble import RandomForestClassifier\n",
    "from sklearn.linear_model import RidgeClassifier\n",
    "from sklearn.svm import LinearSVC\n",
    "from itertools import product"
   ]
  },
  {
   "cell_type": "code",
   "execution_count": 2,
   "metadata": {},
   "outputs": [],
   "source": [
    "df = pd.read_csv('/datasets/toxic_comments.csv')"
   ]
  },
  {
   "cell_type": "code",
   "execution_count": 3,
   "metadata": {},
   "outputs": [
    {
     "name": "stdout",
     "output_type": "stream",
     "text": [
      "<class 'pandas.core.frame.DataFrame'>\n",
      "RangeIndex: 159292 entries, 0 to 159291\n",
      "Data columns (total 3 columns):\n",
      " #   Column      Non-Null Count   Dtype \n",
      "---  ------      --------------   ----- \n",
      " 0   Unnamed: 0  159292 non-null  int64 \n",
      " 1   text        159292 non-null  object\n",
      " 2   toxic       159292 non-null  int64 \n",
      "dtypes: int64(2), object(1)\n",
      "memory usage: 3.6+ MB\n"
     ]
    }
   ],
   "source": [
    "df.info()"
   ]
  },
  {
   "cell_type": "code",
   "execution_count": 4,
   "metadata": {},
   "outputs": [
    {
     "data": {
      "text/html": [
       "<div>\n",
       "<style scoped>\n",
       "    .dataframe tbody tr th:only-of-type {\n",
       "        vertical-align: middle;\n",
       "    }\n",
       "\n",
       "    .dataframe tbody tr th {\n",
       "        vertical-align: top;\n",
       "    }\n",
       "\n",
       "    .dataframe thead th {\n",
       "        text-align: right;\n",
       "    }\n",
       "</style>\n",
       "<table border=\"1\" class=\"dataframe\">\n",
       "  <thead>\n",
       "    <tr style=\"text-align: right;\">\n",
       "      <th></th>\n",
       "      <th>Unnamed: 0</th>\n",
       "      <th>text</th>\n",
       "      <th>toxic</th>\n",
       "    </tr>\n",
       "  </thead>\n",
       "  <tbody>\n",
       "    <tr>\n",
       "      <th>0</th>\n",
       "      <td>0</td>\n",
       "      <td>Explanation\\nWhy the edits made under my usern...</td>\n",
       "      <td>0</td>\n",
       "    </tr>\n",
       "    <tr>\n",
       "      <th>1</th>\n",
       "      <td>1</td>\n",
       "      <td>D'aww! He matches this background colour I'm s...</td>\n",
       "      <td>0</td>\n",
       "    </tr>\n",
       "    <tr>\n",
       "      <th>2</th>\n",
       "      <td>2</td>\n",
       "      <td>Hey man, I'm really not trying to edit war. It...</td>\n",
       "      <td>0</td>\n",
       "    </tr>\n",
       "    <tr>\n",
       "      <th>3</th>\n",
       "      <td>3</td>\n",
       "      <td>\"\\nMore\\nI can't make any real suggestions on ...</td>\n",
       "      <td>0</td>\n",
       "    </tr>\n",
       "    <tr>\n",
       "      <th>4</th>\n",
       "      <td>4</td>\n",
       "      <td>You, sir, are my hero. Any chance you remember...</td>\n",
       "      <td>0</td>\n",
       "    </tr>\n",
       "  </tbody>\n",
       "</table>\n",
       "</div>"
      ],
      "text/plain": [
       "   Unnamed: 0                                               text  toxic\n",
       "0           0  Explanation\\nWhy the edits made under my usern...      0\n",
       "1           1  D'aww! He matches this background colour I'm s...      0\n",
       "2           2  Hey man, I'm really not trying to edit war. It...      0\n",
       "3           3  \"\\nMore\\nI can't make any real suggestions on ...      0\n",
       "4           4  You, sir, are my hero. Any chance you remember...      0"
      ]
     },
     "execution_count": 4,
     "metadata": {},
     "output_type": "execute_result"
    }
   ],
   "source": [
    "df.head()"
   ]
  },
  {
   "cell_type": "code",
   "execution_count": 5,
   "metadata": {},
   "outputs": [
    {
     "data": {
      "text/plain": [
       "(159292, 3)"
      ]
     },
     "execution_count": 5,
     "metadata": {},
     "output_type": "execute_result"
    }
   ],
   "source": [
    "df.shape"
   ]
  },
  {
   "cell_type": "code",
   "execution_count": 8,
   "metadata": {
    "scrolled": true
   },
   "outputs": [
    {
     "data": {
      "text/plain": [
       "0"
      ]
     },
     "execution_count": 8,
     "metadata": {},
     "output_type": "execute_result"
    }
   ],
   "source": [
    "df.duplicated().sum()"
   ]
  },
  {
   "cell_type": "code",
   "execution_count": 9,
   "metadata": {
    "scrolled": true
   },
   "outputs": [
    {
     "data": {
      "text/plain": [
       "0    0.898388\n",
       "1    0.101612\n",
       "Name: toxic, dtype: float64"
      ]
     },
     "execution_count": 9,
     "metadata": {},
     "output_type": "execute_result"
    }
   ],
   "source": [
    "# Проверим балланс классов\n",
    "df['toxic'].value_counts(normalize=True)"
   ]
  },
  {
   "cell_type": "code",
   "execution_count": 10,
   "metadata": {},
   "outputs": [
    {
     "data": {
      "text/plain": [
       "Unnamed: 0    0\n",
       "text          0\n",
       "toxic         0\n",
       "dtype: int64"
      ]
     },
     "execution_count": 10,
     "metadata": {},
     "output_type": "execute_result"
    }
   ],
   "source": [
    "df.isnull().sum()"
   ]
  },
  {
   "cell_type": "code",
   "execution_count": 11,
   "metadata": {},
   "outputs": [
    {
     "data": {
      "image/png": "[encoded data removed]",
      "text/plain": [
       "<Figure size 432x288 with 1 Axes>"
      ]
     },
     "metadata": {
      "needs_background": "light"
     },
     "output_type": "display_data"
    }
   ],
   "source": [
    "sns.countplot(data=df, x='toxic')\n",
    "plt.title('')\n",
    "plt.grid()"
   ]
  },
  {
   "cell_type": "code",
   "execution_count": 12,
   "metadata": {
    "scrolled": true
   },
   "outputs": [
    {
     "name": "stdout",
     "output_type": "stream",
     "text": [
      "toxic ratio: 10.16%\n"
     ]
    }
   ],
   "source": [
    "#Процентное соотношение токсичных комментариев:\n",
    "toxic_ratio = pd.Series(df['toxic']==1).sum()/df.shape[0]\n",
    "print('toxic ratio: {:.2%}'.format(toxic_ratio))"
   ]
  },
  {
   "cell_type": "code",
   "execution_count": 13,
   "metadata": {},
   "outputs": [
    {
     "name": "stderr",
     "output_type": "stream",
     "text": [
      "[nltk_data] Downloading package omw-1.4 to /home/jovyan/nltk_data...\n"
     ]
    },
    {
     "data": {
      "text/plain": [
       "True"
      ]
     },
     "execution_count": 13,
     "metadata": {},
     "output_type": "execute_result"
    }
   ],
   "source": [
    "nltk.download('omw-1.4')"
   ]
  },
  {
   "cell_type": "code",
   "execution_count": 14,
   "metadata": {},
   "outputs": [],
   "source": [
    "#Функция очистки от лишних символов:\n",
    "\n",
    "def clear_text(text):\n",
    "    text = re.sub(r'[^a-zA-Z ]', ' ', text)\n",
    "    return ' '.join(text.split())"
   ]
  },
  {
   "cell_type": "code",
   "execution_count": 15,
   "metadata": {},
   "outputs": [],
   "source": [
    "train_corpus = df['text']"
   ]
  },
  {
   "cell_type": "code",
   "execution_count": 16,
   "metadata": {},
   "outputs": [],
   "source": [
    "#затем каждый корпус лемматизируем с ее использованием:\n",
    "\n",
    "lemmatizer = WordNetLemmatizer()\n",
    "lemm_train_corpus = []\n",
    "for i in range(len(train_corpus)):\n",
    "    word_list = nltk.word_tokenize(train_corpus[i])\n",
    "    lemmatized_output = ' '.join([lemmatizer.lemmatize(w, 'n') for w in word_list])\n",
    "    lemm_train_corpus.append(clear_text(lemmatized_output))"
   ]
  },
  {
   "cell_type": "code",
   "execution_count": 17,
   "metadata": {},
   "outputs": [],
   "source": [
    "df['text'] = lemm_train_corpus"
   ]
  },
  {
   "cell_type": "code",
   "execution_count": 31,
   "metadata": {},
   "outputs": [
    {
     "data": {
      "text/html": [
       "<div>\n",
       "<style scoped>\n",
       "    .dataframe tbody tr th:only-of-type {\n",
       "        vertical-align: middle;\n",
       "    }\n",
       "\n",
       "    .dataframe tbody tr th {\n",
       "        vertical-align: top;\n",
       "    }\n",
       "\n",
       "    .dataframe thead th {\n",
       "        text-align: right;\n",
       "    }\n",
       "</style>\n",
       "<table border=\"1\" class=\"dataframe\">\n",
       "  <thead>\n",
       "    <tr style=\"text-align: right;\">\n",
       "      <th></th>\n",
       "      <th>Unnamed: 0</th>\n",
       "      <th>text</th>\n",
       "      <th>toxic</th>\n",
       "    </tr>\n",
       "  </thead>\n",
       "  <tbody>\n",
       "    <tr>\n",
       "      <th>0</th>\n",
       "      <td>0</td>\n",
       "      <td>Explanation Why the edits made under my userna...</td>\n",
       "      <td>0</td>\n",
       "    </tr>\n",
       "    <tr>\n",
       "      <th>1</th>\n",
       "      <td>1</td>\n",
       "      <td>D aww He match this background colour I m seem...</td>\n",
       "      <td>0</td>\n",
       "    </tr>\n",
       "    <tr>\n",
       "      <th>2</th>\n",
       "      <td>2</td>\n",
       "      <td>Hey man I m really not trying to edit war It s...</td>\n",
       "      <td>0</td>\n",
       "    </tr>\n",
       "    <tr>\n",
       "      <th>3</th>\n",
       "      <td>3</td>\n",
       "      <td>More I ca n t make any real suggestion on impr...</td>\n",
       "      <td>0</td>\n",
       "    </tr>\n",
       "    <tr>\n",
       "      <th>4</th>\n",
       "      <td>4</td>\n",
       "      <td>You sir are my hero Any chance you remember wh...</td>\n",
       "      <td>0</td>\n",
       "    </tr>\n",
       "  </tbody>\n",
       "</table>\n",
       "</div>"
      ],
      "text/plain": [
       "   Unnamed: 0                                               text  toxic\n",
       "0           0  Explanation Why the edits made under my userna...      0\n",
       "1           1  D aww He match this background colour I m seem...      0\n",
       "2           2  Hey man I m really not trying to edit war It s...      0\n",
       "3           3  More I ca n t make any real suggestion on impr...      0\n",
       "4           4  You sir are my hero Any chance you remember wh...      0"
      ]
     },
     "execution_count": 31,
     "metadata": {},
     "output_type": "execute_result"
    }
   ],
   "source": [
    "df.head()"
   ]
  },
  {
   "cell_type": "code",
   "execution_count": 18,
   "metadata": {},
   "outputs": [],
   "source": [
    "# Список стоп слов\n",
    "stopwords = set(nltk_stopwords.words('english'))"
   ]
  },
  {
   "cell_type": "markdown",
   "metadata": {},
   "source": [
    "### Вывод: \n",
    "\n",
    "- 159292 строка\n",
    "- Дубликатов и пропусков нет\n",
    "- 2 столбца: toxic, text\n",
    "- В столбце text содержатся тексты твитов\n",
    "- В столбе toxic булевые значения является ли данный твит токсичным или нет\n",
    "- примерно 90% твитов не токсичны\n",
    "\n",
    "\n",
    "- Проверили данные\n",
    "- Убрали знаки препинания и символы\n",
    "- Вычислили процентное соотношение токсичных комментариев\n",
    "- Провели лемматизацию \n",
    "- Убрали стоп-слова"
   ]
  },
  {
   "cell_type": "markdown",
   "metadata": {},
   "source": [
    "## Обучение"
   ]
  },
  {
   "cell_type": "code",
   "execution_count": 19,
   "metadata": {},
   "outputs": [
    {
     "data": {
      "text/plain": [
       "(107521, 35841, 15930)"
      ]
     },
     "execution_count": 19,
     "metadata": {},
     "output_type": "execute_result"
    }
   ],
   "source": [
    "#Разделю выборки\n",
    "\n",
    "target=df['toxic'].values\n",
    "features = df['text']\n",
    "\n",
    "features_other, features_test, target_other, target_test = train_test_split(features, target, test_size = .1, random_state = 42)\n",
    "features_train, features_valid, target_train, target_valid = train_test_split(features_other, target_other, shuffle=False, test_size=0.25, random_state = 42)\n",
    "\n",
    "features_train.shape[0], features_valid.shape[0], features_test.shape[0]"
   ]
  },
  {
   "cell_type": "code",
   "execution_count": 20,
   "metadata": {},
   "outputs": [],
   "source": [
    "#TFIDF векторизация\n",
    "\n",
    "count_tf_idf = TfidfVectorizer(stop_words=stopwords)\n",
    "tfidf_train = count_tf_idf.fit_transform(features_train)\n",
    "tfidf_valid = count_tf_idf.transform(features_valid)\n",
    "tfidf_test = count_tf_idf.transform(features_test)"
   ]
  },
  {
   "cell_type": "markdown",
   "metadata": {},
   "source": [
    "### LogisticRegression"
   ]
  },
  {
   "cell_type": "code",
   "execution_count": 21,
   "metadata": {},
   "outputs": [
    {
     "name": "stdout",
     "output_type": "stream",
     "text": [
      "Fitting 3 folds for each of 10 candidates, totalling 30 fits\n",
      "Best parameters is: {'model': LogisticRegression(C=4, penalty='l1', random_state=42, solver='liblinear'), 'model__C': 4, 'model__penalty': 'l1'}\n",
      "Best score is: 0.7689025108249977\n",
      "CPU times: user 1min 8s, sys: 1min 35s, total: 2min 44s\n",
      "Wall time: 2min 44s\n"
     ]
    }
   ],
   "source": [
    "%%time\n",
    "pipe = Pipeline([\n",
    "    (\n",
    "    ('model', LogisticRegression(random_state=1, solver='liblinear', max_iter=200))\n",
    "    )\n",
    "    ])\n",
    "\n",
    "\n",
    "param_grid = [\n",
    "        {\n",
    "\n",
    "            'model': [LogisticRegression(random_state=42, solver='liblinear')],\n",
    "            'model__penalty' : ['l1', 'l2'],\n",
    "            'model__C': list(range(1,15,3))\n",
    "        }\n",
    "]\n",
    "grid = GridSearchCV(pipe, param_grid=param_grid, scoring='f1', cv=3, verbose=True, n_jobs=-1)\n",
    "best_grid = grid.fit(tfidf_train, target_train)\n",
    "print('Best parameters is:', grid.best_params_)\n",
    "print('Best score is:', grid.best_score_)"
   ]
  },
  {
   "cell_type": "markdown",
   "metadata": {},
   "source": [
    "LogisticRegression показала подходящее значение метрики "
   ]
  },
  {
   "cell_type": "markdown",
   "metadata": {},
   "source": [
    "### RandomForestClassifier"
   ]
  },
  {
   "cell_type": "code",
   "execution_count": 23,
   "metadata": {},
   "outputs": [],
   "source": [
    "# %%time\n",
    "# params_forest = {\n",
    "#     'n_estimators': list(range(50,300,50)),\n",
    "#     'max_depth':[5,15],\n",
    "#     'max_features' : list(range(1,20, 2))\n",
    "# }\n",
    "\n",
    "\n",
    "# model_forest = RandomForestClassifier(random_state=12345)\n",
    "                                 \n",
    "# grid = GridSearchCV(model_forest, param_grid=params_forest, scoring='f1', cv=3, verbose=True, n_jobs=-1)\n",
    "# best_grid = grid.fit(tfidf_train, target_train)\n",
    "# print('Best parameters is:', grid.best_params_)\n",
    "# print('Best score is:', grid.best_score_)"
   ]
  },
  {
   "cell_type": "markdown",
   "metadata": {},
   "source": [
    "У случайного леса получилось нулевое значение метрики (закомментила)"
   ]
  },
  {
   "cell_type": "markdown",
   "metadata": {},
   "source": [
    "###  RidgeClassifier"
   ]
  },
  {
   "cell_type": "code",
   "execution_count": 24,
   "metadata": {},
   "outputs": [
    {
     "name": "stdout",
     "output_type": "stream",
     "text": [
      "CPU times: user 2.79 s, sys: 6.16 s, total: 8.95 s\n",
      "Wall time: 8.95 s\n"
     ]
    },
    {
     "data": {
      "text/plain": [
       "0.5607268681624328"
      ]
     },
     "execution_count": 24,
     "metadata": {},
     "output_type": "execute_result"
    }
   ],
   "source": [
    "%%time\n",
    "\n",
    "model_clf = RidgeClassifier(alpha = 1, normalize = True)\n",
    "model_clf.fit(tfidf_train, target_train)\n",
    "predicted_clf = model_clf.predict(tfidf_valid)\n",
    "f1_clf = f1_score(target_valid, predicted_clf)\n",
    "f1_clf"
   ]
  },
  {
   "cell_type": "markdown",
   "metadata": {},
   "source": [
    "Совсем плохой результат метрики"
   ]
  },
  {
   "cell_type": "markdown",
   "metadata": {},
   "source": [
    "### LinearSVC"
   ]
  },
  {
   "cell_type": "code",
   "execution_count": 25,
   "metadata": {},
   "outputs": [
    {
     "name": "stdout",
     "output_type": "stream",
     "text": [
      "i= ({'C': 0.1}, {'max_iter': 5}) f1_svc 0.7354497354497356\n",
      "i= ({'C': 0.1}, {'max_iter': 10}) f1_svc 0.7357804232804233\n",
      "i= ({'C': 0.1}, {'max_iter': 100}) f1_svc 0.7357804232804233\n",
      "i= ({'C': 1.0}, {'max_iter': 5}) f1_svc 0.7818740399385561\n",
      "i= ({'C': 1.0}, {'max_iter': 10}) f1_svc 0.7838616714697406\n",
      "i= ({'C': 1.0}, {'max_iter': 100}) f1_svc 0.784123617633692\n",
      "i= ({'C': 2.5}, {'max_iter': 5}) f1_svc 0.7761747187293184\n",
      "i= ({'C': 2.5}, {'max_iter': 10}) f1_svc 0.7785234899328859\n",
      "i= ({'C': 2.5}, {'max_iter': 100}) f1_svc 0.775902901124926\n",
      "CPU times: user 4.18 s, sys: 301 ms, total: 4.48 s\n",
      "Wall time: 4.59 s\n"
     ]
    }
   ],
   "source": [
    "%%time\n",
    "\n",
    "f1_svc = dict()\n",
    "for i in product([{'C':0.1},{'C':1.0} ,{'C':2.5}],\n",
    "              [{'max_iter':5},{ 'max_iter':10}, {'max_iter':100}]\n",
    "              ):\n",
    "    model_svc = LinearSVC(random_state = 12345,**i[0],**i[1])\n",
    "    model_svc.fit(tfidf_train, target_train)\n",
    "    predicted_svc = model_svc.predict(tfidf_valid)\n",
    "    f1_svc = f1_score(target_valid, predicted_svc)\n",
    "    print('i=', i, 'f1_svc', f1_svc)"
   ]
  },
  {
   "cell_type": "markdown",
   "metadata": {},
   "source": [
    "Модель LinearSVC с параметрами 'C': 1.0, 'max_iter': 100 f1_svc 0.784123617633692 наиболее подходящая. "
   ]
  },
  {
   "cell_type": "markdown",
   "metadata": {},
   "source": [
    "Далее закомментила CatBoostClassifier и LGBMClassifier так как грузятся по часу и значение метрики хуже, чем у логистической регрессии и LinearSVC"
   ]
  },
  {
   "cell_type": "markdown",
   "metadata": {},
   "source": [
    "### CatBoostClassifier"
   ]
  },
  {
   "cell_type": "code",
   "execution_count": 26,
   "metadata": {},
   "outputs": [],
   "source": [
    "# %%time\n",
    "\n",
    "# params_cat = {\n",
    "#     'depth' : [5, 10], \n",
    "#     'learning_rate' : [0.03], #брала 0.03, 0.06, 0.1\n",
    "#     'iterations' : [300], #брала 100, 200, 300\n",
    "#     'verbose' : [100]\n",
    "# }\n",
    "\n",
    "# catboost = CatBoostClassifier(random_state=43)\n",
    "\n",
    "# cat_grid = GridSearchCV(catboost,param_grid=params_cat, scoring='f1', cv=3, verbose=True, n_jobs=-1)\n",
    "# best_grid = grid.fit(tfidf_train, target_train)\n",
    "# print('Best parameters is:', grid.best_params_)\n",
    "# print('Best score is:', grid.best_score_)"
   ]
  },
  {
   "cell_type": "markdown",
   "metadata": {},
   "source": [
    "### LGBMClassifier"
   ]
  },
  {
   "cell_type": "code",
   "execution_count": 27,
   "metadata": {},
   "outputs": [],
   "source": [
    "# %%time\n",
    "\n",
    "\n",
    "# LightGBM_model = LGBMClassifier()\n",
    "# hyperparams = [{'max_depth' : [3,10], \n",
    "#                 'learning_rate':[0.03], # 0.03, 0.1, 0.3\n",
    "#                 'n_estimators' : [1000],  # 200, 500, 1000\n",
    "#                 'random_state':[12345]}]\n",
    "# clf = GridSearchCV(LightGBM_model, hyperparams, scoring='f1',cv=3)\n",
    "# clf.fit(tfidf_train, target_train)\n",
    "# print('Best parameters is:')\n",
    "# print()\n",
    "# LGBM_best_params = clf.best_params_\n",
    "# print(LGBM_best_params)\n",
    "# print()\n",
    "# print('Best score is:', clf.best_score_)"
   ]
  },
  {
   "cell_type": "markdown",
   "metadata": {},
   "source": [
    "### Вывод: \n",
    "\n",
    "Модели Логистическая регрессия и LinearSVC показали подходящие результаты метрики, модель RidgeClassifier показала результат намного хуже, RandomForestClassifier показала нулевой результат."
   ]
  },
  {
   "cell_type": "markdown",
   "metadata": {},
   "source": [
    "## Тестирование "
   ]
  },
  {
   "cell_type": "markdown",
   "metadata": {},
   "source": [
    "Протестирую модель LinearSVC"
   ]
  },
  {
   "cell_type": "code",
   "execution_count": 28,
   "metadata": {},
   "outputs": [
    {
     "data": {
      "text/plain": [
       "0.7793656326246079"
      ]
     },
     "execution_count": 28,
     "metadata": {},
     "output_type": "execute_result"
    }
   ],
   "source": [
    "best_model = LinearSVC(random_state = 12345,  max_iter= 100) \n",
    "\n",
    "best_model.fit(tfidf_train, target_train)\n",
    "predicted_test = best_model.predict(tfidf_test) \n",
    "f1 = f1_score(target_test, predicted_test) \n",
    "f1"
   ]
  },
  {
   "cell_type": "markdown",
   "metadata": {},
   "source": [
    "Удалось достичь нужной выличены f1-меры на тестовой выборке с параметром max_iter = 100."
   ]
  },
  {
   "cell_type": "markdown",
   "metadata": {},
   "source": [
    "Также решила обучить модель логистической регрессии"
   ]
  },
  {
   "cell_type": "code",
   "execution_count": 29,
   "metadata": {},
   "outputs": [
    {
     "data": {
      "text/plain": [
       "0.7846336398694749"
      ]
     },
     "execution_count": 29,
     "metadata": {},
     "output_type": "execute_result"
    }
   ],
   "source": [
    "model = LogisticRegression(random_state=42, C = 4, penalty = 'l1', solver='liblinear', max_iter=200)\n",
    "model.fit(tfidf_train, target_train)\n",
    "valid_pred = model.predict(tfidf_valid)\n",
    "f1_score(target_valid, valid_pred)"
   ]
  },
  {
   "cell_type": "code",
   "execution_count": 30,
   "metadata": {},
   "outputs": [
    {
     "name": "stdout",
     "output_type": "stream",
     "text": [
      "              precision    recall  f1-score   support\n",
      "\n",
      "           0       0.97      0.99      0.98     14314\n",
      "           1       0.87      0.71      0.78      1616\n",
      "\n",
      "    accuracy                           0.96     15930\n",
      "   macro avg       0.92      0.85      0.88     15930\n",
      "weighted avg       0.96      0.96      0.96     15930\n",
      " 0.7801225323349217\n"
     ]
    }
   ],
   "source": [
    "test_pred = model.predict(tfidf_test)\n",
    "print(metrics.classification_report(target_test, test_pred), metrics.f1_score(target_test, test_pred))"
   ]
  },
  {
   "cell_type": "markdown",
   "metadata": {},
   "source": [
    "### Вывод: \n",
    "\n",
    "На основе тестирования можно сделать вывод, что лучший результат метрики был достигнут на модели Логистической регрессии"
   ]
  },
  {
   "cell_type": "markdown",
   "metadata": {},
   "source": [
    "## Выводы"
   ]
  },
  {
   "cell_type": "markdown",
   "metadata": {},
   "source": [
    "- Подготовили данные\n",
    "- Убрали знаки препинания и символы\n",
    "- Вычислили процентное соотношение токсичных комментариев\n",
    "- Провели лемматизацию\n",
    "- Разделили выборки\n",
    "- Обучили разные модели \n",
    "- Провели тестирование лучших моделей\n",
    "- Исходя из анализа модель Логистической регрессии оказалась лучшей с результатом метрики 0.780"
   ]
  }
 ],
 "metadata": {
  "ExecuteTimeLog": [
   {
    "duration": 1405,
    "start_time": "2022-08-31T10:20:52.409Z"
   },
   {
    "duration": 2174,
    "start_time": "2022-08-31T10:21:11.423Z"
   },
   {
    "duration": 31,
    "start_time": "2022-08-31T10:21:24.141Z"
   },
   {
    "duration": 16,
    "start_time": "2022-08-31T10:21:31.472Z"
   },
   {
    "duration": 2124,
    "start_time": "2022-08-31T10:22:39.201Z"
   },
   {
    "duration": 7,
    "start_time": "2022-08-31T10:22:57.089Z"
   },
   {
    "duration": 110,
    "start_time": "2022-08-31T10:23:52.791Z"
   },
   {
    "duration": 8,
    "start_time": "2022-08-31T10:23:55.423Z"
   },
   {
    "duration": 4,
    "start_time": "2022-08-31T10:23:58.208Z"
   },
   {
    "duration": 20,
    "start_time": "2022-08-31T10:26:31.549Z"
   },
   {
    "duration": 15,
    "start_time": "2022-08-31T10:27:25.762Z"
   },
   {
    "duration": 197,
    "start_time": "2022-08-31T10:27:39.600Z"
   },
   {
    "duration": 8,
    "start_time": "2022-08-31T10:27:54.130Z"
   },
   {
    "duration": 9,
    "start_time": "2022-08-31T10:28:09.259Z"
   },
   {
    "duration": 492,
    "start_time": "2022-08-31T10:28:47.284Z"
   },
   {
    "duration": 117,
    "start_time": "2022-08-31T10:28:51.733Z"
   },
   {
    "duration": 5,
    "start_time": "2022-08-31T10:29:39.359Z"
   },
   {
    "duration": 2731,
    "start_time": "2022-08-31T10:31:23.801Z"
   },
   {
    "duration": 5,
    "start_time": "2022-08-31T10:31:49.343Z"
   },
   {
    "duration": 4,
    "start_time": "2022-08-31T10:32:17.760Z"
   },
   {
    "duration": 10,
    "start_time": "2022-08-31T10:34:43.922Z"
   },
   {
    "duration": 493,
    "start_time": "2022-08-31T10:34:58.602Z"
   },
   {
    "duration": 27,
    "start_time": "2022-08-31T10:35:27.731Z"
   },
   {
    "duration": 3,
    "start_time": "2022-08-31T10:46:41.812Z"
   },
   {
    "duration": 25,
    "start_time": "2022-08-31T10:46:43.419Z"
   },
   {
    "duration": 4,
    "start_time": "2022-08-31T10:46:56.200Z"
   },
   {
    "duration": 10,
    "start_time": "2022-08-31T10:46:56.762Z"
   },
   {
    "duration": 4,
    "start_time": "2022-08-31T10:47:51.666Z"
   },
   {
    "duration": 24,
    "start_time": "2022-08-31T10:48:19.892Z"
   },
   {
    "duration": 1881,
    "start_time": "2022-08-31T10:48:33.210Z"
   },
   {
    "duration": 2178,
    "start_time": "2022-08-31T10:48:35.093Z"
   },
   {
    "duration": 36,
    "start_time": "2022-08-31T10:48:37.272Z"
   },
   {
    "duration": 10,
    "start_time": "2022-08-31T10:48:37.310Z"
   },
   {
    "duration": 4,
    "start_time": "2022-08-31T10:48:37.322Z"
   },
   {
    "duration": 21,
    "start_time": "2022-08-31T10:48:37.328Z"
   },
   {
    "duration": 2168,
    "start_time": "2022-08-31T10:48:37.351Z"
   },
   {
    "duration": 7,
    "start_time": "2022-08-31T10:48:39.521Z"
   },
   {
    "duration": 210,
    "start_time": "2022-08-31T10:48:39.529Z"
   },
   {
    "duration": 8,
    "start_time": "2022-08-31T10:48:39.740Z"
   },
   {
    "duration": 28,
    "start_time": "2022-08-31T10:48:39.749Z"
   },
   {
    "duration": 127,
    "start_time": "2022-08-31T10:48:39.778Z"
   },
   {
    "duration": 5,
    "start_time": "2022-08-31T10:48:39.907Z"
   },
   {
    "duration": 2629,
    "start_time": "2022-08-31T10:48:39.915Z"
   },
   {
    "duration": 4,
    "start_time": "2022-08-31T10:48:42.546Z"
   },
   {
    "duration": 10,
    "start_time": "2022-08-31T10:48:42.552Z"
   },
   {
    "duration": 57,
    "start_time": "2022-08-31T10:48:42.563Z"
   },
   {
    "duration": 1855,
    "start_time": "2022-08-31T13:08:47.122Z"
   },
   {
    "duration": 2101,
    "start_time": "2022-08-31T13:08:48.980Z"
   },
   {
    "duration": 31,
    "start_time": "2022-08-31T13:08:51.083Z"
   },
   {
    "duration": 9,
    "start_time": "2022-08-31T13:08:51.116Z"
   },
   {
    "duration": 4,
    "start_time": "2022-08-31T13:08:51.126Z"
   },
   {
    "duration": 20,
    "start_time": "2022-08-31T13:08:51.131Z"
   },
   {
    "duration": 2231,
    "start_time": "2022-08-31T13:08:51.152Z"
   },
   {
    "duration": 7,
    "start_time": "2022-08-31T13:08:53.384Z"
   },
   {
    "duration": 205,
    "start_time": "2022-08-31T13:08:53.392Z"
   },
   {
    "duration": 8,
    "start_time": "2022-08-31T13:08:53.599Z"
   },
   {
    "duration": 28,
    "start_time": "2022-08-31T13:08:53.608Z"
   },
   {
    "duration": 138,
    "start_time": "2022-08-31T13:08:53.638Z"
   },
   {
    "duration": 5,
    "start_time": "2022-08-31T13:08:53.778Z"
   },
   {
    "duration": 2812,
    "start_time": "2022-08-31T13:08:53.784Z"
   },
   {
    "duration": 5,
    "start_time": "2022-08-31T13:08:56.598Z"
   },
   {
    "duration": 48,
    "start_time": "2022-08-31T13:10:02.783Z"
   },
   {
    "duration": 8,
    "start_time": "2022-08-31T13:10:08.189Z"
   },
   {
    "duration": 7,
    "start_time": "2022-08-31T13:10:21.698Z"
   },
   {
    "duration": 9,
    "start_time": "2022-08-31T13:10:30.766Z"
   },
   {
    "duration": 46,
    "start_time": "2022-09-02T15:48:52.895Z"
   },
   {
    "duration": 6,
    "start_time": "2022-09-02T15:48:55.826Z"
   },
   {
    "duration": 1996,
    "start_time": "2022-09-02T15:49:00.413Z"
   },
   {
    "duration": 3247,
    "start_time": "2022-09-02T15:49:02.411Z"
   },
   {
    "duration": 30,
    "start_time": "2022-09-02T15:49:05.660Z"
   },
   {
    "duration": 9,
    "start_time": "2022-09-02T15:49:05.691Z"
   },
   {
    "duration": 5,
    "start_time": "2022-09-02T15:49:05.702Z"
   },
   {
    "duration": 18,
    "start_time": "2022-09-02T15:49:05.709Z"
   },
   {
    "duration": 2276,
    "start_time": "2022-09-02T15:49:05.729Z"
   },
   {
    "duration": 7,
    "start_time": "2022-09-02T15:49:08.006Z"
   },
   {
    "duration": 206,
    "start_time": "2022-09-02T15:49:08.015Z"
   },
   {
    "duration": 7,
    "start_time": "2022-09-02T15:49:08.223Z"
   },
   {
    "duration": 25,
    "start_time": "2022-09-02T15:49:08.232Z"
   },
   {
    "duration": 136,
    "start_time": "2022-09-02T15:49:08.258Z"
   },
   {
    "duration": 13,
    "start_time": "2022-09-02T15:49:08.395Z"
   },
   {
    "duration": 2586,
    "start_time": "2022-09-02T15:49:08.410Z"
   },
   {
    "duration": 4,
    "start_time": "2022-09-02T15:49:10.998Z"
   },
   {
    "duration": 68,
    "start_time": "2022-09-02T15:49:11.006Z"
   },
   {
    "duration": 6446,
    "start_time": "2022-09-02T15:49:11.075Z"
   },
   {
    "duration": 204,
    "start_time": "2022-09-02T15:52:09.910Z"
   },
   {
    "duration": 189310,
    "start_time": "2022-09-02T15:52:27.104Z"
   },
   {
    "duration": 79,
    "start_time": "2022-09-02T15:56:05.632Z"
   },
   {
    "duration": 1369460,
    "start_time": "2022-09-02T15:56:12.459Z"
   },
   {
    "duration": 417,
    "start_time": "2022-09-02T16:20:11.665Z"
   },
   {
    "duration": 42,
    "start_time": "2022-09-02T16:20:32.440Z"
   },
   {
    "duration": 108,
    "start_time": "2022-09-02T16:20:37.100Z"
   },
   {
    "duration": 1323994,
    "start_time": "2022-09-02T16:21:07.058Z"
   },
   {
    "duration": 526,
    "start_time": "2022-09-02T16:44:25.989Z"
   },
   {
    "duration": 26,
    "start_time": "2022-09-02T16:44:50.143Z"
   },
   {
    "duration": 351,
    "start_time": "2022-09-02T16:44:54.931Z"
   },
   {
    "duration": 180,
    "start_time": "2022-09-02T16:45:06.122Z"
   },
   {
    "duration": 119,
    "start_time": "2022-09-02T16:45:48.564Z"
   },
   {
    "duration": 99,
    "start_time": "2022-09-02T16:46:01.442Z"
   },
   {
    "duration": 73,
    "start_time": "2022-09-02T16:48:37.143Z"
   },
   {
    "duration": 74,
    "start_time": "2022-09-02T16:48:59.133Z"
   },
   {
    "duration": 90,
    "start_time": "2022-09-03T08:27:05.106Z"
   },
   {
    "duration": 1989,
    "start_time": "2022-09-03T08:27:14.237Z"
   },
   {
    "duration": 151,
    "start_time": "2022-09-03T08:27:24.553Z"
   },
   {
    "duration": 1371,
    "start_time": "2022-09-03T08:28:06.111Z"
   },
   {
    "duration": 0,
    "start_time": "2022-09-03T08:28:07.484Z"
   },
   {
    "duration": 0,
    "start_time": "2022-09-03T08:28:07.485Z"
   },
   {
    "duration": 0,
    "start_time": "2022-09-03T08:28:07.486Z"
   },
   {
    "duration": 0,
    "start_time": "2022-09-03T08:28:07.487Z"
   },
   {
    "duration": 0,
    "start_time": "2022-09-03T08:28:07.488Z"
   },
   {
    "duration": 0,
    "start_time": "2022-09-03T08:28:07.489Z"
   },
   {
    "duration": 0,
    "start_time": "2022-09-03T08:28:07.490Z"
   },
   {
    "duration": 0,
    "start_time": "2022-09-03T08:28:07.491Z"
   },
   {
    "duration": 0,
    "start_time": "2022-09-03T08:28:07.492Z"
   },
   {
    "duration": 0,
    "start_time": "2022-09-03T08:28:07.493Z"
   },
   {
    "duration": 0,
    "start_time": "2022-09-03T08:28:07.495Z"
   },
   {
    "duration": 0,
    "start_time": "2022-09-03T08:28:07.496Z"
   },
   {
    "duration": 0,
    "start_time": "2022-09-03T08:28:07.497Z"
   },
   {
    "duration": 0,
    "start_time": "2022-09-03T08:28:07.498Z"
   },
   {
    "duration": 0,
    "start_time": "2022-09-03T08:28:07.499Z"
   },
   {
    "duration": 0,
    "start_time": "2022-09-03T08:28:07.500Z"
   },
   {
    "duration": 0,
    "start_time": "2022-09-03T08:28:07.501Z"
   },
   {
    "duration": 0,
    "start_time": "2022-09-03T08:28:07.502Z"
   },
   {
    "duration": 0,
    "start_time": "2022-09-03T08:28:07.503Z"
   },
   {
    "duration": 0,
    "start_time": "2022-09-03T08:28:07.504Z"
   },
   {
    "duration": 0,
    "start_time": "2022-09-03T08:28:07.505Z"
   },
   {
    "duration": 268,
    "start_time": "2022-09-03T08:28:22.298Z"
   },
   {
    "duration": 20,
    "start_time": "2022-09-03T08:29:27.339Z"
   },
   {
    "duration": 74339,
    "start_time": "2022-09-03T08:30:15.908Z"
   },
   {
    "duration": 15,
    "start_time": "2022-09-03T08:31:30.250Z"
   },
   {
    "duration": 21,
    "start_time": "2022-09-03T08:31:40.548Z"
   },
   {
    "duration": 4534,
    "start_time": "2022-09-03T08:31:47.404Z"
   },
   {
    "duration": 27,
    "start_time": "2022-09-03T08:31:54.054Z"
   },
   {
    "duration": 2169,
    "start_time": "2022-09-03T08:32:10.218Z"
   },
   {
    "duration": 1842,
    "start_time": "2022-09-03T08:32:12.389Z"
   },
   {
    "duration": 2347,
    "start_time": "2022-09-03T08:32:14.233Z"
   },
   {
    "duration": 34,
    "start_time": "2022-09-03T08:32:16.582Z"
   },
   {
    "duration": 12,
    "start_time": "2022-09-03T08:32:16.618Z"
   },
   {
    "duration": 5,
    "start_time": "2022-09-03T08:32:16.631Z"
   },
   {
    "duration": 20,
    "start_time": "2022-09-03T08:32:16.638Z"
   },
   {
    "duration": 2333,
    "start_time": "2022-09-03T08:32:16.660Z"
   },
   {
    "duration": 8,
    "start_time": "2022-09-03T08:32:18.994Z"
   },
   {
    "duration": 213,
    "start_time": "2022-09-03T08:32:19.004Z"
   },
   {
    "duration": 9,
    "start_time": "2022-09-03T08:32:19.218Z"
   },
   {
    "duration": 26,
    "start_time": "2022-09-03T08:32:19.229Z"
   },
   {
    "duration": 133,
    "start_time": "2022-09-03T08:32:19.256Z"
   },
   {
    "duration": 5,
    "start_time": "2022-09-03T08:32:19.390Z"
   },
   {
    "duration": 2644,
    "start_time": "2022-09-03T08:32:19.396Z"
   },
   {
    "duration": 5,
    "start_time": "2022-09-03T08:32:22.042Z"
   },
   {
    "duration": 80,
    "start_time": "2022-09-03T08:32:22.048Z"
   },
   {
    "duration": 6733,
    "start_time": "2022-09-03T08:32:22.130Z"
   },
   {
    "duration": 207967,
    "start_time": "2022-09-03T08:32:28.865Z"
   },
   {
    "duration": 3,
    "start_time": "2022-09-03T08:35:56.833Z"
   },
   {
    "duration": 6,
    "start_time": "2022-09-03T08:35:56.837Z"
   },
   {
    "duration": 107,
    "start_time": "2022-09-03T08:36:13.822Z"
   },
   {
    "duration": 2449,
    "start_time": "2022-09-03T08:40:00.277Z"
   },
   {
    "duration": 2414,
    "start_time": "2022-09-03T08:40:04.307Z"
   },
   {
    "duration": 33,
    "start_time": "2022-09-03T08:40:07.513Z"
   },
   {
    "duration": 11,
    "start_time": "2022-09-03T08:40:08.259Z"
   },
   {
    "duration": 3,
    "start_time": "2022-09-03T08:40:10.017Z"
   },
   {
    "duration": 18,
    "start_time": "2022-09-03T08:40:10.656Z"
   },
   {
    "duration": 2363,
    "start_time": "2022-09-03T08:40:12.405Z"
   },
   {
    "duration": 9,
    "start_time": "2022-09-03T08:40:16.976Z"
   },
   {
    "duration": 196,
    "start_time": "2022-09-03T08:40:17.759Z"
   },
   {
    "duration": 7,
    "start_time": "2022-09-03T08:40:18.555Z"
   },
   {
    "duration": 27,
    "start_time": "2022-09-03T08:40:20.262Z"
   },
   {
    "duration": 116,
    "start_time": "2022-09-03T08:40:20.941Z"
   },
   {
    "duration": 4,
    "start_time": "2022-09-03T08:40:22.673Z"
   },
   {
    "duration": 2705,
    "start_time": "2022-09-03T08:40:24.763Z"
   },
   {
    "duration": 6,
    "start_time": "2022-09-03T08:40:30.743Z"
   },
   {
    "duration": 77,
    "start_time": "2022-09-03T08:40:33.989Z"
   },
   {
    "duration": 6726,
    "start_time": "2022-09-03T08:40:35.007Z"
   },
   {
    "duration": 2278,
    "start_time": "2022-09-03T08:41:19.101Z"
   },
   {
    "duration": 2363,
    "start_time": "2022-09-03T08:41:21.381Z"
   },
   {
    "duration": 2360,
    "start_time": "2022-09-03T08:41:23.746Z"
   },
   {
    "duration": 38,
    "start_time": "2022-09-03T08:41:26.108Z"
   },
   {
    "duration": 16,
    "start_time": "2022-09-03T08:41:26.148Z"
   },
   {
    "duration": 5,
    "start_time": "2022-09-03T08:41:26.167Z"
   },
   {
    "duration": 27,
    "start_time": "2022-09-03T08:41:26.173Z"
   },
   {
    "duration": 2234,
    "start_time": "2022-09-03T08:41:26.202Z"
   },
   {
    "duration": 7,
    "start_time": "2022-09-03T08:41:28.437Z"
   },
   {
    "duration": 208,
    "start_time": "2022-09-03T08:41:28.447Z"
   },
   {
    "duration": 9,
    "start_time": "2022-09-03T08:41:28.657Z"
   },
   {
    "duration": 38,
    "start_time": "2022-09-03T08:41:28.668Z"
   },
   {
    "duration": 129,
    "start_time": "2022-09-03T08:41:28.708Z"
   },
   {
    "duration": 5,
    "start_time": "2022-09-03T08:41:28.838Z"
   },
   {
    "duration": 2791,
    "start_time": "2022-09-03T08:41:28.844Z"
   },
   {
    "duration": 5,
    "start_time": "2022-09-03T08:41:31.637Z"
   },
   {
    "duration": 78,
    "start_time": "2022-09-03T08:41:31.643Z"
   },
   {
    "duration": 7013,
    "start_time": "2022-09-03T08:41:31.723Z"
   },
   {
    "duration": 218487,
    "start_time": "2022-09-03T08:41:38.738Z"
   },
   {
    "duration": 3,
    "start_time": "2022-09-03T08:45:17.227Z"
   },
   {
    "duration": 8,
    "start_time": "2022-09-03T08:45:17.231Z"
   },
   {
    "duration": 5,
    "start_time": "2022-09-03T08:45:17.241Z"
   },
   {
    "duration": 13,
    "start_time": "2022-09-03T08:45:17.247Z"
   },
   {
    "duration": 1470265,
    "start_time": "2022-09-03T08:59:12.311Z"
   },
   {
    "duration": 167,
    "start_time": "2022-09-03T09:26:34.790Z"
   },
   {
    "duration": 2,
    "start_time": "2022-09-03T09:26:37.549Z"
   },
   {
    "duration": 11292,
    "start_time": "2022-09-03T09:26:38.394Z"
   },
   {
    "duration": 9909,
    "start_time": "2022-09-03T09:27:12.177Z"
   },
   {
    "duration": 3,
    "start_time": "2022-09-03T09:29:06.446Z"
   },
   {
    "duration": 67,
    "start_time": "2022-09-03T09:29:07.236Z"
   },
   {
    "duration": 3,
    "start_time": "2022-09-03T09:29:47.160Z"
   },
   {
    "duration": 75,
    "start_time": "2022-09-03T09:29:47.753Z"
   },
   {
    "duration": 5107,
    "start_time": "2022-09-03T09:29:54.220Z"
   },
   {
    "duration": 1184,
    "start_time": "2022-09-03T09:33:32.949Z"
   },
   {
    "duration": 1757,
    "start_time": "2022-09-03T09:36:22.550Z"
   },
   {
    "duration": 29,
    "start_time": "2022-09-03T09:36:25.883Z"
   },
   {
    "duration": 27,
    "start_time": "2022-09-03T09:36:31.520Z"
   },
   {
    "duration": 7,
    "start_time": "2022-09-03T13:33:05.791Z"
   },
   {
    "duration": 38,
    "start_time": "2022-09-03T13:33:07.923Z"
   },
   {
    "duration": 5,
    "start_time": "2022-09-03T13:33:22.469Z"
   },
   {
    "duration": 1894,
    "start_time": "2022-09-03T13:33:34.044Z"
   },
   {
    "duration": 5,
    "start_time": "2022-09-03T13:34:15.427Z"
   },
   {
    "duration": 3194,
    "start_time": "2022-09-03T13:34:19.169Z"
   },
   {
    "duration": 31,
    "start_time": "2022-09-03T13:34:23.285Z"
   },
   {
    "duration": 9,
    "start_time": "2022-09-03T13:34:24.129Z"
   },
   {
    "duration": 3,
    "start_time": "2022-09-03T13:34:25.689Z"
   },
   {
    "duration": 17,
    "start_time": "2022-09-03T13:34:30.668Z"
   },
   {
    "duration": 2051,
    "start_time": "2022-09-03T13:34:33.624Z"
   },
   {
    "duration": 1509,
    "start_time": "2022-09-03T13:35:16.644Z"
   },
   {
    "duration": 7,
    "start_time": "2022-09-03T13:35:20.413Z"
   },
   {
    "duration": 182,
    "start_time": "2022-09-03T13:35:22.695Z"
   },
   {
    "duration": 8,
    "start_time": "2022-09-03T13:35:25.624Z"
   },
   {
    "duration": 26,
    "start_time": "2022-09-03T13:35:26.334Z"
   },
   {
    "duration": 99,
    "start_time": "2022-09-03T13:35:27.382Z"
   },
   {
    "duration": 4,
    "start_time": "2022-09-03T13:35:31.567Z"
   },
   {
    "duration": 3,
    "start_time": "2022-09-03T13:35:39.404Z"
   },
   {
    "duration": 2554,
    "start_time": "2022-09-03T13:35:40.825Z"
   },
   {
    "duration": 334,
    "start_time": "2022-09-03T13:36:57.525Z"
   },
   {
    "duration": 423,
    "start_time": "2022-09-03T13:37:11.643Z"
   },
   {
    "duration": 10,
    "start_time": "2022-09-03T13:42:43.801Z"
   },
   {
    "duration": 5,
    "start_time": "2022-09-03T13:49:29.279Z"
   },
   {
    "duration": 5,
    "start_time": "2022-09-03T13:49:34.053Z"
   },
   {
    "duration": 37,
    "start_time": "2022-09-03T13:50:19.758Z"
   },
   {
    "duration": 3,
    "start_time": "2022-09-03T13:50:23.923Z"
   },
   {
    "duration": 66767,
    "start_time": "2022-09-03T13:50:25.932Z"
   },
   {
    "duration": 14,
    "start_time": "2022-09-03T13:51:39.543Z"
   },
   {
    "duration": 8,
    "start_time": "2022-09-03T13:51:48.160Z"
   },
   {
    "duration": 66411,
    "start_time": "2022-09-03T13:51:54.307Z"
   },
   {
    "duration": 7,
    "start_time": "2022-09-03T13:53:02.653Z"
   },
   {
    "duration": 6,
    "start_time": "2022-09-03T13:53:05.746Z"
   },
   {
    "duration": 11,
    "start_time": "2022-09-03T13:53:16.200Z"
   },
   {
    "duration": 64868,
    "start_time": "2022-09-03T13:53:21.617Z"
   },
   {
    "duration": 66689,
    "start_time": "2022-09-03T13:54:26.669Z"
   },
   {
    "duration": 3789,
    "start_time": "2022-09-03T13:56:56.266Z"
   },
   {
    "duration": 1635,
    "start_time": "2022-09-03T13:57:00.057Z"
   },
   {
    "duration": 736,
    "start_time": "2022-09-03T13:57:01.694Z"
   },
   {
    "duration": 32,
    "start_time": "2022-09-03T13:57:02.433Z"
   },
   {
    "duration": 11,
    "start_time": "2022-09-03T13:57:02.466Z"
   },
   {
    "duration": 4,
    "start_time": "2022-09-03T13:57:02.479Z"
   },
   {
    "duration": 23,
    "start_time": "2022-09-03T13:57:02.506Z"
   },
   {
    "duration": 2219,
    "start_time": "2022-09-03T13:57:02.531Z"
   },
   {
    "duration": 7,
    "start_time": "2022-09-03T13:57:04.752Z"
   },
   {
    "duration": 204,
    "start_time": "2022-09-03T13:57:04.761Z"
   },
   {
    "duration": 7,
    "start_time": "2022-09-03T13:57:04.967Z"
   },
   {
    "duration": 36,
    "start_time": "2022-09-03T13:57:04.975Z"
   },
   {
    "duration": 112,
    "start_time": "2022-09-03T13:57:05.013Z"
   },
   {
    "duration": 4,
    "start_time": "2022-09-03T13:57:05.127Z"
   },
   {
    "duration": 10,
    "start_time": "2022-09-03T13:57:05.133Z"
   },
   {
    "duration": 8,
    "start_time": "2022-09-03T13:57:05.144Z"
   },
   {
    "duration": 411,
    "start_time": "2022-09-03T13:57:05.153Z"
   },
   {
    "duration": 0,
    "start_time": "2022-09-03T13:57:05.566Z"
   },
   {
    "duration": 0,
    "start_time": "2022-09-03T13:57:05.568Z"
   },
   {
    "duration": 0,
    "start_time": "2022-09-03T13:57:05.568Z"
   },
   {
    "duration": 0,
    "start_time": "2022-09-03T13:57:05.569Z"
   },
   {
    "duration": 0,
    "start_time": "2022-09-03T13:57:05.570Z"
   },
   {
    "duration": 0,
    "start_time": "2022-09-03T13:57:05.571Z"
   },
   {
    "duration": 0,
    "start_time": "2022-09-03T13:57:05.572Z"
   },
   {
    "duration": 0,
    "start_time": "2022-09-03T13:57:05.573Z"
   },
   {
    "duration": 0,
    "start_time": "2022-09-03T13:57:05.574Z"
   },
   {
    "duration": 0,
    "start_time": "2022-09-03T13:57:05.575Z"
   },
   {
    "duration": 0,
    "start_time": "2022-09-03T13:57:05.576Z"
   },
   {
    "duration": 0,
    "start_time": "2022-09-03T13:57:05.577Z"
   },
   {
    "duration": 0,
    "start_time": "2022-09-03T13:57:05.578Z"
   },
   {
    "duration": 0,
    "start_time": "2022-09-03T13:57:05.579Z"
   },
   {
    "duration": 0,
    "start_time": "2022-09-03T13:57:05.580Z"
   },
   {
    "duration": 1721,
    "start_time": "2022-09-03T13:57:30.329Z"
   },
   {
    "duration": 61141,
    "start_time": "2022-09-03T13:57:35.233Z"
   },
   {
    "duration": 12,
    "start_time": "2022-09-03T13:58:43.005Z"
   },
   {
    "duration": 3,
    "start_time": "2022-09-03T13:58:55.070Z"
   },
   {
    "duration": 46,
    "start_time": "2022-09-03T13:58:57.561Z"
   },
   {
    "duration": 6054,
    "start_time": "2022-09-03T13:58:58.552Z"
   },
   {
    "duration": 194646,
    "start_time": "2022-09-03T13:59:06.477Z"
   },
   {
    "duration": 114,
    "start_time": "2022-09-03T14:02:21.125Z"
   },
   {
    "duration": 5,
    "start_time": "2022-09-03T14:04:10.530Z"
   },
   {
    "duration": 3,
    "start_time": "2022-09-03T14:04:17.306Z"
   },
   {
    "duration": 316,
    "start_time": "2022-09-03T14:04:18.233Z"
   },
   {
    "duration": 3,
    "start_time": "2022-09-03T14:04:40.158Z"
   },
   {
    "duration": 2640,
    "start_time": "2022-09-03T14:04:40.961Z"
   },
   {
    "duration": 2582,
    "start_time": "2022-09-03T14:04:51.485Z"
   },
   {
    "duration": 2654,
    "start_time": "2022-09-03T14:04:54.069Z"
   },
   {
    "duration": 689,
    "start_time": "2022-09-03T14:04:56.725Z"
   },
   {
    "duration": 28,
    "start_time": "2022-09-03T14:04:57.416Z"
   },
   {
    "duration": 9,
    "start_time": "2022-09-03T14:04:57.445Z"
   },
   {
    "duration": 4,
    "start_time": "2022-09-03T14:04:57.456Z"
   },
   {
    "duration": 19,
    "start_time": "2022-09-03T14:04:57.461Z"
   },
   {
    "duration": 2093,
    "start_time": "2022-09-03T14:04:57.482Z"
   },
   {
    "duration": 7,
    "start_time": "2022-09-03T14:04:59.576Z"
   },
   {
    "duration": 203,
    "start_time": "2022-09-03T14:04:59.585Z"
   },
   {
    "duration": 47,
    "start_time": "2022-09-03T14:04:59.789Z"
   },
   {
    "duration": 27,
    "start_time": "2022-09-03T14:04:59.837Z"
   },
   {
    "duration": 116,
    "start_time": "2022-09-03T14:04:59.865Z"
   },
   {
    "duration": 5,
    "start_time": "2022-09-03T14:04:59.982Z"
   },
   {
    "duration": 4,
    "start_time": "2022-09-03T14:04:59.988Z"
   },
   {
    "duration": 60,
    "start_time": "2022-09-03T14:04:59.994Z"
   },
   {
    "duration": 4,
    "start_time": "2022-09-03T14:05:00.055Z"
   },
   {
    "duration": 5082,
    "start_time": "2022-09-03T14:05:00.060Z"
   },
   {
    "duration": 0,
    "start_time": "2022-09-03T14:05:05.144Z"
   },
   {
    "duration": 0,
    "start_time": "2022-09-03T14:05:05.145Z"
   },
   {
    "duration": 0,
    "start_time": "2022-09-03T14:05:05.146Z"
   },
   {
    "duration": 0,
    "start_time": "2022-09-03T14:05:05.147Z"
   },
   {
    "duration": 0,
    "start_time": "2022-09-03T14:05:05.148Z"
   },
   {
    "duration": 0,
    "start_time": "2022-09-03T14:05:05.149Z"
   },
   {
    "duration": 0,
    "start_time": "2022-09-03T14:05:05.150Z"
   },
   {
    "duration": 0,
    "start_time": "2022-09-03T14:05:05.150Z"
   },
   {
    "duration": 0,
    "start_time": "2022-09-03T14:05:05.151Z"
   },
   {
    "duration": 0,
    "start_time": "2022-09-03T14:05:05.152Z"
   },
   {
    "duration": 0,
    "start_time": "2022-09-03T14:05:05.153Z"
   },
   {
    "duration": 0,
    "start_time": "2022-09-03T14:05:05.154Z"
   },
   {
    "duration": 0,
    "start_time": "2022-09-03T14:05:05.155Z"
   },
   {
    "duration": 4,
    "start_time": "2022-09-03T14:07:04.625Z"
   },
   {
    "duration": 345,
    "start_time": "2022-09-03T14:07:05.651Z"
   },
   {
    "duration": 437,
    "start_time": "2022-09-03T14:07:21.026Z"
   },
   {
    "duration": 3,
    "start_time": "2022-09-03T14:07:24.501Z"
   },
   {
    "duration": 1630,
    "start_time": "2022-09-03T14:07:25.367Z"
   },
   {
    "duration": 3,
    "start_time": "2022-09-03T14:07:41.640Z"
   },
   {
    "duration": 381,
    "start_time": "2022-09-03T14:07:42.331Z"
   },
   {
    "duration": 3,
    "start_time": "2022-09-03T14:09:56.930Z"
   },
   {
    "duration": 13,
    "start_time": "2022-09-03T14:10:01.478Z"
   },
   {
    "duration": 13,
    "start_time": "2022-09-03T14:10:42.236Z"
   },
   {
    "duration": 2,
    "start_time": "2022-09-03T14:11:13.376Z"
   },
   {
    "duration": 3,
    "start_time": "2022-09-03T14:11:17.786Z"
   },
   {
    "duration": 321,
    "start_time": "2022-09-03T14:11:18.433Z"
   },
   {
    "duration": 1962,
    "start_time": "2022-09-03T14:11:30.895Z"
   },
   {
    "duration": 1687,
    "start_time": "2022-09-03T14:11:32.859Z"
   },
   {
    "duration": 701,
    "start_time": "2022-09-03T14:11:34.548Z"
   },
   {
    "duration": 31,
    "start_time": "2022-09-03T14:11:35.251Z"
   },
   {
    "duration": 23,
    "start_time": "2022-09-03T14:11:35.284Z"
   },
   {
    "duration": 4,
    "start_time": "2022-09-03T14:11:35.308Z"
   },
   {
    "duration": 22,
    "start_time": "2022-09-03T14:11:35.313Z"
   },
   {
    "duration": 2142,
    "start_time": "2022-09-03T14:11:35.336Z"
   },
   {
    "duration": 7,
    "start_time": "2022-09-03T14:11:37.480Z"
   },
   {
    "duration": 234,
    "start_time": "2022-09-03T14:11:37.489Z"
   },
   {
    "duration": 7,
    "start_time": "2022-09-03T14:11:37.725Z"
   },
   {
    "duration": 52,
    "start_time": "2022-09-03T14:11:37.734Z"
   },
   {
    "duration": 141,
    "start_time": "2022-09-03T14:11:37.788Z"
   },
   {
    "duration": 4,
    "start_time": "2022-09-03T14:11:37.932Z"
   },
   {
    "duration": 25,
    "start_time": "2022-09-03T14:11:37.938Z"
   },
   {
    "duration": 83,
    "start_time": "2022-09-03T14:11:37.965Z"
   },
   {
    "duration": 4,
    "start_time": "2022-09-03T14:11:38.050Z"
   },
   {
    "duration": 1889,
    "start_time": "2022-09-03T14:11:38.056Z"
   },
   {
    "duration": 0,
    "start_time": "2022-09-03T14:11:39.947Z"
   },
   {
    "duration": 0,
    "start_time": "2022-09-03T14:11:39.948Z"
   },
   {
    "duration": 0,
    "start_time": "2022-09-03T14:11:39.949Z"
   },
   {
    "duration": 0,
    "start_time": "2022-09-03T14:11:39.950Z"
   },
   {
    "duration": 0,
    "start_time": "2022-09-03T14:11:39.951Z"
   },
   {
    "duration": 0,
    "start_time": "2022-09-03T14:11:39.952Z"
   },
   {
    "duration": 0,
    "start_time": "2022-09-03T14:11:39.953Z"
   },
   {
    "duration": 0,
    "start_time": "2022-09-03T14:11:39.955Z"
   },
   {
    "duration": 0,
    "start_time": "2022-09-03T14:11:39.955Z"
   },
   {
    "duration": 0,
    "start_time": "2022-09-03T14:11:39.956Z"
   },
   {
    "duration": 0,
    "start_time": "2022-09-03T14:11:39.957Z"
   },
   {
    "duration": 0,
    "start_time": "2022-09-03T14:11:39.958Z"
   },
   {
    "duration": 0,
    "start_time": "2022-09-03T14:11:39.960Z"
   },
   {
    "duration": 0,
    "start_time": "2022-09-03T14:11:39.961Z"
   },
   {
    "duration": 4,
    "start_time": "2022-09-03T14:13:17.814Z"
   },
   {
    "duration": 9,
    "start_time": "2022-09-03T14:13:31.776Z"
   },
   {
    "duration": 25,
    "start_time": "2022-09-03T14:14:31.547Z"
   },
   {
    "duration": 2,
    "start_time": "2022-09-03T14:15:34.121Z"
   },
   {
    "duration": 3,
    "start_time": "2022-09-03T14:15:34.997Z"
   },
   {
    "duration": 404,
    "start_time": "2022-09-03T14:15:37.513Z"
   },
   {
    "duration": 3,
    "start_time": "2022-09-03T14:17:22.718Z"
   },
   {
    "duration": 405,
    "start_time": "2022-09-03T14:17:23.809Z"
   },
   {
    "duration": 2,
    "start_time": "2022-09-03T14:18:02.426Z"
   },
   {
    "duration": 187,
    "start_time": "2022-09-03T14:19:03.245Z"
   },
   {
    "duration": 2186,
    "start_time": "2022-09-03T14:19:46.487Z"
   },
   {
    "duration": 1794,
    "start_time": "2022-09-03T14:19:48.675Z"
   },
   {
    "duration": 683,
    "start_time": "2022-09-03T14:19:50.471Z"
   },
   {
    "duration": 26,
    "start_time": "2022-09-03T14:19:51.156Z"
   },
   {
    "duration": 21,
    "start_time": "2022-09-03T14:19:51.184Z"
   },
   {
    "duration": 4,
    "start_time": "2022-09-03T14:19:51.207Z"
   },
   {
    "duration": 19,
    "start_time": "2022-09-03T14:19:51.212Z"
   },
   {
    "duration": 2068,
    "start_time": "2022-09-03T14:19:51.233Z"
   },
   {
    "duration": 7,
    "start_time": "2022-09-03T14:19:53.303Z"
   },
   {
    "duration": 194,
    "start_time": "2022-09-03T14:19:53.313Z"
   },
   {
    "duration": 8,
    "start_time": "2022-09-03T14:19:53.508Z"
   },
   {
    "duration": 25,
    "start_time": "2022-09-03T14:19:53.518Z"
   },
   {
    "duration": 118,
    "start_time": "2022-09-03T14:19:53.544Z"
   },
   {
    "duration": 4,
    "start_time": "2022-09-03T14:19:53.664Z"
   },
   {
    "duration": 126,
    "start_time": "2022-09-03T14:19:53.669Z"
   },
   {
    "duration": 0,
    "start_time": "2022-09-03T14:19:53.797Z"
   },
   {
    "duration": 0,
    "start_time": "2022-09-03T14:19:53.798Z"
   },
   {
    "duration": 0,
    "start_time": "2022-09-03T14:19:53.799Z"
   },
   {
    "duration": 0,
    "start_time": "2022-09-03T14:19:53.805Z"
   },
   {
    "duration": 0,
    "start_time": "2022-09-03T14:19:53.807Z"
   },
   {
    "duration": 0,
    "start_time": "2022-09-03T14:19:53.807Z"
   },
   {
    "duration": 0,
    "start_time": "2022-09-03T14:19:53.808Z"
   },
   {
    "duration": 0,
    "start_time": "2022-09-03T14:19:53.809Z"
   },
   {
    "duration": 0,
    "start_time": "2022-09-03T14:19:53.810Z"
   },
   {
    "duration": 0,
    "start_time": "2022-09-03T14:19:53.811Z"
   },
   {
    "duration": 0,
    "start_time": "2022-09-03T14:19:53.812Z"
   },
   {
    "duration": 0,
    "start_time": "2022-09-03T14:19:53.813Z"
   },
   {
    "duration": 0,
    "start_time": "2022-09-03T14:19:53.814Z"
   },
   {
    "duration": 0,
    "start_time": "2022-09-03T14:19:53.815Z"
   },
   {
    "duration": 0,
    "start_time": "2022-09-03T14:19:53.816Z"
   },
   {
    "duration": 0,
    "start_time": "2022-09-03T14:19:53.817Z"
   },
   {
    "duration": 638,
    "start_time": "2022-09-03T14:20:09.334Z"
   },
   {
    "duration": 2203,
    "start_time": "2022-09-03T14:20:25.213Z"
   },
   {
    "duration": 1746,
    "start_time": "2022-09-03T14:20:27.418Z"
   },
   {
    "duration": 712,
    "start_time": "2022-09-03T14:20:29.165Z"
   },
   {
    "duration": 34,
    "start_time": "2022-09-03T14:20:29.879Z"
   },
   {
    "duration": 9,
    "start_time": "2022-09-03T14:20:29.915Z"
   },
   {
    "duration": 4,
    "start_time": "2022-09-03T14:20:29.925Z"
   },
   {
    "duration": 19,
    "start_time": "2022-09-03T14:20:29.930Z"
   },
   {
    "duration": 2093,
    "start_time": "2022-09-03T14:20:29.951Z"
   },
   {
    "duration": 8,
    "start_time": "2022-09-03T14:20:32.045Z"
   },
   {
    "duration": 207,
    "start_time": "2022-09-03T14:20:32.055Z"
   },
   {
    "duration": 8,
    "start_time": "2022-09-03T14:20:32.263Z"
   },
   {
    "duration": 37,
    "start_time": "2022-09-03T14:20:32.272Z"
   },
   {
    "duration": 114,
    "start_time": "2022-09-03T14:20:32.311Z"
   },
   {
    "duration": 4,
    "start_time": "2022-09-03T14:20:32.426Z"
   },
   {
    "duration": 645,
    "start_time": "2022-09-03T14:20:32.431Z"
   },
   {
    "duration": 2,
    "start_time": "2022-09-03T14:20:33.078Z"
   },
   {
    "duration": 13,
    "start_time": "2022-09-03T14:20:33.081Z"
   },
   {
    "duration": 20,
    "start_time": "2022-09-03T14:20:33.096Z"
   },
   {
    "duration": 10,
    "start_time": "2022-09-03T14:20:33.117Z"
   },
   {
    "duration": 68,
    "start_time": "2022-09-03T14:20:33.128Z"
   },
   {
    "duration": 6160,
    "start_time": "2022-09-03T14:20:33.198Z"
   },
   {
    "duration": 86,
    "start_time": "2022-09-03T14:23:05.629Z"
   },
   {
    "duration": 2,
    "start_time": "2022-09-03T14:23:05.717Z"
   },
   {
    "duration": 181,
    "start_time": "2022-09-03T14:23:05.720Z"
   },
   {
    "duration": 4990,
    "start_time": "2022-09-03T14:23:05.902Z"
   },
   {
    "duration": 3,
    "start_time": "2022-09-03T14:23:10.894Z"
   },
   {
    "duration": 27,
    "start_time": "2022-09-03T14:23:10.900Z"
   },
   {
    "duration": 878,
    "start_time": "2022-09-03T14:23:10.929Z"
   },
   {
    "duration": 1766,
    "start_time": "2022-09-03T14:23:11.809Z"
   },
   {
    "duration": 32,
    "start_time": "2022-09-03T14:23:13.577Z"
   },
   {
    "duration": 93,
    "start_time": "2022-09-03T14:23:13.610Z"
   },
   {
    "duration": 63,
    "start_time": "2022-09-03T14:26:19.797Z"
   },
   {
    "duration": 51,
    "start_time": "2022-09-03T14:26:37.902Z"
   },
   {
    "duration": 42,
    "start_time": "2022-09-03T14:26:45.517Z"
   },
   {
    "duration": 340,
    "start_time": "2022-09-03T14:27:13.227Z"
   },
   {
    "duration": 37,
    "start_time": "2022-09-03T14:29:19.424Z"
   },
   {
    "duration": 380,
    "start_time": "2022-09-03T14:29:26.352Z"
   },
   {
    "duration": 352,
    "start_time": "2022-09-03T14:29:48.938Z"
   },
   {
    "duration": 87,
    "start_time": "2022-09-03T14:30:12.898Z"
   },
   {
    "duration": 96,
    "start_time": "2022-09-03T14:30:38.085Z"
   },
   {
    "duration": 237,
    "start_time": "2022-09-03T14:30:50.496Z"
   },
   {
    "duration": 242,
    "start_time": "2022-09-03T14:30:56.387Z"
   },
   {
    "duration": 2011,
    "start_time": "2022-09-03T14:33:00.358Z"
   },
   {
    "duration": 1985,
    "start_time": "2022-09-03T14:33:02.371Z"
   },
   {
    "duration": 681,
    "start_time": "2022-09-03T14:33:04.357Z"
   },
   {
    "duration": 26,
    "start_time": "2022-09-03T14:33:05.040Z"
   },
   {
    "duration": 9,
    "start_time": "2022-09-03T14:33:05.067Z"
   },
   {
    "duration": 3,
    "start_time": "2022-09-03T14:33:05.077Z"
   },
   {
    "duration": 31,
    "start_time": "2022-09-03T14:33:05.082Z"
   },
   {
    "duration": 2078,
    "start_time": "2022-09-03T14:33:05.115Z"
   },
   {
    "duration": 6,
    "start_time": "2022-09-03T14:33:07.194Z"
   },
   {
    "duration": 187,
    "start_time": "2022-09-03T14:33:07.203Z"
   },
   {
    "duration": 14,
    "start_time": "2022-09-03T14:33:07.392Z"
   },
   {
    "duration": 25,
    "start_time": "2022-09-03T14:33:07.407Z"
   },
   {
    "duration": 106,
    "start_time": "2022-09-03T14:33:07.434Z"
   },
   {
    "duration": 3,
    "start_time": "2022-09-03T14:33:07.542Z"
   },
   {
    "duration": 636,
    "start_time": "2022-09-03T14:33:07.547Z"
   },
   {
    "duration": 2,
    "start_time": "2022-09-03T14:33:08.185Z"
   },
   {
    "duration": 5,
    "start_time": "2022-09-03T14:33:08.189Z"
   },
   {
    "duration": 13,
    "start_time": "2022-09-03T14:33:08.195Z"
   },
   {
    "duration": 9,
    "start_time": "2022-09-03T14:33:08.210Z"
   },
   {
    "duration": 66,
    "start_time": "2022-09-03T14:33:08.221Z"
   },
   {
    "duration": 6163,
    "start_time": "2022-09-03T14:33:08.289Z"
   },
   {
    "duration": 190671,
    "start_time": "2022-09-03T14:33:14.454Z"
   },
   {
    "duration": 246,
    "start_time": "2022-09-03T14:36:25.126Z"
   },
   {
    "duration": 214,
    "start_time": "2022-09-03T14:36:25.373Z"
   },
   {
    "duration": 2,
    "start_time": "2022-09-03T14:36:25.588Z"
   },
   {
    "duration": 10220,
    "start_time": "2022-09-03T14:36:25.591Z"
   },
   {
    "duration": 4502,
    "start_time": "2022-09-03T14:36:35.813Z"
   },
   {
    "duration": 2,
    "start_time": "2022-09-03T14:36:40.318Z"
   },
   {
    "duration": 7,
    "start_time": "2022-09-03T14:36:40.322Z"
   },
   {
    "duration": 765,
    "start_time": "2022-09-03T14:36:40.331Z"
   },
   {
    "duration": 1606,
    "start_time": "2022-09-03T14:36:41.097Z"
   },
   {
    "duration": 23,
    "start_time": "2022-09-03T14:36:42.706Z"
   },
   {
    "duration": 120,
    "start_time": "2022-09-03T14:37:41.165Z"
   },
   {
    "duration": 115,
    "start_time": "2022-09-03T14:39:29.690Z"
   },
   {
    "duration": 176,
    "start_time": "2022-09-03T14:39:34.272Z"
   },
   {
    "duration": 81,
    "start_time": "2022-09-03T14:39:49.224Z"
   },
   {
    "duration": 96,
    "start_time": "2022-09-03T14:39:57.697Z"
   },
   {
    "duration": 158,
    "start_time": "2022-09-03T14:40:09.005Z"
   },
   {
    "duration": 299,
    "start_time": "2022-09-03T14:40:41.534Z"
   },
   {
    "duration": 108,
    "start_time": "2022-09-03T14:40:47.605Z"
   },
   {
    "duration": 1571,
    "start_time": "2022-09-03T19:17:33.201Z"
   },
   {
    "duration": 1225,
    "start_time": "2022-09-03T19:17:42.557Z"
   },
   {
    "duration": 4,
    "start_time": "2022-09-03T19:17:52.679Z"
   },
   {
    "duration": 59,
    "start_time": "2022-09-03T19:17:54.004Z"
   },
   {
    "duration": 3591,
    "start_time": "2022-09-03T19:17:58.790Z"
   },
   {
    "duration": 372,
    "start_time": "2022-09-03T19:18:06.500Z"
   },
   {
    "duration": 5647,
    "start_time": "2022-09-03T19:23:11.267Z"
   },
   {
    "duration": 2168,
    "start_time": "2022-09-03T19:23:16.919Z"
   },
   {
    "duration": 969,
    "start_time": "2022-09-03T19:23:19.089Z"
   },
   {
    "duration": 33,
    "start_time": "2022-09-03T19:23:20.061Z"
   },
   {
    "duration": 18,
    "start_time": "2022-09-03T19:23:20.096Z"
   },
   {
    "duration": 40,
    "start_time": "2022-09-03T19:23:20.116Z"
   },
   {
    "duration": 21,
    "start_time": "2022-09-03T19:23:20.158Z"
   },
   {
    "duration": 3151,
    "start_time": "2022-09-03T19:23:20.181Z"
   },
   {
    "duration": 11,
    "start_time": "2022-09-03T19:23:23.344Z"
   },
   {
    "duration": 255,
    "start_time": "2022-09-03T19:23:23.358Z"
   },
   {
    "duration": 10,
    "start_time": "2022-09-03T19:23:23.614Z"
   },
   {
    "duration": 65,
    "start_time": "2022-09-03T19:23:23.626Z"
   },
   {
    "duration": 182,
    "start_time": "2022-09-03T19:23:23.693Z"
   },
   {
    "duration": 4,
    "start_time": "2022-09-03T19:23:23.877Z"
   },
   {
    "duration": 1125,
    "start_time": "2022-09-03T19:23:23.883Z"
   },
   {
    "duration": 12,
    "start_time": "2022-09-03T19:23:25.014Z"
   },
   {
    "duration": 71,
    "start_time": "2022-09-03T19:23:25.030Z"
   },
   {
    "duration": 502,
    "start_time": "2022-09-03T19:23:25.104Z"
   },
   {
    "duration": 0,
    "start_time": "2022-09-03T19:23:25.610Z"
   },
   {
    "duration": 1,
    "start_time": "2022-09-03T19:23:25.611Z"
   },
   {
    "duration": 0,
    "start_time": "2022-09-03T19:23:25.613Z"
   },
   {
    "duration": 0,
    "start_time": "2022-09-03T19:23:25.614Z"
   },
   {
    "duration": 0,
    "start_time": "2022-09-03T19:23:25.615Z"
   },
   {
    "duration": 0,
    "start_time": "2022-09-03T19:23:25.616Z"
   },
   {
    "duration": 0,
    "start_time": "2022-09-03T19:23:25.617Z"
   },
   {
    "duration": 0,
    "start_time": "2022-09-03T19:23:25.618Z"
   },
   {
    "duration": 0,
    "start_time": "2022-09-03T19:23:25.619Z"
   },
   {
    "duration": 0,
    "start_time": "2022-09-03T19:23:25.621Z"
   },
   {
    "duration": 0,
    "start_time": "2022-09-03T19:23:25.622Z"
   },
   {
    "duration": 0,
    "start_time": "2022-09-03T19:23:25.624Z"
   },
   {
    "duration": 0,
    "start_time": "2022-09-03T19:23:25.626Z"
   },
   {
    "duration": 0,
    "start_time": "2022-09-03T19:23:25.627Z"
   },
   {
    "duration": 0,
    "start_time": "2022-09-03T19:23:25.629Z"
   },
   {
    "duration": 4793,
    "start_time": "2022-09-03T20:07:32.360Z"
   },
   {
    "duration": 2179,
    "start_time": "2022-09-03T20:07:37.156Z"
   },
   {
    "duration": 2112,
    "start_time": "2022-09-03T20:07:39.338Z"
   },
   {
    "duration": 28,
    "start_time": "2022-09-03T20:07:41.452Z"
   },
   {
    "duration": 9,
    "start_time": "2022-09-03T20:07:41.482Z"
   },
   {
    "duration": 3,
    "start_time": "2022-09-03T20:07:41.492Z"
   },
   {
    "duration": 20,
    "start_time": "2022-09-03T20:07:41.496Z"
   },
   {
    "duration": 2222,
    "start_time": "2022-09-03T20:07:41.517Z"
   },
   {
    "duration": 6,
    "start_time": "2022-09-03T20:07:43.741Z"
   },
   {
    "duration": 208,
    "start_time": "2022-09-03T20:07:43.749Z"
   },
   {
    "duration": 7,
    "start_time": "2022-09-03T20:07:43.959Z"
   },
   {
    "duration": 43,
    "start_time": "2022-09-03T20:07:43.967Z"
   },
   {
    "duration": 108,
    "start_time": "2022-09-03T20:07:44.012Z"
   },
   {
    "duration": 5,
    "start_time": "2022-09-03T20:07:44.121Z"
   },
   {
    "duration": 715,
    "start_time": "2022-09-03T20:07:44.127Z"
   },
   {
    "duration": 2,
    "start_time": "2022-09-03T20:07:47.758Z"
   },
   {
    "duration": 258,
    "start_time": "2022-09-03T20:07:49.017Z"
   },
   {
    "duration": 23,
    "start_time": "2022-09-03T20:07:49.448Z"
   },
   {
    "duration": 462,
    "start_time": "2022-09-03T20:07:52.967Z"
   },
   {
    "duration": 1159,
    "start_time": "2022-09-04T07:02:56.101Z"
   },
   {
    "duration": 4220,
    "start_time": "2022-09-04T07:03:05.608Z"
   },
   {
    "duration": 1873,
    "start_time": "2022-09-04T07:03:09.830Z"
   },
   {
    "duration": 2431,
    "start_time": "2022-09-04T07:03:11.705Z"
   },
   {
    "duration": 29,
    "start_time": "2022-09-04T07:03:14.137Z"
   },
   {
    "duration": 9,
    "start_time": "2022-09-04T07:03:14.168Z"
   },
   {
    "duration": 11,
    "start_time": "2022-09-04T07:03:14.178Z"
   },
   {
    "duration": 21,
    "start_time": "2022-09-04T07:03:14.201Z"
   },
   {
    "duration": 2421,
    "start_time": "2022-09-04T07:03:14.224Z"
   },
   {
    "duration": 6,
    "start_time": "2022-09-04T07:03:16.647Z"
   },
   {
    "duration": 200,
    "start_time": "2022-09-04T07:03:16.655Z"
   },
   {
    "duration": 7,
    "start_time": "2022-09-04T07:03:16.857Z"
   },
   {
    "duration": 42,
    "start_time": "2022-09-04T07:03:16.865Z"
   },
   {
    "duration": 117,
    "start_time": "2022-09-04T07:03:16.909Z"
   },
   {
    "duration": 4,
    "start_time": "2022-09-04T07:03:17.029Z"
   },
   {
    "duration": 648,
    "start_time": "2022-09-04T07:03:17.035Z"
   },
   {
    "duration": 6,
    "start_time": "2022-09-04T07:03:17.689Z"
   },
   {
    "duration": 652,
    "start_time": "2022-09-04T07:03:17.698Z"
   },
   {
    "duration": 22,
    "start_time": "2022-09-04T07:03:18.354Z"
   },
   {
    "duration": 373,
    "start_time": "2022-09-04T07:03:18.378Z"
   },
   {
    "duration": 0,
    "start_time": "2022-09-04T07:03:18.752Z"
   },
   {
    "duration": 0,
    "start_time": "2022-09-04T07:03:18.754Z"
   },
   {
    "duration": 0,
    "start_time": "2022-09-04T07:03:18.755Z"
   },
   {
    "duration": 0,
    "start_time": "2022-09-04T07:03:18.756Z"
   },
   {
    "duration": 0,
    "start_time": "2022-09-04T07:03:18.757Z"
   },
   {
    "duration": 0,
    "start_time": "2022-09-04T07:03:18.758Z"
   },
   {
    "duration": 0,
    "start_time": "2022-09-04T07:03:18.759Z"
   },
   {
    "duration": 0,
    "start_time": "2022-09-04T07:03:18.761Z"
   },
   {
    "duration": 0,
    "start_time": "2022-09-04T07:03:18.761Z"
   },
   {
    "duration": 0,
    "start_time": "2022-09-04T07:03:18.763Z"
   },
   {
    "duration": 0,
    "start_time": "2022-09-04T07:03:18.764Z"
   },
   {
    "duration": 0,
    "start_time": "2022-09-04T07:03:18.765Z"
   },
   {
    "duration": 0,
    "start_time": "2022-09-04T07:03:18.766Z"
   },
   {
    "duration": 3664,
    "start_time": "2022-09-04T07:10:27.955Z"
   },
   {
    "duration": 7,
    "start_time": "2022-09-04T07:10:36.201Z"
   },
   {
    "duration": 666,
    "start_time": "2022-09-04T07:10:44.031Z"
   },
   {
    "duration": 3745,
    "start_time": "2022-09-04T09:29:55.964Z"
   },
   {
    "duration": 1913,
    "start_time": "2022-09-04T09:29:59.712Z"
   },
   {
    "duration": 2439,
    "start_time": "2022-09-04T09:30:01.627Z"
   },
   {
    "duration": 34,
    "start_time": "2022-09-04T09:30:04.068Z"
   },
   {
    "duration": 21,
    "start_time": "2022-09-04T09:30:04.103Z"
   },
   {
    "duration": 10,
    "start_time": "2022-09-04T09:30:04.125Z"
   },
   {
    "duration": 18,
    "start_time": "2022-09-04T09:30:04.136Z"
   },
   {
    "duration": 3,
    "start_time": "2022-09-04T09:30:04.156Z"
   },
   {
    "duration": 8,
    "start_time": "2022-09-04T09:30:04.160Z"
   },
   {
    "duration": 246,
    "start_time": "2022-09-04T09:30:04.170Z"
   },
   {
    "duration": 9,
    "start_time": "2022-09-04T09:30:04.418Z"
   },
   {
    "duration": 41,
    "start_time": "2022-09-04T09:30:04.429Z"
   },
   {
    "duration": 140,
    "start_time": "2022-09-04T09:30:04.472Z"
   },
   {
    "duration": 4,
    "start_time": "2022-09-04T09:30:04.614Z"
   },
   {
    "duration": 36,
    "start_time": "2022-09-04T09:30:04.619Z"
   },
   {
    "duration": 14,
    "start_time": "2022-09-04T09:30:04.657Z"
   },
   {
    "duration": 2422,
    "start_time": "2022-09-04T09:30:04.673Z"
   },
   {
    "duration": 9,
    "start_time": "2022-09-04T09:30:07.096Z"
   },
   {
    "duration": 494,
    "start_time": "2022-09-04T09:30:07.107Z"
   },
   {
    "duration": 2686,
    "start_time": "2022-09-04T09:47:23.500Z"
   },
   {
    "duration": 1675,
    "start_time": "2022-09-04T09:47:26.187Z"
   },
   {
    "duration": 747,
    "start_time": "2022-09-04T09:47:27.864Z"
   },
   {
    "duration": 30,
    "start_time": "2022-09-04T09:47:28.613Z"
   },
   {
    "duration": 10,
    "start_time": "2022-09-04T09:47:28.645Z"
   },
   {
    "duration": 3,
    "start_time": "2022-09-04T09:47:28.657Z"
   },
   {
    "duration": 44,
    "start_time": "2022-09-04T09:47:28.661Z"
   },
   {
    "duration": 7,
    "start_time": "2022-09-04T09:47:28.706Z"
   },
   {
    "duration": 4,
    "start_time": "2022-09-04T09:47:28.715Z"
   },
   {
    "duration": 221,
    "start_time": "2022-09-04T09:47:28.721Z"
   },
   {
    "duration": 7,
    "start_time": "2022-09-04T09:47:28.944Z"
   },
   {
    "duration": 40,
    "start_time": "2022-09-04T09:47:28.953Z"
   },
   {
    "duration": 117,
    "start_time": "2022-09-04T09:47:28.994Z"
   },
   {
    "duration": 4,
    "start_time": "2022-09-04T09:47:29.115Z"
   },
   {
    "duration": 14,
    "start_time": "2022-09-04T09:47:29.121Z"
   },
   {
    "duration": 5,
    "start_time": "2022-09-04T09:47:29.137Z"
   },
   {
    "duration": 2376,
    "start_time": "2022-09-04T09:47:29.143Z"
   },
   {
    "duration": 480,
    "start_time": "2022-09-04T09:47:31.521Z"
   },
   {
    "duration": 4,
    "start_time": "2022-09-04T09:47:32.003Z"
   },
   {
    "duration": 2188,
    "start_time": "2022-09-04T09:53:32.583Z"
   },
   {
    "duration": 1754,
    "start_time": "2022-09-04T09:53:34.773Z"
   },
   {
    "duration": 748,
    "start_time": "2022-09-04T09:53:36.528Z"
   },
   {
    "duration": 30,
    "start_time": "2022-09-04T09:53:37.278Z"
   },
   {
    "duration": 10,
    "start_time": "2022-09-04T09:53:37.309Z"
   },
   {
    "duration": 6,
    "start_time": "2022-09-04T09:53:37.320Z"
   },
   {
    "duration": 18,
    "start_time": "2022-09-04T09:53:37.327Z"
   },
   {
    "duration": 2,
    "start_time": "2022-09-04T09:53:37.346Z"
   },
   {
    "duration": 4,
    "start_time": "2022-09-04T09:53:37.350Z"
   },
   {
    "duration": 252,
    "start_time": "2022-09-04T09:53:37.356Z"
   },
   {
    "duration": 7,
    "start_time": "2022-09-04T09:53:37.610Z"
   },
   {
    "duration": 33,
    "start_time": "2022-09-04T09:53:37.619Z"
   },
   {
    "duration": 125,
    "start_time": "2022-09-04T09:53:37.653Z"
   },
   {
    "duration": 15,
    "start_time": "2022-09-04T09:53:37.779Z"
   },
   {
    "duration": 9,
    "start_time": "2022-09-04T09:53:37.796Z"
   },
   {
    "duration": 7,
    "start_time": "2022-09-04T09:53:37.806Z"
   },
   {
    "duration": 2448,
    "start_time": "2022-09-04T09:53:37.815Z"
   },
   {
    "duration": 503,
    "start_time": "2022-09-04T09:53:40.265Z"
   },
   {
    "duration": 3,
    "start_time": "2022-09-04T09:53:40.770Z"
   },
   {
    "duration": 2040,
    "start_time": "2022-09-04T09:54:29.300Z"
   },
   {
    "duration": 1802,
    "start_time": "2022-09-04T09:54:31.342Z"
   },
   {
    "duration": 707,
    "start_time": "2022-09-04T09:54:33.146Z"
   },
   {
    "duration": 21,
    "start_time": "2022-09-04T09:54:33.855Z"
   },
   {
    "duration": 16,
    "start_time": "2022-09-04T09:54:33.886Z"
   },
   {
    "duration": 7,
    "start_time": "2022-09-04T09:54:33.903Z"
   },
   {
    "duration": 20,
    "start_time": "2022-09-04T09:54:33.911Z"
   },
   {
    "duration": 2,
    "start_time": "2022-09-04T09:54:33.933Z"
   },
   {
    "duration": 7,
    "start_time": "2022-09-04T09:54:33.936Z"
   },
   {
    "duration": 235,
    "start_time": "2022-09-04T09:54:33.944Z"
   },
   {
    "duration": 16,
    "start_time": "2022-09-04T09:54:34.180Z"
   },
   {
    "duration": 32,
    "start_time": "2022-09-04T09:54:34.199Z"
   },
   {
    "duration": 117,
    "start_time": "2022-09-04T09:54:34.232Z"
   },
   {
    "duration": 4,
    "start_time": "2022-09-04T09:54:34.352Z"
   },
   {
    "duration": 4,
    "start_time": "2022-09-04T09:54:34.357Z"
   },
   {
    "duration": 4,
    "start_time": "2022-09-04T09:54:34.363Z"
   },
   {
    "duration": 2532,
    "start_time": "2022-09-04T09:54:34.368Z"
   },
   {
    "duration": 2,
    "start_time": "2022-09-04T09:54:36.905Z"
   },
   {
    "duration": 7,
    "start_time": "2022-09-04T09:54:36.909Z"
   },
   {
    "duration": 5,
    "start_time": "2022-09-04T09:54:36.917Z"
   },
   {
    "duration": 5,
    "start_time": "2022-09-04T09:54:36.923Z"
   },
   {
    "duration": 6,
    "start_time": "2022-09-04T09:54:36.929Z"
   },
   {
    "duration": 7,
    "start_time": "2022-09-04T09:54:36.936Z"
   },
   {
    "duration": 18,
    "start_time": "2022-09-04T09:54:36.944Z"
   },
   {
    "duration": 0,
    "start_time": "2022-09-04T09:54:36.964Z"
   },
   {
    "duration": 0,
    "start_time": "2022-09-04T09:54:36.966Z"
   },
   {
    "duration": 0,
    "start_time": "2022-09-04T09:54:36.967Z"
   },
   {
    "duration": 0,
    "start_time": "2022-09-04T09:54:36.969Z"
   },
   {
    "duration": 0,
    "start_time": "2022-09-04T09:54:36.969Z"
   },
   {
    "duration": 0,
    "start_time": "2022-09-04T09:54:36.971Z"
   },
   {
    "duration": 0,
    "start_time": "2022-09-04T09:54:36.971Z"
   },
   {
    "duration": 0,
    "start_time": "2022-09-04T09:54:36.992Z"
   },
   {
    "duration": 0,
    "start_time": "2022-09-04T09:54:36.994Z"
   },
   {
    "duration": 0,
    "start_time": "2022-09-04T09:54:36.995Z"
   },
   {
    "duration": 0,
    "start_time": "2022-09-04T09:54:36.998Z"
   },
   {
    "duration": 0,
    "start_time": "2022-09-04T09:54:36.999Z"
   },
   {
    "duration": 0,
    "start_time": "2022-09-04T09:54:37.000Z"
   },
   {
    "duration": 0,
    "start_time": "2022-09-04T09:54:37.001Z"
   },
   {
    "duration": 5,
    "start_time": "2022-09-04T09:55:21.754Z"
   },
   {
    "duration": 3,
    "start_time": "2022-09-04T09:55:36.814Z"
   },
   {
    "duration": 5,
    "start_time": "2022-09-04T09:55:39.906Z"
   },
   {
    "duration": 326,
    "start_time": "2022-09-04T09:55:55.441Z"
   },
   {
    "duration": 2,
    "start_time": "2022-09-04T09:56:30.607Z"
   },
   {
    "duration": 57,
    "start_time": "2022-09-04T09:56:31.644Z"
   },
   {
    "duration": 1744,
    "start_time": "2022-09-04T09:56:46.685Z"
   },
   {
    "duration": 118405,
    "start_time": "2022-09-04T09:56:53.301Z"
   },
   {
    "duration": 97,
    "start_time": "2022-09-04T10:00:04.902Z"
   },
   {
    "duration": 25,
    "start_time": "2022-09-04T10:01:48.540Z"
   },
   {
    "duration": 371,
    "start_time": "2022-09-04T10:02:09.569Z"
   },
   {
    "duration": 172,
    "start_time": "2022-09-04T10:02:12.735Z"
   },
   {
    "duration": 30,
    "start_time": "2022-09-04T10:02:31.093Z"
   },
   {
    "duration": 32,
    "start_time": "2022-09-04T10:02:49.841Z"
   },
   {
    "duration": 24,
    "start_time": "2022-09-04T10:05:19.959Z"
   },
   {
    "duration": 22,
    "start_time": "2022-09-04T10:08:13.457Z"
   },
   {
    "duration": 2186,
    "start_time": "2022-09-04T10:18:04.602Z"
   },
   {
    "duration": 1894,
    "start_time": "2022-09-04T10:18:06.795Z"
   },
   {
    "duration": 721,
    "start_time": "2022-09-04T10:18:08.693Z"
   },
   {
    "duration": 29,
    "start_time": "2022-09-04T10:18:09.416Z"
   },
   {
    "duration": 10,
    "start_time": "2022-09-04T10:18:09.446Z"
   },
   {
    "duration": 4,
    "start_time": "2022-09-04T10:18:09.457Z"
   },
   {
    "duration": 46,
    "start_time": "2022-09-04T10:18:09.462Z"
   },
   {
    "duration": 5,
    "start_time": "2022-09-04T10:18:09.510Z"
   },
   {
    "duration": 7,
    "start_time": "2022-09-04T10:18:09.516Z"
   },
   {
    "duration": 225,
    "start_time": "2022-09-04T10:18:09.526Z"
   },
   {
    "duration": 8,
    "start_time": "2022-09-04T10:18:09.752Z"
   },
   {
    "duration": 38,
    "start_time": "2022-09-04T10:18:09.761Z"
   },
   {
    "duration": 119,
    "start_time": "2022-09-04T10:18:09.803Z"
   },
   {
    "duration": 4,
    "start_time": "2022-09-04T10:18:09.924Z"
   },
   {
    "duration": 4,
    "start_time": "2022-09-04T10:18:09.930Z"
   },
   {
    "duration": 68,
    "start_time": "2022-09-04T10:18:09.936Z"
   },
   {
    "duration": 2621,
    "start_time": "2022-09-04T10:18:10.007Z"
   },
   {
    "duration": 6,
    "start_time": "2022-09-04T10:18:12.630Z"
   },
   {
    "duration": 369,
    "start_time": "2022-09-04T10:18:12.637Z"
   },
   {
    "duration": 0,
    "start_time": "2022-09-04T10:18:13.008Z"
   },
   {
    "duration": 0,
    "start_time": "2022-09-04T10:18:13.009Z"
   },
   {
    "duration": 0,
    "start_time": "2022-09-04T10:18:13.010Z"
   },
   {
    "duration": 0,
    "start_time": "2022-09-04T10:18:13.011Z"
   },
   {
    "duration": 0,
    "start_time": "2022-09-04T10:18:13.012Z"
   },
   {
    "duration": 0,
    "start_time": "2022-09-04T10:18:13.013Z"
   },
   {
    "duration": 0,
    "start_time": "2022-09-04T10:18:13.014Z"
   },
   {
    "duration": 0,
    "start_time": "2022-09-04T10:18:13.015Z"
   },
   {
    "duration": 0,
    "start_time": "2022-09-04T10:18:13.017Z"
   },
   {
    "duration": 0,
    "start_time": "2022-09-04T10:18:13.018Z"
   },
   {
    "duration": 0,
    "start_time": "2022-09-04T10:18:13.018Z"
   },
   {
    "duration": 0,
    "start_time": "2022-09-04T10:18:13.019Z"
   },
   {
    "duration": 0,
    "start_time": "2022-09-04T10:18:13.020Z"
   },
   {
    "duration": 0,
    "start_time": "2022-09-04T10:18:13.021Z"
   },
   {
    "duration": 0,
    "start_time": "2022-09-04T10:18:13.022Z"
   },
   {
    "duration": 0,
    "start_time": "2022-09-04T10:18:13.023Z"
   },
   {
    "duration": 0,
    "start_time": "2022-09-04T10:18:13.024Z"
   },
   {
    "duration": 0,
    "start_time": "2022-09-04T10:18:13.025Z"
   },
   {
    "duration": 0,
    "start_time": "2022-09-04T10:18:13.026Z"
   },
   {
    "duration": 0,
    "start_time": "2022-09-04T10:18:13.027Z"
   },
   {
    "duration": 0,
    "start_time": "2022-09-04T10:18:13.028Z"
   },
   {
    "duration": 0,
    "start_time": "2022-09-04T10:18:13.029Z"
   },
   {
    "duration": 525,
    "start_time": "2022-09-04T10:18:29.197Z"
   },
   {
    "duration": 34,
    "start_time": "2022-09-04T10:18:30.522Z"
   },
   {
    "duration": 3,
    "start_time": "2022-09-04T10:18:40.904Z"
   },
   {
    "duration": 27,
    "start_time": "2022-09-04T10:18:42.504Z"
   },
   {
    "duration": 18,
    "start_time": "2022-09-04T10:18:57.713Z"
   },
   {
    "duration": 2217,
    "start_time": "2022-09-04T10:32:56.256Z"
   },
   {
    "duration": 1787,
    "start_time": "2022-09-04T10:32:58.475Z"
   },
   {
    "duration": 730,
    "start_time": "2022-09-04T10:33:00.267Z"
   },
   {
    "duration": 41,
    "start_time": "2022-09-04T10:33:01.002Z"
   },
   {
    "duration": 26,
    "start_time": "2022-09-04T10:33:01.045Z"
   },
   {
    "duration": 34,
    "start_time": "2022-09-04T10:33:01.073Z"
   },
   {
    "duration": 25,
    "start_time": "2022-09-04T10:33:01.109Z"
   },
   {
    "duration": 24,
    "start_time": "2022-09-04T10:33:01.136Z"
   },
   {
    "duration": 11,
    "start_time": "2022-09-04T10:33:01.163Z"
   },
   {
    "duration": 240,
    "start_time": "2022-09-04T10:33:01.176Z"
   },
   {
    "duration": 7,
    "start_time": "2022-09-04T10:33:01.418Z"
   },
   {
    "duration": 63,
    "start_time": "2022-09-04T10:33:01.427Z"
   },
   {
    "duration": 157,
    "start_time": "2022-09-04T10:33:01.491Z"
   },
   {
    "duration": 4,
    "start_time": "2022-09-04T10:33:01.649Z"
   },
   {
    "duration": 16,
    "start_time": "2022-09-04T10:33:01.655Z"
   },
   {
    "duration": 84,
    "start_time": "2022-09-04T10:33:01.673Z"
   },
   {
    "duration": 2550,
    "start_time": "2022-09-04T10:33:01.759Z"
   },
   {
    "duration": 561,
    "start_time": "2022-09-04T10:33:04.310Z"
   },
   {
    "duration": 3,
    "start_time": "2022-09-04T10:33:04.872Z"
   },
   {
    "duration": 1908,
    "start_time": "2022-09-05T08:21:19.398Z"
   },
   {
    "duration": 3262,
    "start_time": "2022-09-05T08:21:21.308Z"
   },
   {
    "duration": 33,
    "start_time": "2022-09-05T08:21:24.575Z"
   },
   {
    "duration": 12,
    "start_time": "2022-09-05T08:21:24.611Z"
   },
   {
    "duration": 4,
    "start_time": "2022-09-05T08:21:24.624Z"
   },
   {
    "duration": 39,
    "start_time": "2022-09-05T08:21:24.630Z"
   },
   {
    "duration": 2,
    "start_time": "2022-09-05T08:21:24.671Z"
   },
   {
    "duration": 255,
    "start_time": "2022-09-05T08:21:24.675Z"
   },
   {
    "duration": 7,
    "start_time": "2022-09-05T08:21:24.932Z"
   },
   {
    "duration": 38,
    "start_time": "2022-09-05T08:21:24.941Z"
   },
   {
    "duration": 116,
    "start_time": "2022-09-05T08:21:24.981Z"
   },
   {
    "duration": 4,
    "start_time": "2022-09-05T08:21:25.098Z"
   },
   {
    "duration": 878,
    "start_time": "2022-09-05T08:21:25.105Z"
   },
   {
    "duration": 3,
    "start_time": "2022-09-05T08:21:25.984Z"
   },
   {
    "duration": 6,
    "start_time": "2022-09-05T08:21:25.989Z"
   },
   {
    "duration": 121603,
    "start_time": "2022-09-05T08:21:25.997Z"
   },
   {
    "duration": 31,
    "start_time": "2022-09-05T08:23:27.601Z"
   },
   {
    "duration": 8,
    "start_time": "2022-09-05T08:23:27.634Z"
   },
   {
    "duration": 61,
    "start_time": "2022-09-05T08:23:27.643Z"
   },
   {
    "duration": 6232,
    "start_time": "2022-09-05T08:23:27.706Z"
   },
   {
    "duration": 164730,
    "start_time": "2022-09-05T08:23:33.940Z"
   },
   {
    "duration": 444,
    "start_time": "2022-09-05T08:26:18.671Z"
   },
   {
    "duration": 2,
    "start_time": "2022-09-05T08:26:19.116Z"
   },
   {
    "duration": 8954,
    "start_time": "2022-09-05T08:26:19.119Z"
   },
   {
    "duration": 4594,
    "start_time": "2022-09-05T08:26:28.075Z"
   },
   {
    "duration": 3,
    "start_time": "2022-09-05T08:26:32.671Z"
   },
   {
    "duration": 10,
    "start_time": "2022-09-05T08:26:32.676Z"
   },
   {
    "duration": 885,
    "start_time": "2022-09-05T08:26:32.688Z"
   },
   {
    "duration": 1806,
    "start_time": "2022-09-05T08:26:33.575Z"
   },
   {
    "duration": 27,
    "start_time": "2022-09-05T08:26:35.383Z"
   },
   {
    "duration": 7,
    "start_time": "2022-09-05T08:26:35.414Z"
   }
  ],
  "kernelspec": {
   "display_name": "Python 3 (ipykernel)",
   "language": "python",
   "name": "python3"
  },
  "language_info": {
   "codemirror_mode": {
    "name": "ipython",
    "version": 3
   },
   "file_extension": ".py",
   "mimetype": "text/x-python",
   "name": "python",
   "nbconvert_exporter": "python",
   "pygments_lexer": "ipython3",
   "version": "3.9.5"
  },
  "toc": {
   "base_numbering": 1,
   "nav_menu": {},
   "number_sections": true,
   "sideBar": true,
   "skip_h1_title": true,
   "title_cell": "Содержание",
   "title_sidebar": "Contents",
   "toc_cell": true,
   "toc_position": {
    "height": "calc(100% - 180px)",
    "left": "10px",
    "top": "150px",
    "width": "302.391px"
   },
   "toc_section_display": true,
   "toc_window_display": false
  }
 },
 "nbformat": 4,
 "nbformat_minor": 2
}
